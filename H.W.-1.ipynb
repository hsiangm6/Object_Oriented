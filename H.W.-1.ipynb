{
 "cells": [
  {
   "cell_type": "markdown",
   "id": "8ee487e6",
   "metadata": {},
   "source": [
    "# NumPy Arrays"
   ]
  },
  {
   "cell_type": "code",
   "execution_count": 2,
   "id": "784e7153",
   "metadata": {},
   "outputs": [],
   "source": [
    "import numpy as np"
   ]
  },
  {
   "cell_type": "markdown",
   "id": "a297be94",
   "metadata": {},
   "source": [
    "## **Q1- Create one dimensional array using python list**\n",
    "- Data type needs to be float64 \n",
    "- Print dtype, shape, size, dimension, and memory consumption of each element and total array"
   ]
  },
  {
   "cell_type": "code",
   "execution_count": 25,
   "id": "b025a31a",
   "metadata": {},
   "outputs": [],
   "source": [
    "#create\n",
    "import numpy as np\n",
    "a=np.array([1, 2, 3, 4, 5], dtype='float64')"
   ]
  },
  {
   "cell_type": "code",
   "execution_count": 4,
   "id": "d0b78075",
   "metadata": {},
   "outputs": [
    {
     "name": "stdout",
     "output_type": "stream",
     "text": [
      "Data type =  float64\n",
      "Shape =  (5,)\n",
      "Size =  5\n",
      "Dimension :  1\n",
      "Each element memory size =  8\n",
      "Total array memory size =  40\n"
     ]
    }
   ],
   "source": [
    "# print\n",
    "print(\"Data type = \", a.dtype)\n",
    "print(\"Shape = \", a.shape)\n",
    "print(\"Size = \", a.size)\n",
    "print(\"Dimension : \", a.ndim)\n",
    "print(\"Each element memory size = \", a.itemsize)\n",
    "print(\"Total array memory size = \" , a.nbytes)"
   ]
  },
  {
   "cell_type": "markdown",
   "id": "82d699e6",
   "metadata": {},
   "source": [
    "## **Q2- Create two dimensional array using python list**\n",
    "- Print dtype, shape, size, dimension, and memory consumption of each element and total array"
   ]
  },
  {
   "cell_type": "code",
   "execution_count": 5,
   "id": "c001cdb7",
   "metadata": {},
   "outputs": [],
   "source": [
    "#create\n",
    "b=np.array([[1, 2, 3],[4, 5, 6]], dtype='int64')"
   ]
  },
  {
   "cell_type": "code",
   "execution_count": 6,
   "id": "aede4f26",
   "metadata": {},
   "outputs": [
    {
     "name": "stdout",
     "output_type": "stream",
     "text": [
      "Data type =  int64\n",
      "Shape =  (2, 3)\n",
      "Size =  6\n",
      "Dimension :  2\n",
      "Each element memory size =  8\n",
      "Total array memory size =  48\n"
     ]
    }
   ],
   "source": [
    "#print\n",
    "print(\"Data type = \", b.dtype)\n",
    "print(\"Shape = \", b.shape)\n",
    "print(\"Size = \", b.size)\n",
    "print(\"Dimension : \", b.ndim)\n",
    "print(\"Each element memory size = \", b.itemsize)\n",
    "print(\"Total array memory size = \" , b.nbytes)"
   ]
  },
  {
   "cell_type": "markdown",
   "id": "969e71b4",
   "metadata": {},
   "source": [
    "## **Q3- Create a length of 10 integer array filled with zeros**"
   ]
  },
  {
   "cell_type": "code",
   "execution_count": 7,
   "id": "acb15aba",
   "metadata": {},
   "outputs": [
    {
     "data": {
      "text/plain": [
       "array([0, 0, 0, 0, 0, 0, 0, 0, 0, 0])"
      ]
     },
     "execution_count": 7,
     "metadata": {},
     "output_type": "execute_result"
    }
   ],
   "source": [
    "np.zeros(10, dtype='int')"
   ]
  },
  {
   "cell_type": "markdown",
   "id": "6b423b6d",
   "metadata": {},
   "source": [
    "## **Q4- Create a 4X5 floating point array filled with 1s**"
   ]
  },
  {
   "cell_type": "code",
   "execution_count": 8,
   "id": "3996c95b",
   "metadata": {},
   "outputs": [
    {
     "data": {
      "text/plain": [
       "array([[1., 1., 1., 1., 1.],\n",
       "       [1., 1., 1., 1., 1.],\n",
       "       [1., 1., 1., 1., 1.],\n",
       "       [1., 1., 1., 1., 1.]])"
      ]
     },
     "execution_count": 8,
     "metadata": {},
     "output_type": "execute_result"
    }
   ],
   "source": [
    "np.ones((4, 5), dtype='float')"
   ]
  },
  {
   "cell_type": "markdown",
   "id": "04bc7123",
   "metadata": {},
   "source": [
    "## **Q5- Create a 3x3 identity matrix**\n",
    "- Data type: int"
   ]
  },
  {
   "cell_type": "code",
   "execution_count": 9,
   "id": "8c79ec31",
   "metadata": {},
   "outputs": [
    {
     "data": {
      "text/plain": [
       "array([[1, 0, 0],\n",
       "       [0, 1, 0],\n",
       "       [0, 0, 1]])"
      ]
     },
     "execution_count": 9,
     "metadata": {},
     "output_type": "execute_result"
    }
   ],
   "source": [
    "np.array([[1, 0, 0], [0, 1, 0], [0, 0, 1]])\n"
   ]
  },
  {
   "cell_type": "markdown",
   "id": "b4b96321",
   "metadata": {},
   "source": [
    "## **Q6- Create a one dimensional array of length 10**\n",
    "- Use numpy function arange to create the array\n",
    "- Assign new value (12) at the index of 5,6,7"
   ]
  },
  {
   "cell_type": "code",
   "execution_count": 13,
   "id": "bdf42ebf",
   "metadata": {},
   "outputs": [],
   "source": [
    "#create\n",
    "c=np.arange(0, 10)\n"
   ]
  },
  {
   "cell_type": "code",
   "execution_count": 17,
   "id": "e52f8add",
   "metadata": {},
   "outputs": [
    {
     "data": {
      "text/plain": [
       "array([ 0,  1,  2,  3,  4, 12, 12, 12,  8,  9])"
      ]
     },
     "execution_count": 17,
     "metadata": {},
     "output_type": "execute_result"
    }
   ],
   "source": [
    "#asign\n",
    "c[5]=12\n",
    "c[6]=12\n",
    "c[7]=12\n",
    "c"
   ]
  },
  {
   "cell_type": "markdown",
   "id": "b000e17a",
   "metadata": {},
   "source": [
    "## **Q7- Create a 3x3 array**\n",
    "- a. Use numpy function arange and reshape() to create the array\n",
    "- b. Select the first two rows of array\n",
    "- c. Select the second row but only the first two columns \n",
    "- d. Select the third column but only the first two rows\n",
    "- e. Select the first column only\n",
    "- f. Assign the new value 15 to the last element of third row and third column and print the array"
   ]
  },
  {
   "cell_type": "code",
   "execution_count": 3,
   "id": "789ee028",
   "metadata": {},
   "outputs": [],
   "source": [
    "# a.\n",
    "# code\n",
    "arr3=np.arange(1, 10).reshape(3, 3)"
   ]
  },
  {
   "cell_type": "code",
   "execution_count": 34,
   "id": "262bb74b",
   "metadata": {},
   "outputs": [
    {
     "data": {
      "text/plain": [
       "array([[1, 2, 3],\n",
       "       [4, 5, 6],\n",
       "       [7, 8, 9]])"
      ]
     },
     "execution_count": 34,
     "metadata": {},
     "output_type": "execute_result"
    }
   ],
   "source": [
    "#print\n",
    "arr3"
   ]
  },
  {
   "cell_type": "code",
   "execution_count": 35,
   "id": "45600369",
   "metadata": {},
   "outputs": [
    {
     "data": {
      "text/plain": [
       "array([[1, 2, 3],\n",
       "       [4, 5, 6],\n",
       "       [7, 8, 9]])"
      ]
     },
     "execution_count": 35,
     "metadata": {},
     "output_type": "execute_result"
    }
   ],
   "source": [
    "arr3"
   ]
  },
  {
   "cell_type": "code",
   "execution_count": 4,
   "id": "8382c9d2",
   "metadata": {},
   "outputs": [
    {
     "data": {
      "text/plain": [
       "array([[1, 2, 3],\n",
       "       [4, 5, 6]])"
      ]
     },
     "execution_count": 4,
     "metadata": {},
     "output_type": "execute_result"
    }
   ],
   "source": [
    "# b.\n",
    "arr3[0:2]"
   ]
  },
  {
   "cell_type": "code",
   "execution_count": 37,
   "id": "88e07ba0",
   "metadata": {},
   "outputs": [
    {
     "data": {
      "text/plain": [
       "array([4, 5])"
      ]
     },
     "execution_count": 37,
     "metadata": {},
     "output_type": "execute_result"
    }
   ],
   "source": [
    "# c.\n",
    "arr3[1, 0:2]"
   ]
  },
  {
   "cell_type": "code",
   "execution_count": 38,
   "id": "430ceb9c",
   "metadata": {},
   "outputs": [
    {
     "data": {
      "text/plain": [
       "array([3, 6])"
      ]
     },
     "execution_count": 38,
     "metadata": {},
     "output_type": "execute_result"
    }
   ],
   "source": [
    "# d.\n",
    "arr3[0:2, 2]"
   ]
  },
  {
   "cell_type": "code",
   "execution_count": 40,
   "id": "f3786f9a",
   "metadata": {},
   "outputs": [
    {
     "data": {
      "text/plain": [
       "array([[1],\n",
       "       [4],\n",
       "       [7]])"
      ]
     },
     "execution_count": 40,
     "metadata": {},
     "output_type": "execute_result"
    }
   ],
   "source": [
    "# e.\n",
    "arr3[:, 0].reshape(3,1)"
   ]
  },
  {
   "cell_type": "code",
   "execution_count": 66,
   "id": "bb288591",
   "metadata": {},
   "outputs": [],
   "source": [
    "# f.\n",
    "arr3[2,2]=15"
   ]
  },
  {
   "cell_type": "code",
   "execution_count": 67,
   "id": "2afe4e2d",
   "metadata": {},
   "outputs": [
    {
     "data": {
      "text/plain": [
       "array([[ 1,  2,  3],\n",
       "       [ 4,  5,  6],\n",
       "       [ 7,  8, 15]])"
      ]
     },
     "execution_count": 67,
     "metadata": {},
     "output_type": "execute_result"
    }
   ],
   "source": [
    "arr3\n"
   ]
  },
  {
   "cell_type": "markdown",
   "id": "6d792bfa",
   "metadata": {},
   "source": [
    "## **Q8- Create two arrays of 3x1 and 3x3 shape**\n",
    "- Join both the arrays horizontally and store the result in variable concat\n",
    "- Split the concat array into 2x3 and 1x3 shape"
   ]
  },
  {
   "cell_type": "code",
   "execution_count": 43,
   "id": "c7985a41",
   "metadata": {},
   "outputs": [],
   "source": [
    "#code\n",
    "x1=np.array([97, 98, 99]).reshape(3, 1)"
   ]
  },
  {
   "cell_type": "code",
   "execution_count": 44,
   "id": "ec0ee2a8",
   "metadata": {},
   "outputs": [
    {
     "data": {
      "text/plain": [
       "array([[97],\n",
       "       [98],\n",
       "       [99]])"
      ]
     },
     "execution_count": 44,
     "metadata": {},
     "output_type": "execute_result"
    }
   ],
   "source": [
    "#print\n",
    "x1"
   ]
  },
  {
   "cell_type": "code",
   "execution_count": 45,
   "id": "ad0fa454",
   "metadata": {},
   "outputs": [],
   "source": [
    "#code\n",
    "x2=np.arange(1, 10).reshape(3, 3)"
   ]
  },
  {
   "cell_type": "code",
   "execution_count": 46,
   "id": "17e66098",
   "metadata": {},
   "outputs": [
    {
     "data": {
      "text/plain": [
       "array([[1, 2, 3],\n",
       "       [4, 5, 6],\n",
       "       [7, 8, 9]])"
      ]
     },
     "execution_count": 46,
     "metadata": {},
     "output_type": "execute_result"
    }
   ],
   "source": [
    "#print\n",
    "x2"
   ]
  },
  {
   "cell_type": "code",
   "execution_count": 47,
   "id": "fff8084e",
   "metadata": {},
   "outputs": [],
   "source": [
    "#code\n",
    "x3=np.hstack([x1, x2])"
   ]
  },
  {
   "cell_type": "code",
   "execution_count": 48,
   "id": "0f621d2d",
   "metadata": {},
   "outputs": [
    {
     "data": {
      "text/plain": [
       "array([[97,  1,  2,  3],\n",
       "       [98,  4,  5,  6],\n",
       "       [99,  7,  8,  9]])"
      ]
     },
     "execution_count": 48,
     "metadata": {},
     "output_type": "execute_result"
    }
   ],
   "source": [
    "#print\n",
    "x3"
   ]
  },
  {
   "cell_type": "code",
   "execution_count": 65,
   "id": "5d1d8f2f",
   "metadata": {},
   "outputs": [
    {
     "data": {
      "text/plain": [
       "[array([[97,  1,  2,  3],\n",
       "        [98,  4,  5,  6]]),\n",
       " array([[99,  7,  8,  9]])]"
      ]
     },
     "execution_count": 65,
     "metadata": {},
     "output_type": "execute_result"
    }
   ],
   "source": [
    "np.split(x3, [2])"
   ]
  },
  {
   "cell_type": "code",
   "execution_count": 63,
   "id": "379a674b",
   "metadata": {},
   "outputs": [
    {
     "data": {
      "text/plain": [
       "[array([[97,  1],\n",
       "        [98,  4],\n",
       "        [99,  7]]),\n",
       " array([[2, 3],\n",
       "        [5, 6],\n",
       "        [8, 9]])]"
      ]
     },
     "execution_count": 63,
     "metadata": {},
     "output_type": "execute_result"
    }
   ],
   "source": [
    "np.hsplit(x3, [2])"
   ]
  },
  {
   "cell_type": "code",
   "execution_count": 64,
   "id": "79c113fe",
   "metadata": {},
   "outputs": [
    {
     "data": {
      "text/plain": [
       "[array([[97,  1,  2],\n",
       "        [98,  4,  5],\n",
       "        [99,  7,  8]]),\n",
       " array([[3],\n",
       "        [6],\n",
       "        [9]])]"
      ]
     },
     "execution_count": 64,
     "metadata": {},
     "output_type": "execute_result"
    }
   ],
   "source": [
    "np.hsplit(x3, [3])"
   ]
  }
 ],
 "metadata": {
  "interpreter": {
   "hash": "eb6335f86049935ab3a1e6168a640c161cd4c2d3c8bde3a37ebd86b9bd3e1c1e"
  },
  "kernelspec": {
   "display_name": "Python 3.10.2 64-bit",
   "language": "python",
   "name": "python3"
  },
  "language_info": {
   "codemirror_mode": {
    "name": "ipython",
    "version": 3
   },
   "file_extension": ".py",
   "mimetype": "text/x-python",
   "name": "python",
   "nbconvert_exporter": "python",
   "pygments_lexer": "ipython3",
   "version": "3.10.2"
  },
  "toc": {
   "base_numbering": 1,
   "nav_menu": {},
   "number_sections": true,
   "sideBar": true,
   "skip_h1_title": false,
   "title_cell": "Table of Contents",
   "title_sidebar": "Contents",
   "toc_cell": false,
   "toc_position": {},
   "toc_section_display": true,
   "toc_window_display": true
  },
  "vscode": {
   "interpreter": {
    "hash": "23b4a3e8622309bcc6db3d5cc6eb73d60ab98d9ec23bad6a26b709981ccb403a"
   }
  }
 },
 "nbformat": 4,
 "nbformat_minor": 5
}
