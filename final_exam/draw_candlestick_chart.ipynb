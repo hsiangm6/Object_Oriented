{
 "cells": [
  {
   "cell_type": "markdown",
   "metadata": {},
   "source": [
    "繪製K線圖: https://ithelp.ithome.com.tw/articles/10206894"
   ]
  },
  {
   "cell_type": "code",
   "execution_count": null,
   "metadata": {},
   "outputs": [],
   "source": []
  }
 ],
 "metadata": {
  "language_info": {
   "name": "python"
  },
  "orig_nbformat": 4
 },
 "nbformat": 4,
 "nbformat_minor": 2
}
