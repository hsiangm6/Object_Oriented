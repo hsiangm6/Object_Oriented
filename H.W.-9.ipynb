{
  "cells": [
    {
      "cell_type": "markdown",
      "id": "65ad4f43",
      "metadata": {
        "id": "65ad4f43"
      },
      "source": [
        "# import relate packages"
      ]
    },
    {
      "cell_type": "code",
      "execution_count": 23,
      "id": "e7d636a9",
      "metadata": {
        "ExecuteTime": {
          "end_time": "2022-12-03T05:09:19.443080Z",
          "start_time": "2022-12-03T05:09:18.427421Z"
        },
        "id": "e7d636a9"
      },
      "outputs": [],
      "source": [
        "# import relate packages\n",
        "import numpy as np\n",
        "import pandas as pd\n",
        "from sklearn import datasets\n",
        "from sklearn.metrics import mean_squared_error\n",
        "from sklearn.metrics import classification_report, confusion_matrix\n",
        "import warnings\n",
        "warnings.filterwarnings('ignore')"
      ]
    },
    {
      "cell_type": "markdown",
      "id": "55f637db",
      "metadata": {
        "id": "55f637db"
      },
      "source": [
        "## Run before answer"
      ]
    },
    {
      "cell_type": "code",
      "execution_count": 24,
      "id": "0207ce4b",
      "metadata": {
        "ExecuteTime": {
          "end_time": "2022-12-03T05:22:17.750959Z",
          "start_time": "2022-12-03T05:22:17.741022Z"
        },
        "id": "0207ce4b"
      },
      "outputs": [],
      "source": [
        "A1 = [\n",
        "{'price': 850000, 'rooms': 4, 'neighborhood': 'Queen Anne'},\n",
        "{'price': 700000, 'rooms': 3, 'neighborhood': 'Fremont'},\n",
        "{'price': 650000, 'rooms': 3, 'neighborhood': 'Wallingford'},\n",
        "{'price': 600000, 'rooms': 2, 'neighborhood': 'Fremont'}]\n",
        "\n",
        "B1 = [\"Human machine interface for lab computer\",\n",
        "\"A survey of user opinion of computer system\",\n",
        "\"User interface management system\",\n",
        "\"Graph minors A survey\"]\n",
        "\n",
        "from numpy import nan\n",
        "\n",
        "C1 = np.array([[ nan, 0, 3 ],\n",
        "                [ 3, 7, 9 ],\n",
        "                [ 3, 5, 2 ],\n",
        "                [ 4, nan, 6 ],\n",
        "                [ 8, 8, 1 ]])"
      ]
    },
    {
      "cell_type": "markdown",
      "id": "6264276d",
      "metadata": {
        "id": "6264276d"
      },
      "source": [
        "# Q1: Feature Engineering - Categorical Features"
      ]
    },
    {
      "cell_type": "markdown",
      "id": "a953331e",
      "metadata": {
        "id": "a953331e"
      },
      "source": [
        "- a. print A1\n",
        "- b. import DictVectorizer from sklearn\n",
        "- c. Vectorize the A1 with sparse=False, and print\n",
        "- d. Vectorize the A1 with sparse=True, and print\n",
        "- e. print the feature name of c. or d."
      ]
    },
    {
      "cell_type": "markdown",
      "id": "a509ba57",
      "metadata": {
        "id": "a509ba57"
      },
      "source": [
        "## Q1a print A1"
      ]
    },
    {
      "cell_type": "code",
      "execution_count": 25,
      "id": "6b48ed64",
      "metadata": {
        "ExecuteTime": {
          "end_time": "2022-12-03T03:39:06.866500Z",
          "start_time": "2022-12-03T03:39:06.860702Z"
        },
        "id": "6b48ed64"
      },
      "outputs": [
        {
          "name": "stdout",
          "output_type": "stream",
          "text": [
            "[{'price': 850000, 'rooms': 4, 'neighborhood': 'Queen Anne'}, {'price': 700000, 'rooms': 3, 'neighborhood': 'Fremont'}, {'price': 650000, 'rooms': 3, 'neighborhood': 'Wallingford'}, {'price': 600000, 'rooms': 2, 'neighborhood': 'Fremont'}]\n"
          ]
        }
      ],
      "source": [
        "## here for print code\n",
        "print(A1)"
      ]
    },
    {
      "cell_type": "markdown",
      "id": "b58878a3",
      "metadata": {
        "id": "b58878a3"
      },
      "source": [
        "## Q1b import DictVectorizer from sklearn"
      ]
    },
    {
      "cell_type": "code",
      "execution_count": 26,
      "id": "378eba58",
      "metadata": {
        "ExecuteTime": {
          "end_time": "2022-12-03T03:40:06.816740Z",
          "start_time": "2022-12-03T03:40:06.812388Z"
        },
        "id": "378eba58"
      },
      "outputs": [],
      "source": [
        "## here for import code\n",
        "from sklearn.feature_extraction import DictVectorizer"
      ]
    },
    {
      "cell_type": "markdown",
      "id": "6447dea8",
      "metadata": {
        "ExecuteTime": {
          "end_time": "2022-12-03T03:26:55.218500Z",
          "start_time": "2022-12-03T03:26:55.207053Z"
        },
        "id": "6447dea8"
      },
      "source": [
        "## Q1c Vectorize the A1 with sparse=False, and print"
      ]
    },
    {
      "cell_type": "code",
      "execution_count": 27,
      "id": "2d2c0501",
      "metadata": {
        "ExecuteTime": {
          "end_time": "2022-12-03T03:42:15.912372Z",
          "start_time": "2022-12-03T03:42:15.898014Z"
        },
        "id": "2d2c0501"
      },
      "outputs": [
        {
          "data": {
            "text/plain": [
              "array([[     0,      1,      0, 850000,      4],\n",
              "       [     1,      0,      0, 700000,      3],\n",
              "       [     0,      0,      1, 650000,      3],\n",
              "       [     1,      0,      0, 600000,      2]])"
            ]
          },
          "execution_count": 27,
          "metadata": {},
          "output_type": "execute_result"
        }
      ],
      "source": [
        "## here for print code\n",
        "vec_1c = DictVectorizer(sparse=False, dtype=int)\n",
        "vec_1c.fit_transform(A1)"
      ]
    },
    {
      "cell_type": "markdown",
      "id": "9766e11d",
      "metadata": {
        "id": "9766e11d"
      },
      "source": [
        "## Q1d Vectorize the A1 with sparse=True, and print"
      ]
    },
    {
      "cell_type": "code",
      "execution_count": 28,
      "id": "a3aa3819",
      "metadata": {
        "ExecuteTime": {
          "end_time": "2022-12-03T03:43:24.446889Z",
          "start_time": "2022-12-03T03:43:24.437868Z"
        },
        "id": "a3aa3819"
      },
      "outputs": [
        {
          "name": "stdout",
          "output_type": "stream",
          "text": [
            "  (0, 1)\t1\n",
            "  (0, 3)\t850000\n",
            "  (0, 4)\t4\n",
            "  (1, 0)\t1\n",
            "  (1, 3)\t700000\n",
            "  (1, 4)\t3\n",
            "  (2, 2)\t1\n",
            "  (2, 3)\t650000\n",
            "  (2, 4)\t3\n",
            "  (3, 0)\t1\n",
            "  (3, 3)\t600000\n",
            "  (3, 4)\t2\n"
          ]
        }
      ],
      "source": [
        "## here for print code\n",
        "vec_1d = DictVectorizer(sparse=True, dtype=int)\n",
        "print(vec_1d.fit_transform(A1))"
      ]
    },
    {
      "cell_type": "markdown",
      "id": "0dbf17d4",
      "metadata": {
        "id": "0dbf17d4"
      },
      "source": [
        "## Q1e print the feature name of c. or d."
      ]
    },
    {
      "cell_type": "code",
      "execution_count": 29,
      "id": "dea12eda",
      "metadata": {
        "ExecuteTime": {
          "end_time": "2022-12-03T03:44:48.857346Z",
          "start_time": "2022-12-03T03:44:48.850700Z"
        },
        "id": "dea12eda"
      },
      "outputs": [
        {
          "name": "stdout",
          "output_type": "stream",
          "text": [
            "['neighborhood=Fremont', 'neighborhood=Queen Anne', 'neighborhood=Wallingford', 'price', 'rooms']\n",
            "['neighborhood=Fremont', 'neighborhood=Queen Anne', 'neighborhood=Wallingford', 'price', 'rooms']\n"
          ]
        }
      ],
      "source": [
        "## here for print code\n",
        "print(vec_1c.get_feature_names())\n",
        "print(vec_1d.get_feature_names())"
      ]
    },
    {
      "cell_type": "markdown",
      "id": "4303b9cb",
      "metadata": {
        "id": "4303b9cb"
      },
      "source": [
        "# Q2: Feature Engineering - Text Features"
      ]
    },
    {
      "cell_type": "markdown",
      "id": "219d3da8",
      "metadata": {
        "id": "219d3da8"
      },
      "source": [
        "- a. print B1\n",
        "- b. import CountVectorizer from sklearn\n",
        "- c. CountVectorize the B1, then print it\n",
        "- d. print the feature name of Q2c.\n",
        "- e. using pandas dataframe to print the result of Q2c.(with feature name)\n",
        "- f. import TfidfVectorizer from sklearn\n",
        "- g. TfidfVectorize the B1, then print it by pandas dataframe(with feature name)"
      ]
    },
    {
      "cell_type": "markdown",
      "id": "0d2b2d32",
      "metadata": {
        "id": "0d2b2d32"
      },
      "source": [
        "## Q2a print B1"
      ]
    },
    {
      "cell_type": "code",
      "execution_count": 30,
      "id": "480a4113",
      "metadata": {
        "ExecuteTime": {
          "end_time": "2022-12-03T05:22:22.537072Z",
          "start_time": "2022-12-03T05:22:22.531512Z"
        },
        "id": "480a4113"
      },
      "outputs": [
        {
          "name": "stdout",
          "output_type": "stream",
          "text": [
            "['Human machine interface for lab computer', 'A survey of user opinion of computer system', 'User interface management system', 'Graph minors A survey']\n"
          ]
        }
      ],
      "source": [
        "## here for print code\n",
        "print(B1)"
      ]
    },
    {
      "cell_type": "markdown",
      "id": "8d00d07e",
      "metadata": {
        "id": "8d00d07e"
      },
      "source": [
        "# Q2b import CountVectorizer from sklearn"
      ]
    },
    {
      "cell_type": "code",
      "execution_count": 31,
      "id": "c41938f2",
      "metadata": {
        "ExecuteTime": {
          "end_time": "2022-12-03T05:22:25.057502Z",
          "start_time": "2022-12-03T05:22:24.668425Z"
        },
        "id": "c41938f2"
      },
      "outputs": [],
      "source": [
        "## here for import code\n",
        "from sklearn.feature_extraction.text import CountVectorizer"
      ]
    },
    {
      "cell_type": "markdown",
      "id": "f662f658",
      "metadata": {
        "id": "f662f658"
      },
      "source": [
        "## Q2c CountVectorize the B1, then print it"
      ]
    },
    {
      "cell_type": "code",
      "execution_count": 32,
      "id": "1d0c10c0",
      "metadata": {
        "ExecuteTime": {
          "end_time": "2022-12-03T05:22:26.528676Z",
          "start_time": "2022-12-03T05:22:26.514766Z"
        },
        "id": "1d0c10c0"
      },
      "outputs": [
        {
          "name": "stdout",
          "output_type": "stream",
          "text": [
            "  (0, 3)\t1\n",
            "  (0, 6)\t1\n",
            "  (0, 4)\t1\n",
            "  (0, 1)\t1\n",
            "  (0, 5)\t1\n",
            "  (0, 0)\t1\n",
            "  (1, 0)\t1\n",
            "  (1, 11)\t1\n",
            "  (1, 9)\t2\n",
            "  (1, 13)\t1\n",
            "  (1, 10)\t1\n",
            "  (1, 12)\t1\n",
            "  (2, 4)\t1\n",
            "  (2, 13)\t1\n",
            "  (2, 12)\t1\n",
            "  (2, 7)\t1\n",
            "  (3, 11)\t1\n",
            "  (3, 2)\t1\n",
            "  (3, 8)\t1\n"
          ]
        }
      ],
      "source": [
        "## here for print code\n",
        "vec_2c = CountVectorizer()\n",
        "B1_vec = vec_2c.fit_transform(B1)\n",
        "print(B1_vec)"
      ]
    },
    {
      "cell_type": "markdown",
      "id": "cd91fb47",
      "metadata": {
        "id": "cd91fb47"
      },
      "source": [
        "## Q2d print the feature name of Q2c."
      ]
    },
    {
      "cell_type": "code",
      "execution_count": 33,
      "id": "970e37c4",
      "metadata": {
        "ExecuteTime": {
          "end_time": "2022-12-03T05:22:28.572360Z",
          "start_time": "2022-12-03T05:22:28.565752Z"
        },
        "id": "970e37c4"
      },
      "outputs": [
        {
          "data": {
            "text/plain": [
              "['computer',\n",
              " 'for',\n",
              " 'graph',\n",
              " 'human',\n",
              " 'interface',\n",
              " 'lab',\n",
              " 'machine',\n",
              " 'management',\n",
              " 'minors',\n",
              " 'of',\n",
              " 'opinion',\n",
              " 'survey',\n",
              " 'system',\n",
              " 'user']"
            ]
          },
          "execution_count": 33,
          "metadata": {},
          "output_type": "execute_result"
        }
      ],
      "source": [
        "## here for print code\n",
        "vec_2c.get_feature_names()\n"
      ]
    },
    {
      "cell_type": "markdown",
      "id": "63fb7f7a",
      "metadata": {
        "id": "63fb7f7a"
      },
      "source": [
        "# Q2e using pandas dataframe to print the result of Q2c.(with feature name)"
      ]
    },
    {
      "cell_type": "code",
      "execution_count": 34,
      "id": "3c4b3c5d",
      "metadata": {
        "ExecuteTime": {
          "end_time": "2022-12-03T05:22:30.859613Z",
          "start_time": "2022-12-03T05:22:30.507204Z"
        },
        "id": "3c4b3c5d"
      },
      "outputs": [
        {
          "data": {
            "text/html": [
              "<div>\n",
              "<style scoped>\n",
              "    .dataframe tbody tr th:only-of-type {\n",
              "        vertical-align: middle;\n",
              "    }\n",
              "\n",
              "    .dataframe tbody tr th {\n",
              "        vertical-align: top;\n",
              "    }\n",
              "\n",
              "    .dataframe thead th {\n",
              "        text-align: right;\n",
              "    }\n",
              "</style>\n",
              "<table border=\"1\" class=\"dataframe\">\n",
              "  <thead>\n",
              "    <tr style=\"text-align: right;\">\n",
              "      <th></th>\n",
              "      <th>computer</th>\n",
              "      <th>for</th>\n",
              "      <th>graph</th>\n",
              "      <th>human</th>\n",
              "      <th>interface</th>\n",
              "      <th>lab</th>\n",
              "      <th>machine</th>\n",
              "      <th>management</th>\n",
              "      <th>minors</th>\n",
              "      <th>of</th>\n",
              "      <th>opinion</th>\n",
              "      <th>survey</th>\n",
              "      <th>system</th>\n",
              "      <th>user</th>\n",
              "    </tr>\n",
              "  </thead>\n",
              "  <tbody>\n",
              "    <tr>\n",
              "      <th>0</th>\n",
              "      <td>1</td>\n",
              "      <td>1</td>\n",
              "      <td>0</td>\n",
              "      <td>1</td>\n",
              "      <td>1</td>\n",
              "      <td>1</td>\n",
              "      <td>1</td>\n",
              "      <td>0</td>\n",
              "      <td>0</td>\n",
              "      <td>0</td>\n",
              "      <td>0</td>\n",
              "      <td>0</td>\n",
              "      <td>0</td>\n",
              "      <td>0</td>\n",
              "    </tr>\n",
              "    <tr>\n",
              "      <th>1</th>\n",
              "      <td>1</td>\n",
              "      <td>0</td>\n",
              "      <td>0</td>\n",
              "      <td>0</td>\n",
              "      <td>0</td>\n",
              "      <td>0</td>\n",
              "      <td>0</td>\n",
              "      <td>0</td>\n",
              "      <td>0</td>\n",
              "      <td>2</td>\n",
              "      <td>1</td>\n",
              "      <td>1</td>\n",
              "      <td>1</td>\n",
              "      <td>1</td>\n",
              "    </tr>\n",
              "    <tr>\n",
              "      <th>2</th>\n",
              "      <td>0</td>\n",
              "      <td>0</td>\n",
              "      <td>0</td>\n",
              "      <td>0</td>\n",
              "      <td>1</td>\n",
              "      <td>0</td>\n",
              "      <td>0</td>\n",
              "      <td>1</td>\n",
              "      <td>0</td>\n",
              "      <td>0</td>\n",
              "      <td>0</td>\n",
              "      <td>0</td>\n",
              "      <td>1</td>\n",
              "      <td>1</td>\n",
              "    </tr>\n",
              "    <tr>\n",
              "      <th>3</th>\n",
              "      <td>0</td>\n",
              "      <td>0</td>\n",
              "      <td>1</td>\n",
              "      <td>0</td>\n",
              "      <td>0</td>\n",
              "      <td>0</td>\n",
              "      <td>0</td>\n",
              "      <td>0</td>\n",
              "      <td>1</td>\n",
              "      <td>0</td>\n",
              "      <td>0</td>\n",
              "      <td>1</td>\n",
              "      <td>0</td>\n",
              "      <td>0</td>\n",
              "    </tr>\n",
              "  </tbody>\n",
              "</table>\n",
              "</div>"
            ],
            "text/plain": [
              "   computer  for  graph  human  interface  lab  machine  management  minors  \\\n",
              "0         1    1      0      1          1    1        1           0       0   \n",
              "1         1    0      0      0          0    0        0           0       0   \n",
              "2         0    0      0      0          1    0        0           1       0   \n",
              "3         0    0      1      0          0    0        0           0       1   \n",
              "\n",
              "   of  opinion  survey  system  user  \n",
              "0   0        0       0       0     0  \n",
              "1   2        1       1       1     1  \n",
              "2   0        0       0       1     1  \n",
              "3   0        0       1       0     0  "
            ]
          },
          "execution_count": 34,
          "metadata": {},
          "output_type": "execute_result"
        }
      ],
      "source": [
        "## here for print code\n",
        "import pandas as pd\n",
        "pd.DataFrame(B1_vec.toarray(), columns=vec_2c.get_feature_names_out())"
      ]
    },
    {
      "cell_type": "markdown",
      "id": "e72b2131",
      "metadata": {
        "id": "e72b2131"
      },
      "source": [
        "## Q2f import TfidfVectorizer from sklearn"
      ]
    },
    {
      "cell_type": "code",
      "execution_count": 35,
      "id": "b18211f9",
      "metadata": {
        "ExecuteTime": {
          "end_time": "2022-12-03T05:22:37.237770Z",
          "start_time": "2022-12-03T05:22:37.233164Z"
        },
        "id": "b18211f9"
      },
      "outputs": [],
      "source": [
        "## here for import code\n",
        "from sklearn.feature_extraction.text import TfidfVectorizer"
      ]
    },
    {
      "cell_type": "markdown",
      "id": "aa3ee39f",
      "metadata": {},
      "source": [
        "## Q2g. TfidfVectorize the B1, then print it by pandas dataframe(with feature name)"
      ]
    },
    {
      "cell_type": "code",
      "execution_count": 36,
      "id": "2ee97f83",
      "metadata": {
        "ExecuteTime": {
          "end_time": "2022-12-03T05:22:38.154044Z",
          "start_time": "2022-12-03T05:22:38.139078Z"
        },
        "id": "2ee97f83"
      },
      "outputs": [
        {
          "data": {
            "text/html": [
              "<div>\n",
              "<style scoped>\n",
              "    .dataframe tbody tr th:only-of-type {\n",
              "        vertical-align: middle;\n",
              "    }\n",
              "\n",
              "    .dataframe tbody tr th {\n",
              "        vertical-align: top;\n",
              "    }\n",
              "\n",
              "    .dataframe thead th {\n",
              "        text-align: right;\n",
              "    }\n",
              "</style>\n",
              "<table border=\"1\" class=\"dataframe\">\n",
              "  <thead>\n",
              "    <tr style=\"text-align: right;\">\n",
              "      <th></th>\n",
              "      <th>computer</th>\n",
              "      <th>for</th>\n",
              "      <th>graph</th>\n",
              "      <th>human</th>\n",
              "      <th>interface</th>\n",
              "      <th>lab</th>\n",
              "      <th>machine</th>\n",
              "      <th>management</th>\n",
              "      <th>minors</th>\n",
              "      <th>of</th>\n",
              "      <th>opinion</th>\n",
              "      <th>survey</th>\n",
              "      <th>system</th>\n",
              "      <th>user</th>\n",
              "    </tr>\n",
              "  </thead>\n",
              "  <tbody>\n",
              "    <tr>\n",
              "      <th>0</th>\n",
              "      <td>0.344315</td>\n",
              "      <td>0.436719</td>\n",
              "      <td>0.000000</td>\n",
              "      <td>0.436719</td>\n",
              "      <td>0.344315</td>\n",
              "      <td>0.436719</td>\n",
              "      <td>0.436719</td>\n",
              "      <td>0.000000</td>\n",
              "      <td>0.000000</td>\n",
              "      <td>0.000000</td>\n",
              "      <td>0.000000</td>\n",
              "      <td>0.000000</td>\n",
              "      <td>0.000000</td>\n",
              "      <td>0.000000</td>\n",
              "    </tr>\n",
              "    <tr>\n",
              "      <th>1</th>\n",
              "      <td>0.288149</td>\n",
              "      <td>0.000000</td>\n",
              "      <td>0.000000</td>\n",
              "      <td>0.000000</td>\n",
              "      <td>0.000000</td>\n",
              "      <td>0.000000</td>\n",
              "      <td>0.000000</td>\n",
              "      <td>0.000000</td>\n",
              "      <td>0.000000</td>\n",
              "      <td>0.730961</td>\n",
              "      <td>0.365481</td>\n",
              "      <td>0.288149</td>\n",
              "      <td>0.288149</td>\n",
              "      <td>0.288149</td>\n",
              "    </tr>\n",
              "    <tr>\n",
              "      <th>2</th>\n",
              "      <td>0.000000</td>\n",
              "      <td>0.000000</td>\n",
              "      <td>0.000000</td>\n",
              "      <td>0.000000</td>\n",
              "      <td>0.465809</td>\n",
              "      <td>0.000000</td>\n",
              "      <td>0.000000</td>\n",
              "      <td>0.590819</td>\n",
              "      <td>0.000000</td>\n",
              "      <td>0.000000</td>\n",
              "      <td>0.000000</td>\n",
              "      <td>0.000000</td>\n",
              "      <td>0.465809</td>\n",
              "      <td>0.465809</td>\n",
              "    </tr>\n",
              "    <tr>\n",
              "      <th>3</th>\n",
              "      <td>0.000000</td>\n",
              "      <td>0.000000</td>\n",
              "      <td>0.617614</td>\n",
              "      <td>0.000000</td>\n",
              "      <td>0.000000</td>\n",
              "      <td>0.000000</td>\n",
              "      <td>0.000000</td>\n",
              "      <td>0.000000</td>\n",
              "      <td>0.617614</td>\n",
              "      <td>0.000000</td>\n",
              "      <td>0.000000</td>\n",
              "      <td>0.486934</td>\n",
              "      <td>0.000000</td>\n",
              "      <td>0.000000</td>\n",
              "    </tr>\n",
              "  </tbody>\n",
              "</table>\n",
              "</div>"
            ],
            "text/plain": [
              "   computer       for     graph     human  interface       lab   machine  \\\n",
              "0  0.344315  0.436719  0.000000  0.436719   0.344315  0.436719  0.436719   \n",
              "1  0.288149  0.000000  0.000000  0.000000   0.000000  0.000000  0.000000   \n",
              "2  0.000000  0.000000  0.000000  0.000000   0.465809  0.000000  0.000000   \n",
              "3  0.000000  0.000000  0.617614  0.000000   0.000000  0.000000  0.000000   \n",
              "\n",
              "   management    minors        of   opinion    survey    system      user  \n",
              "0    0.000000  0.000000  0.000000  0.000000  0.000000  0.000000  0.000000  \n",
              "1    0.000000  0.000000  0.730961  0.365481  0.288149  0.288149  0.288149  \n",
              "2    0.590819  0.000000  0.000000  0.000000  0.000000  0.465809  0.465809  \n",
              "3    0.000000  0.617614  0.000000  0.000000  0.486934  0.000000  0.000000  "
            ]
          },
          "execution_count": 36,
          "metadata": {},
          "output_type": "execute_result"
        }
      ],
      "source": [
        "## here for print code\n",
        "vec_Tfid = TfidfVectorizer()\n",
        "B1_vec_Tfid = vec_Tfid.fit_transform(B1)\n",
        "pd.DataFrame(B1_vec_Tfid.toarray(), columns=vec_Tfid.get_feature_names())"
      ]
    },
    {
      "cell_type": "markdown",
      "id": "73856219",
      "metadata": {
        "id": "73856219"
      },
      "source": [
        "# Q3 Imputation of Missing Data"
      ]
    },
    {
      "cell_type": "markdown",
      "id": "dc0d98ce",
      "metadata": {
        "id": "dc0d98ce"
      },
      "source": [
        "- a. print C1\n",
        "- b. import Imputer from sklearn\n",
        "- c. using strategy='mean' to imputate the C1, then print it\n",
        "- d. using strategy='most_frequent' to imputate the C1, then print it"
      ]
    },
    {
      "cell_type": "markdown",
      "id": "61849e6f",
      "metadata": {
        "id": "61849e6f"
      },
      "source": [
        "## Q3a print C1"
      ]
    },
    {
      "cell_type": "code",
      "execution_count": 37,
      "id": "a3147240",
      "metadata": {
        "ExecuteTime": {
          "end_time": "2022-12-03T05:24:45.848660Z",
          "start_time": "2022-12-03T05:24:45.843887Z"
        },
        "id": "a3147240"
      },
      "outputs": [
        {
          "name": "stdout",
          "output_type": "stream",
          "text": [
            "[[nan  0.  3.]\n",
            " [ 3.  7.  9.]\n",
            " [ 3.  5.  2.]\n",
            " [ 4. nan  6.]\n",
            " [ 8.  8.  1.]]\n"
          ]
        }
      ],
      "source": [
        "## here for print code\n",
        "print(C1)"
      ]
    },
    {
      "cell_type": "markdown",
      "id": "5c646738",
      "metadata": {
        "id": "5c646738"
      },
      "source": [
        "## Q3b import SimpleImputer from sklearn"
      ]
    },
    {
      "cell_type": "code",
      "execution_count": 38,
      "id": "27a7e08c",
      "metadata": {
        "ExecuteTime": {
          "end_time": "2022-12-03T05:27:13.344181Z",
          "start_time": "2022-12-03T05:27:13.149652Z"
        },
        "id": "27a7e08c"
      },
      "outputs": [],
      "source": [
        "## here for import code\n",
        "from sklearn.impute import SimpleImputer"
      ]
    },
    {
      "cell_type": "markdown",
      "id": "6a0d26e0",
      "metadata": {
        "id": "6a0d26e0"
      },
      "source": [
        "## Q3c using strategy='mean' to imputate the C1, then print it"
      ]
    },
    {
      "cell_type": "code",
      "execution_count": 39,
      "id": "bc2f0647",
      "metadata": {
        "ExecuteTime": {
          "end_time": "2022-12-03T06:14:32.193063Z",
          "start_time": "2022-12-03T06:14:32.179940Z"
        },
        "id": "bc2f0647"
      },
      "outputs": [
        {
          "data": {
            "text/plain": [
              "array([[4.5, 0. , 3. ],\n",
              "       [3. , 7. , 9. ],\n",
              "       [3. , 5. , 2. ],\n",
              "       [4. , 5. , 6. ],\n",
              "       [8. , 8. , 1. ]])"
            ]
          },
          "execution_count": 39,
          "metadata": {},
          "output_type": "execute_result"
        }
      ],
      "source": [
        "## here for print code\n",
        "imp = SimpleImputer(missing_values=nan, strategy='mean')\n",
        "C1_imp_mean = imp.fit_transform(C1)\n",
        "C1_imp_mean"
      ]
    },
    {
      "cell_type": "markdown",
      "id": "2ee853f5",
      "metadata": {
        "id": "2ee853f5"
      },
      "source": [
        "## Q3d using strategy='most_frequent' to imputate the C1, then print it"
      ]
    },
    {
      "cell_type": "code",
      "execution_count": 40,
      "id": "df322187",
      "metadata": {
        "ExecuteTime": {
          "end_time": "2022-12-03T06:15:23.960951Z",
          "start_time": "2022-12-03T06:15:23.951113Z"
        },
        "id": "df322187"
      },
      "outputs": [
        {
          "data": {
            "text/plain": [
              "array([[3., 0., 3.],\n",
              "       [3., 7., 9.],\n",
              "       [3., 5., 2.],\n",
              "       [4., 0., 6.],\n",
              "       [8., 8., 1.]])"
            ]
          },
          "execution_count": 40,
          "metadata": {},
          "output_type": "execute_result"
        }
      ],
      "source": [
        "## here for print code\n",
        "imp = SimpleImputer(missing_values=nan, strategy='most_frequent')\n",
        "C1_imp_most_frequent = imp.fit_transform(C1)\n",
        "C1_imp_most_frequent"
      ]
    }
  ],
  "metadata": {
    "colab": {
      "provenance": []
    },
    "kernelspec": {
      "display_name": "Python 3.10.2 64-bit",
      "language": "python",
      "name": "python3"
    },
    "language_info": {
      "codemirror_mode": {
        "name": "ipython",
        "version": 3
      },
      "file_extension": ".py",
      "mimetype": "text/x-python",
      "name": "python",
      "nbconvert_exporter": "python",
      "pygments_lexer": "ipython3",
      "version": "3.10.2"
    },
    "toc": {
      "base_numbering": 1,
      "nav_menu": {},
      "number_sections": true,
      "sideBar": true,
      "skip_h1_title": false,
      "title_cell": "Table of Contents",
      "title_sidebar": "Contents",
      "toc_cell": false,
      "toc_position": {
        "height": "calc(100% - 180px)",
        "left": "10px",
        "top": "150px",
        "width": "166px"
      },
      "toc_section_display": true,
      "toc_window_display": true
    },
    "varInspector": {
      "cols": {
        "lenName": 16,
        "lenType": 16,
        "lenVar": 40
      },
      "kernels_config": {
        "python": {
          "delete_cmd_postfix": "",
          "delete_cmd_prefix": "del ",
          "library": "var_list.py",
          "varRefreshCmd": "print(var_dic_list())"
        },
        "r": {
          "delete_cmd_postfix": ") ",
          "delete_cmd_prefix": "rm(",
          "library": "var_list.r",
          "varRefreshCmd": "cat(var_dic_list()) "
        }
      },
      "types_to_exclude": [
        "module",
        "function",
        "builtin_function_or_method",
        "instance",
        "_Feature"
      ],
      "window_display": false
    },
    "vscode": {
      "interpreter": {
        "hash": "eb6335f86049935ab3a1e6168a640c161cd4c2d3c8bde3a37ebd86b9bd3e1c1e"
      }
    }
  },
  "nbformat": 4,
  "nbformat_minor": 5
}
