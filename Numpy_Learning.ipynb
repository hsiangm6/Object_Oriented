{
 "cells": [
  {
   "cell_type": "code",
   "execution_count": 1,
   "metadata": {},
   "outputs": [],
   "source": [
    "import numpy as np\n",
    "import pandas as pd"
   ]
  },
  {
   "cell_type": "code",
   "execution_count": 3,
   "metadata": {},
   "outputs": [
    {
     "name": "stdout",
     "output_type": "stream",
     "text": [
      "version 1.22.3\n",
      "[1 2 3]\n",
      "float array: [1. 2. 3.]\n",
      "(3,)\n",
      "[[1 2 3]\n",
      " [4 5 6]]\n",
      "(2, 3)\n"
     ]
    }
   ],
   "source": [
    "print(\"version\", np.version.version)\n",
    "print(np.array([1,2,3]))\n",
    "a=np.array([1,2,3], dtype='float32')\n",
    "print(\"float array:\", a)\n",
    "print(a.shape)\n",
    "b=np.array([[1,2,3], [4,5,6]])\n",
    "print(b)\n",
    "print(b.shape)"
   ]
  },
  {
   "cell_type": "markdown",
   "metadata": {},
   "source": [
    "## Basic of numpy arrays\n",
    "- Attributes of arrays\n",
    "- Indexing of arrays\n",
    "- Slicing of arrays\n",
    "- Reshaping of arrays\n",
    "- Concatenation and splitting of arrays"
   ]
  },
  {
   "cell_type": "code",
   "execution_count": 4,
   "metadata": {},
   "outputs": [
    {
     "name": "stdout",
     "output_type": "stream",
     "text": [
      "[0 0 0 0 0 0 0 0 0 0]\n",
      "[[1 1 1 1 1]\n",
      " [1 1 1 1 1]\n",
      " [1 1 1 1 1]]\n",
      "[[3.14 3.14 3.14 3.14]\n",
      " [3.14 3.14 3.14 3.14]\n",
      " [3.14 3.14 3.14 3.14]]\n"
     ]
    }
   ],
   "source": [
    "#creating arrays from scratch\n",
    "print(np.zeros(10, dtype='int'))    #single dimension array\n",
    "\n",
    "#multi-dimension array\n",
    "print(np.ones((3,5), dtype='int'))\n",
    "print(np.full((3,4), 3.14))"
   ]
  },
  {
   "cell_type": "code",
   "execution_count": 5,
   "metadata": {},
   "outputs": [
    {
     "name": "stdout",
     "output_type": "stream",
     "text": [
      "[ 0  2  4  6  8 10 12 14 16 18]\n",
      "linear sequence:\n",
      " [0.  0.5 1.  1.5 2. ]\n",
      "random random:\n",
      " [[0.25321726 0.00410294 0.20296266]\n",
      " [0.19631588 0.93388789 0.47204318]\n",
      " [0.46635958 0.45294086 0.51749781]]\n",
      "random normal distribution:\n",
      " [[-0.83773699  0.96415314 -1.07622449]\n",
      " [ 0.20453661  0.72046822 -1.51619433]\n",
      " [ 1.15681546 -1.26018883  0.22357876]]\n",
      "random integers:\n",
      " [[6 4 9]\n",
      " [6 5 5]\n",
      " [4 9 5]]\n",
      "b:  [[1 2 3]\n",
      " [4 5 6]]\n",
      "cumulative value:  [ 1  3  6 10 15 21]\n",
      "標準差:  1.707825127659933\n"
     ]
    }
   ],
   "source": [
    "#Attribution of array\n",
    "#[start, stop, step]\n",
    "print(np.arange(0, 20, 2))\n",
    "\n",
    "#create an array with a linear sequence(線性序列)\n",
    "print(\"linear sequence:\\n\", np.linspace(0, 2, 5)) #0~2， 分五段\n",
    "\n",
    "#create a 3*3 array of uniformly distributed random values between 0 and 1\n",
    "print(\"random random:\\n\", np.random.random((3,3)))\n",
    "\n",
    "#create a 3*3 array of normal distribution(常態分布數組) with mean(均值) 0 and standard deviation(標準差) 1\n",
    "print(\"random normal distribution:\\n\", np.random.normal(0, 1, (3,3)))\n",
    "\n",
    "#create array of random integers between 0 to 10\n",
    "print(\"random integers:\\n\", np.random.randint(0, 10, (3,3)))\n",
    "\n",
    "#return cumulative value(累積值)\n",
    "b=np.array([[1,2,3], [4,5,6]])\n",
    "print(\"b: \", b)\n",
    "print(\"cumulative value: \", np.cumsum(b))\n",
    "\n",
    "#標準差\n",
    "print(\"標準差: \", np.std(b))"
   ]
  },
  {
   "cell_type": "code",
   "execution_count": 6,
   "metadata": {},
   "outputs": [
    {
     "name": "stdout",
     "output_type": "stream",
     "text": [
      "x1:  [5 0 3 3 7 9]\n",
      "x2:  [[3 5 2 4]\n",
      " [7 6 8 8]\n",
      " [1 6 7 7]]\n",
      "x3:  [[[8 1 5 9 8]\n",
      "  [9 4 3 0 3]\n",
      "  [5 0 2 3 8]\n",
      "  [1 3 3 3 7]]\n",
      "\n",
      " [[0 1 9 9 0]\n",
      "  [4 7 3 2 7]\n",
      "  [2 0 0 4 5]\n",
      "  [5 6 8 4 1]]\n",
      "\n",
      " [[4 9 8 1 1]\n",
      "  [7 9 9 3 6]\n",
      "  [7 2 0 3 5]\n",
      "  [9 4 4 6 4]]]\n",
      "x1.ndim:  1\n",
      "x2.ndim:  2\n",
      "x3.ndim:  3\n",
      "x1.shape:  (6,)\n",
      "x2.shape:  (3, 4)\n",
      "x3.shape:  (3, 4, 5)\n"
     ]
    }
   ],
   "source": [
    "np.random.seed(0)\n",
    "x1=np.random.randint(10, size=6) #one dimension array\n",
    "x2=np.random.randint(10, size=(3, 4)) #two-dimension array\n",
    "x3=np.random.randint(10, size=(3, 4, 5)) #three-dimension array\n",
    "print(\"x1: \", x1)\n",
    "print(\"x2: \", x2)\n",
    "print(\"x3: \", x3)\n",
    "\n",
    "print(\"x1.ndim: \", x1.ndim) #維度\n",
    "print(\"x2.ndim: \", x2.ndim)\n",
    "print(\"x3.ndim: \", x3.ndim)\n",
    "\n",
    "print(\"x1.shape: \", x1.shape) #element number in one dimension\n",
    "print(\"x2.shape: \", x2.shape)\n",
    "print(\"x3.shape: \", x3.shape)\n"
   ]
  },
  {
   "cell_type": "code",
   "execution_count": 8,
   "metadata": {},
   "outputs": [
    {
     "name": "stdout",
     "output_type": "stream",
     "text": [
      "x1.size:  6\n",
      "x2.size:  12\n",
      "x3.size:  60\n",
      "x1.dtype:  int32\n",
      "x2.dtype:  int32\n",
      "x3.dtype:  int32\n",
      "x1.itemsize:  4\n",
      "x2.itemsize:  4\n",
      "x3.itemsize:  4\n",
      "x1.nbytes:  24\n",
      "x2.nbytes:  48\n",
      "x3.nbytes:  240\n"
     ]
    }
   ],
   "source": [
    "print(\"x1.size: \", x1.size) #element number\n",
    "print(\"x2.size: \", x2.size)\n",
    "print(\"x3.size: \", x3.size)\n",
    "\n",
    "print(\"x1.dtype: \", x1.dtype) #data type\n",
    "print(\"x2.dtype: \", x2.dtype)\n",
    "print(\"x3.dtype: \", x3.dtype)\n",
    "\n",
    "print(\"x1.itemsize: \", x1.itemsize) #element byte\n",
    "print(\"x2.itemsize: \", x2.itemsize)\n",
    "print(\"x3.itemsize: \", x3.itemsize)\n",
    "\n",
    "print(\"x1.nbytes: \", x1.nbytes) #all bytes\n",
    "print(\"x2.nbytes: \", x2.nbytes)\n",
    "print(\"x3.nbytes: \", x3.nbytes)"
   ]
  },
  {
   "cell_type": "code",
   "execution_count": 28,
   "metadata": {},
   "outputs": [
    {
     "name": "stdout",
     "output_type": "stream",
     "text": [
      "[5 0 3 3 7 9]\n",
      "x1[0]:  5\n",
      "x1[5]:  9\n",
      "x1[-1]:  9\n",
      "x2:  [[12  5  2  4]\n",
      " [ 7  6  8  8]\n",
      " [ 1  6  7  7]]\n",
      "x2[0, 0]:  12\n",
      "x2[2, 1]:  6\n",
      "x2[2, 1]:  7\n",
      "after modify x2[0,0]:  12\n",
      "after modify x2: \n",
      " [[12  5  2  4]\n",
      " [ 7  6  8  8]\n",
      " [ 1  6  7  7]]\n",
      "x1.dtype:  int32\n",
      "x1:  [5 0 3 3 7 9]\n",
      "after modify x1:  [3 0 3 3 7 9]\n"
     ]
    }
   ],
   "source": [
    "#indexing of array\n",
    "print(x1)   #indexing starts with zero and need by N-1\n",
    "print(\"x1[0]: \", x1[0])\n",
    "print(\"x1[5]: \", x1[5])\n",
    "print(\"x1[-1]: \", x1[-1])\n",
    "\n",
    "print(\"x2: \", x2)\n",
    "print(\"x2[0, 0]: \", x2[0, 0])\n",
    "print(\"x2[2, 1]: \", x2[2, 1])\n",
    "print(\"x2[2, 1]: \", x2[2, -1])\n",
    "\n",
    "#Modify the value of an array element\n",
    "x2[0, 0]=12\n",
    "print(\"after modify x2[0,0]: \", x2[0,0])\n",
    "print(\"after modify x2: \\n\", x2)\n",
    "\n",
    "print(\"x1.dtype: \", x1.dtype)\n",
    "print(\"x1: \", x1)\n",
    "x1[0]=3.14\n",
    "print(\"after modify x1: \", x1)"
   ]
  },
  {
   "cell_type": "code",
   "execution_count": 35,
   "metadata": {},
   "outputs": [
    {
     "name": "stdout",
     "output_type": "stream",
     "text": [
      "x:  [0 1 2 3 4 5 6 7 8 9]\n",
      "first five elements:  [0 1 2 3 4]\n",
      "elements after index 5:  [5 6 7 8 9]\n",
      "x[4:7]:  [4 5 6]\n",
      "x[1::3]:  [1 4 7]\n",
      "x[1:8:2]:  [1 3 5 7]\n",
      "x[::-1]:  [9 8 7 6 5 4 3 2 1 0]\n",
      "x[5::-2]:  [5 3 1]\n",
      "x2:  [[12  5  2  4]\n",
      " [ 7  6  8  8]\n",
      " [ 1  6  7  7]]\n",
      "x2[0:2, 0:3]:  [[12  5  2]\n",
      " [ 7  6  8]]\n",
      "x2[:3, ::2]:  [[12  2]\n",
      " [ 7  8]\n",
      " [ 1  7]]\n"
     ]
    }
   ],
   "source": [
    "#Slicing of array\n",
    "x=np.arange(10)\n",
    "print(\"x: \", x)\n",
    "#x[start: step: step]\n",
    "print(\"first five elements: \", x[:5]) #first five elements\n",
    "print(\"elements after index 5: \", x[5:]) #elements after index 5\n",
    "\n",
    "#Access middle subarrays\n",
    "print(\"x[4:7]: \", x[4:7])\n",
    "\n",
    "#Access avery other element after index 1\n",
    "print(\"x[1::3]: \", x[1::3])\n",
    "\n",
    "#every other element starting from index 1 and stop at 8\n",
    "print(\"x[1:8:2]: \", x[1:8:2])\n",
    "\n",
    "#reverse the array by using -1 in steps\n",
    "print(\"x[::-1]: \", x[::-1])\n",
    "\n",
    "#reverse the array from a particular index\n",
    "print(\"x[5::-2]: \", x[5::-2])\n",
    "\n",
    "#x2[start: stop(n-1): step]\n",
    "print(\"x2: \", x2)\n",
    "print(\"x2[0:2, 0:3]: \", x2[0:2, 0:3]) #x2[row, column]\n",
    "\n",
    "#every row, every other column\n",
    "print(\"x2[:3, ::2]: \", x2[:3, ::2])\n",
    "\n",
    "#reversing all the row\n",
    "print(\"x2[::-1, :]: \", x2[::-1, :])\n",
    "\n",
    "#reversing all the columns\n",
    "print(\"x2[:, ::-1]: \", x2[:, ::-1])\n",
    "\n",
    "#reversing subarray demensions\n",
    "print(\"x2[::-1, ::-1]: \", x2[::-1, ::-1])\n"
   ]
  },
  {
   "cell_type": "code",
   "execution_count": 42,
   "metadata": {},
   "outputs": [
    {
     "name": "stdout",
     "output_type": "stream",
     "text": [
      "grid:  [[1 2 3]\n",
      " [4 5 6]\n",
      " [7 8 9]]\n",
      "x:  [1 2 3]\n",
      "x.ndim:  1\n",
      "x1 after reshape:  [[1]\n",
      " [2]\n",
      " [3]]\n",
      "x.ndim:  2\n",
      "(3, 1)\n"
     ]
    }
   ],
   "source": [
    "#reshaping of array\n",
    "grid=np.arange(1, 10).reshape(3,3)\n",
    "print(\"grid: \", grid)\n",
    "x=np.array([1,2,3])\n",
    "print(\"x: \", x)\n",
    "print(\"x.ndim: \", x.ndim)\n",
    "x1=x.reshape(3, 1)\n",
    "print(\"x1 after reshape: \", x1)\n",
    "print(\"x.ndim: \", x1.ndim)\n",
    "print(\"x1.shape:\", x1.shape)"
   ]
  },
  {
   "cell_type": "code",
   "execution_count": 13,
   "metadata": {},
   "outputs": [
    {
     "name": "stdout",
     "output_type": "stream",
     "text": [
      "np.concatenate([x, y]):  [1 2 3 3 2 1]\n",
      "np.concatenate([x,y,z]:  [ 1  2  3  3  2  1 99 99 99]\n",
      "grid:  [[1 2 3]\n",
      " [4 5 6]]\n",
      "concatenate([grid, grid]):  [[1 2 3]\n",
      " [4 5 6]\n",
      " [1 2 3]\n",
      " [4 5 6]]\n",
      "concatenate([grid, grid], axis=1):  [[1 2 3 1 2 3]\n",
      " [4 5 6 4 5 6]]\n",
      "x:  [1 2 3]\n",
      "vstack([x, grid]):  [[1 2 3]\n",
      " [1 2 3]\n",
      " [4 5 6]]\n",
      "z:  [[99]\n",
      " [99]]\n",
      "hstack([z, grid]):  [[99  1  2  3]\n",
      " [99  4  5  6]]\n"
     ]
    }
   ],
   "source": [
    "#Joining and splitting of arrays (結合和分開)\n",
    "x=np.array([1,2,3])\n",
    "y=np.array([3,2,1])\n",
    "\n",
    "#concate\n",
    "print(\"np.concatenate([x, y]): \", np.concatenate([x, y]))\n",
    "z=np.array([99,99,99])\n",
    "\n",
    "print(\"np.concatenate([x,y,z]: \", np.concatenate([x,y,z]))\n",
    "\n",
    "#combining the same array\n",
    "grid=np.arange(1,7).reshape(2,3)\n",
    "print(\"grid: \", grid)\n",
    "print(\"concatenate([grid, grid]): \", np.concatenate([grid, grid])) #by default axis=0/ rows\n",
    "print(\"concatenate([grid, grid], axis=1): \", np.concatenate([grid, grid], axis=1)) #column wise combination\n",
    "print(\"x: \", x)\n",
    "print(\"vstack([x, grid]): \", np.vstack([x, grid])) #vertically stack arrays\n",
    "\n",
    "z=np.array([[99],[99]])\n",
    "print(\"z: \", z)\n",
    "print(\"hstack([z, grid]): \", np.hstack([z, grid])) #horizontally stack arrays\n"
   ]
  },
  {
   "cell_type": "code",
   "execution_count": 10,
   "metadata": {},
   "outputs": [
    {
     "name": "stdout",
     "output_type": "stream",
     "text": [
      "x:  [ 1  2  3 99 99  3  2  1]\n",
      "split x:  [array([1, 2, 3]), array([99, 99]), array([3, 2, 1])]\n",
      "grid:  [[ 0  1  2  3]\n",
      " [ 4  5  6  7]\n",
      " [ 8  9 10 11]\n",
      " [12 13 14 15]]\n",
      "upper:  [[0 1 2 3]\n",
      " [4 5 6 7]]\n",
      "lower:  [[ 8  9 10 11]\n",
      " [12 13 14 15]]\n",
      "left:  [[ 0  1]\n",
      " [ 4  5]\n",
      " [ 8  9]\n",
      " [12 13]]\n",
      "right:  [[ 2  3]\n",
      " [ 6  7]\n",
      " [10 11]\n",
      " [14 15]]\n"
     ]
    }
   ],
   "source": [
    "#split(分開)\n",
    "x=np.array([1, 2, 3, 99, 99, 3, 2, 1])\n",
    "print(\"x: \", x)\n",
    "\n",
    "#在前3個elements時切一刀，在前5個elements時切一刀。如果是二維數列，則先看colume的列數切刀\n",
    "#https://blog.csdn.net/weixin_36670529/article/details/115979240\n",
    "print(\"split x: \", np.split(x, [3,5])) #result will leads to N+1 subarrays. \n",
    "grid= np.arange(16).reshape(4, 4)\n",
    "print(\"grid: \", grid)\n",
    "\n",
    "#vertical split\n",
    "upper, lower =np.vsplit(grid, [2])\n",
    "print(\"upper: \", upper)\n",
    "print(\"lower: \", lower)\n",
    "\n",
    "#horizontal split\n",
    "left, right =np.hsplit(grid, [2])\n",
    "print(\"left: \", left)\n",
    "print(\"right: \", right)"
   ]
  },
  {
   "cell_type": "markdown",
   "metadata": {},
   "source": [
    "## Numpy Arrays: Universal Function (運算)\n"
   ]
  },
  {
   "cell_type": "code",
   "execution_count": 12,
   "metadata": {},
   "outputs": [
    {
     "name": "stdout",
     "output_type": "stream",
     "text": [
      "x: [0 1 2 3]\n",
      "x+5=  [5 6 7 8]\n",
      "x-5=  [-5 -4 -3 -2]\n",
      "x*5=  [ 0  5 10 15]\n",
      "x/5=  [0.  0.2 0.4 0.6]\n",
      "x**2= [0 1 4 9]\n",
      "x%2= [0 1 0 1]\n",
      "np.add(x, 2):  [2 3 4 5]\n",
      "np.subtract(x, 2) [-2 -1  0  1]\n",
      "np.negative(x): [ 0 -1 -2 -3]\n",
      "np.multiply(x, 4) [ 0  4  8 12]\n",
      "np.divide(x, 2):  [0.  0.5 1.  1.5]\n",
      "np.floor_divide(x, 2):  [0 0 1 1]\n",
      "np.mod(x, 2):  [0 1 0 1]\n",
      "x=np.arange(-2, 3):  [-2 -1  0  1  2]\n",
      "np.abs(x):  [2 1 0 1 2]\n",
      "np.abs(x):  [2 1 0 1 2]\n",
      "np.absolute(x):  [2 1 0 1 2]\n"
     ]
    }
   ],
   "source": [
    "x=np.arange(4)\n",
    "print(\"x:\", x)\n",
    "\n",
    "#Addition\n",
    "print(\"x+5= \", x+5)\n",
    "\n",
    "#Substraction\n",
    "print(\"x-5= \", x-5)\n",
    "\n",
    "#Multiply\n",
    "print(\"x*5= \", x*5)\n",
    "\n",
    "#Division\n",
    "print(\"x/5= \", x/5)\n",
    "\n",
    "#Power\n",
    "print(\"x**2=\", x**2) #x的2次方\n",
    "\n",
    "#Modulus\n",
    "print(\"x%2=\", x%2) #x除以2的餘數\n",
    "\n",
    "#Numpy Arithmatic operation\n",
    "print(\"np.add(x, 2): \", np.add(x, 2))\n",
    "\n",
    "#Subtraction\n",
    "print(\"np.subtract(x, 2)\", np.subtract(x, 2))\n",
    "\n",
    "#Negation of array\n",
    "print(\"np.negative(x):\", np.negative(x)) #加負號\n",
    "\n",
    "#Multiply\n",
    "print(\"np.multiply(x, 4)\", np.multiply(x, 4))\n",
    "\n",
    "#Divide\n",
    "print(\"np.divide(x, 2): \", np.divide(x, 2)) #x除以2，答案可為小數--> /(運算符號)\n",
    "\n",
    "#floor divide\n",
    "print(\"np.floor_divide(x, 2): \", np.floor_divide(x, 2)) #x除以2得到的「商」，去掉餘數，答案為整數\n",
    "\n",
    "#Modulus\n",
    "print(\"np.mod(x, 2): \", np.mod(x, 2)) #計算餘數--> %(運算符號)。 np.mod()==np.remainder()\n",
    "\n",
    "x=np.arange(-2, 3)\n",
    "print(\"x=np.arange(-2, 3): \", x)\n",
    "\n",
    "#absolute\n",
    "print(\"np.abs(x): \", abs(x)) #絕對值\n",
    "print(\"np.abs(x): \", np.abs(x))\n",
    "print(\"np.absolute(x): \", np.absolute(x))"
   ]
  },
  {
   "cell_type": "markdown",
   "metadata": {},
   "source": [
    "## Aggregation(集合): Min, Max and Other"
   ]
  },
  {
   "cell_type": "code",
   "execution_count": 14,
   "metadata": {},
   "outputs": [
    {
     "name": "stdout",
     "output_type": "stream",
     "text": [
      "python sum:  52.12818058833704\n",
      "numpy sum:  52.12818058833702\n",
      "\n",
      "\n",
      "8.63 µs ± 73.5 ns per loop (mean ± std. dev. of 7 runs, 100,000 loops each)\n",
      "2.98 µs ± 18 ns per loop (mean ± std. dev. of 7 runs, 100,000 loops each)\n",
      "76 ms ± 784 µs per loop (mean ± std. dev. of 7 runs, 10 loops each)\n",
      "1.27 ms ± 12.7 µs per loop (mean ± std. dev. of 7 runs, 1,000 loops each)\n"
     ]
    }
   ],
   "source": [
    "\n",
    "L=np.random.random(100) #100 elements(0~1)\n",
    "print(\"python sum: \", sum(L)) #python in-bult aggregation function\n",
    "print(\"numpy sum: \", np.sum(L)) #numpy in-built aggregation function)\n",
    "print(\"\\n\")\n",
    "\n",
    "\"\"\"%timeit is an IPython magic function, which can be used to \n",
    "   time a particular piece of code (a single execution statement, or a single method).\"\"\"\n",
    "\"\"\"if we want to find out whether using np.sum() is any faster than using sum()\"\"\"\n",
    "\"\"\"%timeit: https://stackoverflow.com/questions/29280470/what-is-timeit-in-python\"\"\"\n",
    "%timeit sum(L)\n",
    "%timeit np.sum(L) #使用np in-built aggregation function 運算較快\n",
    "\n",
    "big_array= np.random.random(1000000)\n",
    "%timeit sum(big_array)\n",
    "%timeit np.sum(big_array)\n",
    "\n"
   ]
  },
  {
   "cell_type": "code",
   "execution_count": 15,
   "metadata": {},
   "outputs": [
    {
     "name": "stdout",
     "output_type": "stream",
     "text": [
      "0.009356704856532616\n",
      "0.9952995676778876\n",
      "0.009356704856532616\n",
      "0.9952995676778876\n",
      "1.4057692298008462e-06 0.9999994392723005 500202.5348847683\n"
     ]
    }
   ],
   "source": [
    "#python in-built min and max\n",
    "print(min(L))\n",
    "print(max(L))\n",
    "\n",
    "#numpy in-built min and max\n",
    "print(np.min(L))\n",
    "print(np.max(L))\n",
    "\n",
    "#numpy aggregates short syntax\n",
    "print(big_array.min(), big_array.max(), big_array.sum())\n"
   ]
  },
  {
   "cell_type": "markdown",
   "metadata": {},
   "source": [
    "## Multi-dimentional aggregates\n",
    "- Aggregation against rows or columns"
   ]
  },
  {
   "cell_type": "markdown",
   "metadata": {},
   "source": [
    "# Broadcasting"
   ]
  },
  {
   "cell_type": "code",
   "execution_count": 20,
   "metadata": {},
   "outputs": [
    {
     "name": "stdout",
     "output_type": "stream",
     "text": [
      "a+b=  [5 7 9]\n",
      "a+5:  [6 7 8]\n",
      "M: [[1. 1. 1.]\n",
      " [1. 1. 1.]\n",
      " [1. 1. 1.]]\n",
      "a: [1 2 3]\n",
      "M.shape:  (3, 3)\n",
      "a.shape: (3,)\n",
      "M+a:  [[2. 3. 4.]\n",
      " [2. 3. 4.]\n",
      " [2. 3. 4.]]\n"
     ]
    }
   ],
   "source": [
    "a=np.array([1, 2, 3])\n",
    "b=np.array([4, 5, 6])\n",
    "print(\"a+b= \", a+b)\n",
    "\n",
    "#Addition of scalar value\n",
    "print(\"a+5: \", a+5)\n",
    "\n",
    "#Broadcast single array\n",
    "M=np.ones((3, 3))\n",
    "print(\"M:\", M)\n",
    "print(\"a:\", a)\n",
    "print(\"M.shape: \", M.shape)\n",
    "print(\"a.shape:\", a.shape)\n",
    "print(\"M+a: \", M+a) #M的每一row都會+a"
   ]
  },
  {
   "cell_type": "code",
   "execution_count": 22,
   "metadata": {},
   "outputs": [
    {
     "name": "stdout",
     "output_type": "stream",
     "text": [
      "a: [0 1 2]\n",
      "b: [[0]\n",
      " [1]\n",
      " [2]]\n",
      "c:  [[0 1 2]]\n",
      "a.shape:  (3,)\n",
      "b.shape:  (3, 1)\n",
      "c.shape:  (1, 3)\n",
      "a+b:  [[0 1 2]\n",
      " [1 2 3]\n",
      " [2 3 4]]\n",
      "M:  [[1. 1.]\n",
      " [1. 1.]\n",
      " [1. 1.]]\n",
      "a:  [0 1 2]\n",
      "M.shape:  (3, 2)\n",
      "a.shape:  (3, 1)\n",
      "a:  [[0]\n",
      " [1]\n",
      " [2]]\n",
      "M+a:  [[1. 1.]\n",
      " [2. 2.]\n",
      " [3. 3.]]\n"
     ]
    }
   ],
   "source": [
    "#Broadcating of both arrays\n",
    "a=np.arange(3)\n",
    "b=np.arange(3)[:, np.newaxis] #給row增加維度\n",
    "c=np.arange(3)[np.newaxis, :] #給column增加維度\n",
    "print(\"a:\", a)\n",
    "print(\"b:\", b)\n",
    "print(\"c: \", c)\n",
    "print(\"a.shape: \", a.shape)\n",
    "print(\"b.shape: \", b.shape) \n",
    "print(\"c.shape: \", c.shape)\n",
    "print(\"a+b: \", a+b)\n",
    "\n",
    "#Broadcasting of incompatible array\n",
    "M=np.ones((3, 2))\n",
    "a=np.arange(3)\n",
    "print(\"M: \", M)\n",
    "print(\"a: \", a)\n",
    "a=a[:, np.newaxis]\n",
    "print(\"M.shape: \", M.shape)\n",
    "print(\"a.shape: \", a.shape)\n",
    "print(\"a: \", a)\n",
    "print(\"M+a: \", M+a)\n",
    "\n"
   ]
  },
  {
   "cell_type": "code",
   "execution_count": 41,
   "metadata": {},
   "outputs": [
    {
     "name": "stdout",
     "output_type": "stream",
     "text": [
      "M.shape:  (3, 2)\n",
      "a.shape:  (3,)\n",
      "M [[1. 1.]\n",
      " [1. 1.]\n",
      " [1. 1.]]\n",
      "a[:, np.newaxis]:  [[0]\n",
      " [1]\n",
      " [2]]\n",
      "a[:, np.newaxis].shape:  (3, 1)\n",
      "M+a[:, np.newaxis]:  [[1. 1.]\n",
      " [2. 2.]\n",
      " [3. 3.]]\n"
     ]
    }
   ],
   "source": [
    "print(\"M.shape: \", M.shape)\n",
    "print(\"a.shape: \", a.shape)\n",
    "print(\"M\", M)\n",
    "print(\"a[:, np.newaxis]: \", a[:, np.newaxis])\n",
    "print(\"a[:, np.newaxis].shape: \", a[:, np.newaxis].shape)\n",
    "print(\"M+a[:, np.newaxis]: \", M+a[:, np.newaxis])"
   ]
  },
  {
   "cell_type": "markdown",
   "metadata": {},
   "source": [
    "## Comparison, Masks, and Boolen Logic\n",
    "\n",
    "- Comparison operators\n",
    "1. less than <\n",
    "2. greater than >\n",
    "3. less than equal <=\n",
    "4. greater than equal >=\n",
    "5. not equal !=\n",
    "6. equal =="
   ]
  },
  {
   "cell_type": "code",
   "execution_count": 3,
   "metadata": {},
   "outputs": [
    {
     "name": "stdout",
     "output_type": "stream",
     "text": [
      "x:  [1 2 3 4 5 6]\n",
      "x<3:  [ True  True False False False False]\n",
      "np.less(x, 3):  [ True  True False False False False]\n",
      "x>3:  [False False False  True  True  True]\n",
      "np.greater(x, 3):  [False False False  True  True  True]\n",
      "x<=3:  [ True  True  True False False False]\n",
      "np.less_equal(x, 3):  [ True  True  True False False False]\n",
      "x>=3:  [False False  True  True  True  True]\n",
      "np.greater_equal(x, 3):  [False False  True  True  True  True]\n"
     ]
    }
   ],
   "source": [
    "x=np.array([1, 2, 3, 4, 5, 6])\n",
    "print(\"x: \", x)\n",
    "\n",
    "#Less than\n",
    "print(\"x<3: \", x<3) \n",
    "print(\"np.less(x, 3): \", np.less(x, 3))\n",
    "\n",
    "#greater than\n",
    "print(\"x>3: \", x>3) \n",
    "print(\"np.greater(x, 3): \", np.greater(x, 3))\n",
    "\n",
    "#Less than equal\n",
    "print(\"x<=3: \", x<=3) \n",
    "print(\"np.less_equal(x, 3): \", np.less_equal(x, 3))\n",
    "\n",
    "#greater than equal\n",
    "print(\"x>=3: \", x>=3) \n",
    "print(\"np.greater_equal(x, 3): \", np.greater_equal(x, 3))\n",
    "\n"
   ]
  },
  {
   "cell_type": "code",
   "execution_count": 42,
   "metadata": {},
   "outputs": [
    {
     "name": "stdout",
     "output_type": "stream",
     "text": [
      "rng:  RandomState(MT19937)\n",
      "x:  [[5 0 3 3]\n",
      " [7 9 3 5]\n",
      " [2 4 7 6]]\n",
      "x<6:  [[ True  True  True  True]\n",
      " [False False  True  True]\n",
      " [ True  True False False]]\n",
      "count_nonzero(x<6):  8\n",
      "np.sum(x<6):  8\n",
      "np.sum(x<6, axis=1) [4 2 2]\n",
      "np.sum(x<6, axis=0) [2 2 2 2]\n",
      "x:  [[5 0 3 3]\n",
      " [7 9 3 5]\n",
      " [2 4 7 6]]\n",
      "any(x>8):  True\n",
      "any(x<0):  False\n",
      "all(x<8, axis=1) [ True False  True]\n"
     ]
    }
   ],
   "source": [
    "#two-dimentional array\n",
    "'''np.random.RandomState: 偽隨機數生成。\n",
    " 是用确定性的算法计算出来的似来自[0,1]均匀分布的随机数序列。并不真正的随机，\n",
    " 但具有类似于随机数的统计特征，如均匀性、独立性等。\n",
    " https://blog.csdn.net/weixin_41571493/article/details/80550076'''\n",
    "rng=np.random.RandomState(0) #用rng固定隨機生成的數列就是rng，之後取值時就會是rng內的值，而不是重新一行隨機數列\n",
    "x=rng.randint(10, size=(3, 4))\n",
    "print(\"rng: \", rng)\n",
    "print(\"x: \", x)\n",
    "print(\"x<6: \", x<6)\n",
    "\n",
    "print(\"count_nonzero(x<6): \", np.count_nonzero(x<6)) #the same: np.sum(x<6)\n",
    "print(\"np.sum(x<6): \", np.sum(x<6))\n",
    "\n",
    "print(\"np.sum(x<6, axis=1)\", np.sum(x<6, axis=1)) #values in column with less than 6\n",
    "print(\"np.sum(x<6, axis=0)\", np.sum(x<6, axis=0)) #values in row with less than 6\n",
    "\n",
    "print(\"x: \", x)\n",
    "print(\"any(x>8): \", np.any(x>8))\n",
    "print(\"any(x<0): \", np.any(x<0))\n",
    "print(\"all(x<8, axis=1)\", np.all(x<8, axis=1))\n",
    "\n",
    "\n"
   ]
  },
  {
   "cell_type": "markdown",
   "metadata": {},
   "source": [
    "## Example: Seattle Rainfall"
   ]
  },
  {
   "cell_type": "code",
   "execution_count": 43,
   "metadata": {},
   "outputs": [],
   "source": [
    "import pandas as pd"
   ]
  },
  {
   "cell_type": "code",
   "execution_count": 5,
   "metadata": {},
   "outputs": [
    {
     "data": {
      "text/html": [
       "<div>\n",
       "<style scoped>\n",
       "    .dataframe tbody tr th:only-of-type {\n",
       "        vertical-align: middle;\n",
       "    }\n",
       "\n",
       "    .dataframe tbody tr th {\n",
       "        vertical-align: top;\n",
       "    }\n",
       "\n",
       "    .dataframe thead th {\n",
       "        text-align: right;\n",
       "    }\n",
       "</style>\n",
       "<table border=\"1\" class=\"dataframe\">\n",
       "  <thead>\n",
       "    <tr style=\"text-align: right;\">\n",
       "      <th></th>\n",
       "      <th>date</th>\n",
       "      <th>precipitation</th>\n",
       "      <th>temp_max</th>\n",
       "      <th>temp_min</th>\n",
       "      <th>wind</th>\n",
       "      <th>weather</th>\n",
       "    </tr>\n",
       "  </thead>\n",
       "  <tbody>\n",
       "    <tr>\n",
       "      <th>0</th>\n",
       "      <td>2012/1/1</td>\n",
       "      <td>0.0</td>\n",
       "      <td>12.8</td>\n",
       "      <td>5.0</td>\n",
       "      <td>4.7</td>\n",
       "      <td>drizzle</td>\n",
       "    </tr>\n",
       "    <tr>\n",
       "      <th>1</th>\n",
       "      <td>2012/1/2</td>\n",
       "      <td>10.9</td>\n",
       "      <td>10.6</td>\n",
       "      <td>2.8</td>\n",
       "      <td>4.5</td>\n",
       "      <td>rain</td>\n",
       "    </tr>\n",
       "    <tr>\n",
       "      <th>2</th>\n",
       "      <td>2012/1/3</td>\n",
       "      <td>0.8</td>\n",
       "      <td>11.7</td>\n",
       "      <td>7.2</td>\n",
       "      <td>2.3</td>\n",
       "      <td>rain</td>\n",
       "    </tr>\n",
       "    <tr>\n",
       "      <th>3</th>\n",
       "      <td>2012/1/4</td>\n",
       "      <td>20.3</td>\n",
       "      <td>12.2</td>\n",
       "      <td>5.6</td>\n",
       "      <td>4.7</td>\n",
       "      <td>rain</td>\n",
       "    </tr>\n",
       "    <tr>\n",
       "      <th>4</th>\n",
       "      <td>2012/1/5</td>\n",
       "      <td>1.3</td>\n",
       "      <td>8.9</td>\n",
       "      <td>2.8</td>\n",
       "      <td>6.1</td>\n",
       "      <td>rain</td>\n",
       "    </tr>\n",
       "    <tr>\n",
       "      <th>...</th>\n",
       "      <td>...</td>\n",
       "      <td>...</td>\n",
       "      <td>...</td>\n",
       "      <td>...</td>\n",
       "      <td>...</td>\n",
       "      <td>...</td>\n",
       "    </tr>\n",
       "    <tr>\n",
       "      <th>1456</th>\n",
       "      <td>2015/12/27</td>\n",
       "      <td>8.6</td>\n",
       "      <td>4.4</td>\n",
       "      <td>1.7</td>\n",
       "      <td>2.9</td>\n",
       "      <td>fog</td>\n",
       "    </tr>\n",
       "    <tr>\n",
       "      <th>1457</th>\n",
       "      <td>2015/12/28</td>\n",
       "      <td>1.5</td>\n",
       "      <td>5.0</td>\n",
       "      <td>1.7</td>\n",
       "      <td>1.3</td>\n",
       "      <td>fog</td>\n",
       "    </tr>\n",
       "    <tr>\n",
       "      <th>1458</th>\n",
       "      <td>2015/12/29</td>\n",
       "      <td>0.0</td>\n",
       "      <td>7.2</td>\n",
       "      <td>0.6</td>\n",
       "      <td>2.6</td>\n",
       "      <td>fog</td>\n",
       "    </tr>\n",
       "    <tr>\n",
       "      <th>1459</th>\n",
       "      <td>2015/12/30</td>\n",
       "      <td>0.0</td>\n",
       "      <td>5.6</td>\n",
       "      <td>-1.0</td>\n",
       "      <td>3.4</td>\n",
       "      <td>sun</td>\n",
       "    </tr>\n",
       "    <tr>\n",
       "      <th>1460</th>\n",
       "      <td>2015/12/31</td>\n",
       "      <td>0.0</td>\n",
       "      <td>5.6</td>\n",
       "      <td>-2.1</td>\n",
       "      <td>3.5</td>\n",
       "      <td>sun</td>\n",
       "    </tr>\n",
       "  </tbody>\n",
       "</table>\n",
       "<p>1461 rows × 6 columns</p>\n",
       "</div>"
      ],
      "text/plain": [
       "            date  precipitation  temp_max  temp_min  wind  weather\n",
       "0       2012/1/1            0.0      12.8       5.0   4.7  drizzle\n",
       "1       2012/1/2           10.9      10.6       2.8   4.5     rain\n",
       "2       2012/1/3            0.8      11.7       7.2   2.3     rain\n",
       "3       2012/1/4           20.3      12.2       5.6   4.7     rain\n",
       "4       2012/1/5            1.3       8.9       2.8   6.1     rain\n",
       "...          ...            ...       ...       ...   ...      ...\n",
       "1456  2015/12/27            8.6       4.4       1.7   2.9      fog\n",
       "1457  2015/12/28            1.5       5.0       1.7   1.3      fog\n",
       "1458  2015/12/29            0.0       7.2       0.6   2.6      fog\n",
       "1459  2015/12/30            0.0       5.6      -1.0   3.4      sun\n",
       "1460  2015/12/31            0.0       5.6      -2.1   3.5      sun\n",
       "\n",
       "[1461 rows x 6 columns]"
      ]
     },
     "execution_count": 5,
     "metadata": {},
     "output_type": "execute_result"
    }
   ],
   "source": [
    "df=pd.read_csv(r\"seattle-weather.csv\", encoding='utf8', engine='python')\n",
    "df"
   ]
  },
  {
   "cell_type": "code",
   "execution_count": 11,
   "metadata": {},
   "outputs": [
    {
     "name": "stdout",
     "output_type": "stream",
     "text": [
      "precipitation:\n",
      " 0        0.0\n",
      "1       10.9\n",
      "2        0.8\n",
      "3       20.3\n",
      "4        1.3\n",
      "        ... \n",
      "1456     8.6\n",
      "1457     1.5\n",
      "1458     0.0\n",
      "1459     0.0\n",
      "1460     0.0\n",
      "Name: precipitation, Length: 1461, dtype: float64\n"
     ]
    }
   ],
   "source": [
    "print(\"precipitation:\\n\", df['precipitation']) #precipitation=降雨"
   ]
  },
  {
   "cell_type": "code",
   "execution_count": 12,
   "metadata": {},
   "outputs": [
    {
     "name": "stdout",
     "output_type": "stream",
     "text": [
      "Days without rain: 838\n",
      "Number of days without rain: 623\n"
     ]
    }
   ],
   "source": [
    "#Days without rain\n",
    "print(\"Days without rain:\", np.sum(df['precipitation']==0))\n",
    "\n",
    "#Number of days with rain\n",
    "print(\"Number of days without rain:\", np.sum(df['precipitation']!=0))\n"
   ]
  },
  {
   "cell_type": "markdown",
   "metadata": {},
   "source": [
    "## Boolen Operator\n",
    "- & bitwise_and\n",
    "- | biiwise_or\n",
    "- ~ bitwise_not "
   ]
  },
  {
   "cell_type": "code",
   "execution_count": 51,
   "metadata": {},
   "outputs": [
    {
     "name": "stdout",
     "output_type": "stream",
     "text": [
      "All rainy day will less than 15mm and greater than 5mm: 533\n"
     ]
    }
   ],
   "source": [
    "# All rainy day will less than 15mm and greater than 5mm\n",
    "print(\"All rainy day will less than 15mm and greater than 5mm:\", np.sum((df['precipitation']<15) & (df['precipitation']>0)))\n"
   ]
  },
  {
   "cell_type": "markdown",
   "metadata": {},
   "source": [
    "## Boolen Arrays as Masks"
   ]
  },
  {
   "cell_type": "code",
   "execution_count": 22,
   "metadata": {},
   "outputs": [
    {
     "name": "stdout",
     "output_type": "stream",
     "text": [
      "x:  [[5 0 3 3]\n",
      " [7 9 3 5]\n",
      " [2 4 7 6]]\n",
      "x<5:  [[False  True  True  True]\n",
      " [False False  True False]\n",
      " [ True  True False False]]\n",
      "x[x<5]:  [0 3 3 3 2 4]\n"
     ]
    }
   ],
   "source": [
    "print(\"x: \", x)\n",
    "print(\"x<5: \", x<5)\n",
    "print(\"x[x<5]: \", x[x<5])\n"
   ]
  },
  {
   "cell_type": "code",
   "execution_count": 6,
   "metadata": {},
   "outputs": [
    {
     "data": {
      "text/plain": [
       "0       False\n",
       "1        True\n",
       "2        True\n",
       "3        True\n",
       "4        True\n",
       "        ...  \n",
       "1456     True\n",
       "1457     True\n",
       "1458    False\n",
       "1459    False\n",
       "1460    False\n",
       "Name: precipitation, Length: 1461, dtype: bool"
      ]
     },
     "execution_count": 6,
     "metadata": {},
     "output_type": "execute_result"
    }
   ],
   "source": [
    "#Condtruct a mask on all rainy days\n",
    "rain=df['precipitation']>0\n",
    "rain"
   ]
  },
  {
   "cell_type": "code",
   "execution_count": 7,
   "metadata": {},
   "outputs": [
    {
     "data": {
      "text/plain": [
       "1       10.9\n",
       "2        0.8\n",
       "3       20.3\n",
       "4        1.3\n",
       "5        2.5\n",
       "        ... \n",
       "1452     6.1\n",
       "1453     2.5\n",
       "1454     5.8\n",
       "1456     8.6\n",
       "1457     1.5\n",
       "Name: precipitation, Length: 623, dtype: float64"
      ]
     },
     "execution_count": 7,
     "metadata": {},
     "output_type": "execute_result"
    }
   ],
   "source": [
    "df['precipitation'][rain]"
   ]
  },
  {
   "cell_type": "code",
   "execution_count": 8,
   "metadata": {},
   "outputs": [
    {
     "data": {
      "text/html": [
       "<div>\n",
       "<style scoped>\n",
       "    .dataframe tbody tr th:only-of-type {\n",
       "        vertical-align: middle;\n",
       "    }\n",
       "\n",
       "    .dataframe tbody tr th {\n",
       "        vertical-align: top;\n",
       "    }\n",
       "\n",
       "    .dataframe thead th {\n",
       "        text-align: right;\n",
       "    }\n",
       "</style>\n",
       "<table border=\"1\" class=\"dataframe\">\n",
       "  <thead>\n",
       "    <tr style=\"text-align: right;\">\n",
       "      <th></th>\n",
       "      <th>date</th>\n",
       "      <th>precipitation</th>\n",
       "      <th>temp_max</th>\n",
       "      <th>temp_min</th>\n",
       "      <th>wind</th>\n",
       "      <th>weather</th>\n",
       "      <th>year</th>\n",
       "    </tr>\n",
       "  </thead>\n",
       "  <tbody>\n",
       "    <tr>\n",
       "      <th>0</th>\n",
       "      <td>2012/1/1</td>\n",
       "      <td>0.0</td>\n",
       "      <td>12.8</td>\n",
       "      <td>5.0</td>\n",
       "      <td>4.7</td>\n",
       "      <td>drizzle</td>\n",
       "      <td>2012</td>\n",
       "    </tr>\n",
       "    <tr>\n",
       "      <th>1</th>\n",
       "      <td>2012/1/2</td>\n",
       "      <td>10.9</td>\n",
       "      <td>10.6</td>\n",
       "      <td>2.8</td>\n",
       "      <td>4.5</td>\n",
       "      <td>rain</td>\n",
       "      <td>2012</td>\n",
       "    </tr>\n",
       "    <tr>\n",
       "      <th>2</th>\n",
       "      <td>2012/1/3</td>\n",
       "      <td>0.8</td>\n",
       "      <td>11.7</td>\n",
       "      <td>7.2</td>\n",
       "      <td>2.3</td>\n",
       "      <td>rain</td>\n",
       "      <td>2012</td>\n",
       "    </tr>\n",
       "    <tr>\n",
       "      <th>3</th>\n",
       "      <td>2012/1/4</td>\n",
       "      <td>20.3</td>\n",
       "      <td>12.2</td>\n",
       "      <td>5.6</td>\n",
       "      <td>4.7</td>\n",
       "      <td>rain</td>\n",
       "      <td>2012</td>\n",
       "    </tr>\n",
       "    <tr>\n",
       "      <th>4</th>\n",
       "      <td>2012/1/5</td>\n",
       "      <td>1.3</td>\n",
       "      <td>8.9</td>\n",
       "      <td>2.8</td>\n",
       "      <td>6.1</td>\n",
       "      <td>rain</td>\n",
       "      <td>2012</td>\n",
       "    </tr>\n",
       "    <tr>\n",
       "      <th>...</th>\n",
       "      <td>...</td>\n",
       "      <td>...</td>\n",
       "      <td>...</td>\n",
       "      <td>...</td>\n",
       "      <td>...</td>\n",
       "      <td>...</td>\n",
       "      <td>...</td>\n",
       "    </tr>\n",
       "    <tr>\n",
       "      <th>1456</th>\n",
       "      <td>2015/12/27</td>\n",
       "      <td>8.6</td>\n",
       "      <td>4.4</td>\n",
       "      <td>1.7</td>\n",
       "      <td>2.9</td>\n",
       "      <td>fog</td>\n",
       "      <td>2015</td>\n",
       "    </tr>\n",
       "    <tr>\n",
       "      <th>1457</th>\n",
       "      <td>2015/12/28</td>\n",
       "      <td>1.5</td>\n",
       "      <td>5.0</td>\n",
       "      <td>1.7</td>\n",
       "      <td>1.3</td>\n",
       "      <td>fog</td>\n",
       "      <td>2015</td>\n",
       "    </tr>\n",
       "    <tr>\n",
       "      <th>1458</th>\n",
       "      <td>2015/12/29</td>\n",
       "      <td>0.0</td>\n",
       "      <td>7.2</td>\n",
       "      <td>0.6</td>\n",
       "      <td>2.6</td>\n",
       "      <td>fog</td>\n",
       "      <td>2015</td>\n",
       "    </tr>\n",
       "    <tr>\n",
       "      <th>1459</th>\n",
       "      <td>2015/12/30</td>\n",
       "      <td>0.0</td>\n",
       "      <td>5.6</td>\n",
       "      <td>-1.0</td>\n",
       "      <td>3.4</td>\n",
       "      <td>sun</td>\n",
       "      <td>2015</td>\n",
       "    </tr>\n",
       "    <tr>\n",
       "      <th>1460</th>\n",
       "      <td>2015/12/31</td>\n",
       "      <td>0.0</td>\n",
       "      <td>5.6</td>\n",
       "      <td>-2.1</td>\n",
       "      <td>3.5</td>\n",
       "      <td>sun</td>\n",
       "      <td>2015</td>\n",
       "    </tr>\n",
       "  </tbody>\n",
       "</table>\n",
       "<p>1461 rows × 7 columns</p>\n",
       "</div>"
      ],
      "text/plain": [
       "            date  precipitation  temp_max  temp_min  wind  weather  year\n",
       "0       2012/1/1            0.0      12.8       5.0   4.7  drizzle  2012\n",
       "1       2012/1/2           10.9      10.6       2.8   4.5     rain  2012\n",
       "2       2012/1/3            0.8      11.7       7.2   2.3     rain  2012\n",
       "3       2012/1/4           20.3      12.2       5.6   4.7     rain  2012\n",
       "4       2012/1/5            1.3       8.9       2.8   6.1     rain  2012\n",
       "...          ...            ...       ...       ...   ...      ...   ...\n",
       "1456  2015/12/27            8.6       4.4       1.7   2.9      fog  2015\n",
       "1457  2015/12/28            1.5       5.0       1.7   1.3      fog  2015\n",
       "1458  2015/12/29            0.0       7.2       0.6   2.6      fog  2015\n",
       "1459  2015/12/30            0.0       5.6      -1.0   3.4      sun  2015\n",
       "1460  2015/12/31            0.0       5.6      -2.1   3.5      sun  2015\n",
       "\n",
       "[1461 rows x 7 columns]"
      ]
     },
     "execution_count": 8,
     "metadata": {},
     "output_type": "execute_result"
    }
   ],
   "source": [
    "#增加資料\n",
    "df['year']=pd.DatetimeIndex(df['date']).year\n",
    "#df['month']=pd.DatetimeIndex(df['date']).month\n",
    "#df.drop(columns=['month']) #刪除資料:https://blog.csdn.net/qq_18351157/article/details/105785367\n",
    "df"
   ]
  },
  {
   "cell_type": "code",
   "execution_count": 9,
   "metadata": {},
   "outputs": [
    {
     "data": {
      "text/html": [
       "<div>\n",
       "<style scoped>\n",
       "    .dataframe tbody tr th:only-of-type {\n",
       "        vertical-align: middle;\n",
       "    }\n",
       "\n",
       "    .dataframe tbody tr th {\n",
       "        vertical-align: top;\n",
       "    }\n",
       "\n",
       "    .dataframe thead th {\n",
       "        text-align: right;\n",
       "    }\n",
       "</style>\n",
       "<table border=\"1\" class=\"dataframe\">\n",
       "  <thead>\n",
       "    <tr style=\"text-align: right;\">\n",
       "      <th></th>\n",
       "      <th>date</th>\n",
       "      <th>precipitation</th>\n",
       "      <th>temp_max</th>\n",
       "      <th>temp_min</th>\n",
       "      <th>wind</th>\n",
       "      <th>weather</th>\n",
       "      <th>year</th>\n",
       "    </tr>\n",
       "  </thead>\n",
       "  <tbody>\n",
       "    <tr>\n",
       "      <th>0</th>\n",
       "      <td>2012/1/1</td>\n",
       "      <td>0.0</td>\n",
       "      <td>12.8</td>\n",
       "      <td>5.0</td>\n",
       "      <td>4.7</td>\n",
       "      <td>drizzle</td>\n",
       "      <td>2012</td>\n",
       "    </tr>\n",
       "    <tr>\n",
       "      <th>1</th>\n",
       "      <td>2012/1/2</td>\n",
       "      <td>10.9</td>\n",
       "      <td>10.6</td>\n",
       "      <td>2.8</td>\n",
       "      <td>4.5</td>\n",
       "      <td>rain</td>\n",
       "      <td>2012</td>\n",
       "    </tr>\n",
       "    <tr>\n",
       "      <th>2</th>\n",
       "      <td>2012/1/3</td>\n",
       "      <td>0.8</td>\n",
       "      <td>11.7</td>\n",
       "      <td>7.2</td>\n",
       "      <td>2.3</td>\n",
       "      <td>rain</td>\n",
       "      <td>2012</td>\n",
       "    </tr>\n",
       "    <tr>\n",
       "      <th>3</th>\n",
       "      <td>2012/1/4</td>\n",
       "      <td>20.3</td>\n",
       "      <td>12.2</td>\n",
       "      <td>5.6</td>\n",
       "      <td>4.7</td>\n",
       "      <td>rain</td>\n",
       "      <td>2012</td>\n",
       "    </tr>\n",
       "    <tr>\n",
       "      <th>4</th>\n",
       "      <td>2012/1/5</td>\n",
       "      <td>1.3</td>\n",
       "      <td>8.9</td>\n",
       "      <td>2.8</td>\n",
       "      <td>6.1</td>\n",
       "      <td>rain</td>\n",
       "      <td>2012</td>\n",
       "    </tr>\n",
       "    <tr>\n",
       "      <th>...</th>\n",
       "      <td>...</td>\n",
       "      <td>...</td>\n",
       "      <td>...</td>\n",
       "      <td>...</td>\n",
       "      <td>...</td>\n",
       "      <td>...</td>\n",
       "      <td>...</td>\n",
       "    </tr>\n",
       "    <tr>\n",
       "      <th>361</th>\n",
       "      <td>2012/12/27</td>\n",
       "      <td>4.1</td>\n",
       "      <td>7.8</td>\n",
       "      <td>3.3</td>\n",
       "      <td>3.2</td>\n",
       "      <td>rain</td>\n",
       "      <td>2012</td>\n",
       "    </tr>\n",
       "    <tr>\n",
       "      <th>362</th>\n",
       "      <td>2012/12/28</td>\n",
       "      <td>0.0</td>\n",
       "      <td>8.3</td>\n",
       "      <td>3.9</td>\n",
       "      <td>1.7</td>\n",
       "      <td>rain</td>\n",
       "      <td>2012</td>\n",
       "    </tr>\n",
       "    <tr>\n",
       "      <th>363</th>\n",
       "      <td>2012/12/29</td>\n",
       "      <td>1.5</td>\n",
       "      <td>5.0</td>\n",
       "      <td>3.3</td>\n",
       "      <td>1.7</td>\n",
       "      <td>rain</td>\n",
       "      <td>2012</td>\n",
       "    </tr>\n",
       "    <tr>\n",
       "      <th>364</th>\n",
       "      <td>2012/12/30</td>\n",
       "      <td>0.0</td>\n",
       "      <td>4.4</td>\n",
       "      <td>0.0</td>\n",
       "      <td>1.8</td>\n",
       "      <td>drizzle</td>\n",
       "      <td>2012</td>\n",
       "    </tr>\n",
       "    <tr>\n",
       "      <th>365</th>\n",
       "      <td>2012/12/31</td>\n",
       "      <td>0.0</td>\n",
       "      <td>3.3</td>\n",
       "      <td>-1.1</td>\n",
       "      <td>2.0</td>\n",
       "      <td>drizzle</td>\n",
       "      <td>2012</td>\n",
       "    </tr>\n",
       "  </tbody>\n",
       "</table>\n",
       "<p>366 rows × 7 columns</p>\n",
       "</div>"
      ],
      "text/plain": [
       "           date  precipitation  temp_max  temp_min  wind  weather  year\n",
       "0      2012/1/1            0.0      12.8       5.0   4.7  drizzle  2012\n",
       "1      2012/1/2           10.9      10.6       2.8   4.5     rain  2012\n",
       "2      2012/1/3            0.8      11.7       7.2   2.3     rain  2012\n",
       "3      2012/1/4           20.3      12.2       5.6   4.7     rain  2012\n",
       "4      2012/1/5            1.3       8.9       2.8   6.1     rain  2012\n",
       "..          ...            ...       ...       ...   ...      ...   ...\n",
       "361  2012/12/27            4.1       7.8       3.3   3.2     rain  2012\n",
       "362  2012/12/28            0.0       8.3       3.9   1.7     rain  2012\n",
       "363  2012/12/29            1.5       5.0       3.3   1.7     rain  2012\n",
       "364  2012/12/30            0.0       4.4       0.0   1.8  drizzle  2012\n",
       "365  2012/12/31            0.0       3.3      -1.1   2.0  drizzle  2012\n",
       "\n",
       "[366 rows x 7 columns]"
      ]
     },
     "execution_count": 9,
     "metadata": {},
     "output_type": "execute_result"
    }
   ],
   "source": [
    "df2012=df[df['year']==2012]\n",
    "df2012"
   ]
  },
  {
   "cell_type": "code",
   "execution_count": 52,
   "metadata": {},
   "outputs": [
    {
     "name": "stdout",
     "output_type": "stream",
     "text": [
      "No rainy days in 2013:  213\n",
      "No rainy days in 2014:  215\n",
      "NO rainy days in 2013:  213\n",
      "NO rainy days in 2014:  215\n"
     ]
    }
   ],
   "source": [
    "# Calculate no rainy days in 2013 and 2014\n",
    "#1 \n",
    "print(\"No rainy days in 2013: \", np.sum((df['year']==2013) & (df['precipitation']==0)))\n",
    "print(\"No rainy days in 2014: \", np.sum((df['year']==2014) & (df['precipitation']==0)))\n",
    "\n",
    "#2\n",
    "print(\"NO rainy days in 2013: \", np.sum(df[df['year']==2013]['precipitation']==0))\n",
    "print(\"NO rainy days in 2014: \", np.sum(df[df['year']==2014]['precipitation']==0))"
   ]
  },
  {
   "cell_type": "code",
   "execution_count": 10,
   "metadata": {},
   "outputs": [
    {
     "data": {
      "text/plain": [
       "0       0.0\n",
       "1      10.9\n",
       "2       0.8\n",
       "3      20.3\n",
       "4       1.3\n",
       "       ... \n",
       "361     4.1\n",
       "362     0.0\n",
       "363     1.5\n",
       "364     0.0\n",
       "365     0.0\n",
       "Name: precipitation, Length: 366, dtype: float64"
      ]
     },
     "execution_count": 10,
     "metadata": {},
     "output_type": "execute_result"
    }
   ],
   "source": [
    "#Extract precipitation data from the year 2012\n",
    "rainfall = df2012['precipitation']\n",
    "rainfall\n"
   ]
  },
  {
   "cell_type": "code",
   "execution_count": 11,
   "metadata": {},
   "outputs": [
    {
     "data": {
      "text/plain": [
       "0      False\n",
       "1       True\n",
       "2       True\n",
       "3       True\n",
       "4       True\n",
       "       ...  \n",
       "361     True\n",
       "362    False\n",
       "363     True\n",
       "364    False\n",
       "365    False\n",
       "Name: precipitation, Length: 366, dtype: bool"
      ]
     },
     "execution_count": 11,
     "metadata": {},
     "output_type": "execute_result"
    }
   ],
   "source": [
    "#All rainy days between 15mm and 5 mm in the year 2012\n",
    "np.sum((rainfall<15)&(rainfall >5))\n",
    "\n",
    "#Construct a mask on all rainy days\n",
    "rain2012=df2012['precipitation']>0\n",
    "rain2012"
   ]
  },
  {
   "cell_type": "code",
   "execution_count": 14,
   "metadata": {},
   "outputs": [
    {
     "name": "stdout",
     "output_type": "stream",
     "text": [
      "number of days without rain:\n"
     ]
    },
    {
     "data": {
      "text/plain": [
       "189"
      ]
     },
     "execution_count": 14,
     "metadata": {},
     "output_type": "execute_result"
    }
   ],
   "source": [
    "#Calculate number of days without rain in year 2012\n",
    "withoutrain2012=np.sum(df2012['precipitation']==0)\n",
    "print(\"number of days without rain:\")\n",
    "withoutrain2012\n"
   ]
  },
  {
   "cell_type": "code",
   "execution_count": 15,
   "metadata": {},
   "outputs": [
    {
     "data": {
      "text/plain": [
       "177"
      ]
     },
     "execution_count": 15,
     "metadata": {},
     "output_type": "execute_result"
    }
   ],
   "source": [
    "#Calculate number of days with rain\n",
    "withrain2012=np.sum(df2012['precipitation']!=0)\n",
    "withrain2012"
   ]
  },
  {
   "cell_type": "code",
   "execution_count": 16,
   "metadata": {},
   "outputs": [
    {
     "data": {
      "text/plain": [
       "78"
      ]
     },
     "execution_count": 16,
     "metadata": {},
     "output_type": "execute_result"
    }
   ],
   "source": [
    "#calculate number of days greater than 5mm rain on year 2012\n",
    "greater5=np.sum(df2012['precipitation']>5)\n",
    "greater5"
   ]
  },
  {
   "cell_type": "markdown",
   "metadata": {},
   "source": [
    "## Fancy Indexing"
   ]
  },
  {
   "cell_type": "code",
   "execution_count": 75,
   "metadata": {},
   "outputs": [
    {
     "name": "stdout",
     "output_type": "stream",
     "text": [
      "x: [51 92 14 71 60 20 82 86 74 74]\n",
      "x[2], x[3], x[7]:  14 71 86\n",
      "x[ind]:\n",
      " [14 71 86]\n",
      "x[ind]: \n",
      " [[71 86]\n",
      " [60 20]]\n"
     ]
    }
   ],
   "source": [
    "#Fancy indexing in single dimension\n",
    "rand=np.random.RandomState(42)\n",
    "x=rand.randint(100, size=10)\n",
    "print(\"x:\",x)\n",
    "print(\"x[2], x[3], x[7]: \", x[2], x[3], x[7])\n",
    "\n",
    "ind=[2, 3, 7]\n",
    "print(\"x[ind]:\\n\", x[ind])\n",
    "\n",
    "#Creating a new array using x\n",
    "ind=np.array([[3, 7], [4,5]])\n",
    "print(\"x[ind]: \\n\", x[ind])\n"
   ]
  },
  {
   "cell_type": "markdown",
   "metadata": {},
   "source": [
    "## Fancy indexing in multiple dimensions"
   ]
  },
  {
   "cell_type": "code",
   "execution_count": 17,
   "metadata": {},
   "outputs": [
    {
     "name": "stdout",
     "output_type": "stream",
     "text": [
      "x:\n",
      " [[ 0  1  2  3]\n",
      " [ 4  5  6  7]\n",
      " [ 8  9 10 11]]\n",
      "row:  [0 1 2]\n",
      "col:  [2 1 3]\n",
      "x[row, col]:  [ 2  5 11]\n",
      "row[:, np.newaxis]:\n",
      " [[0]\n",
      " [1]\n",
      " [2]]\n",
      "x[row[:, np.newaxis], col]: \n",
      " [[ 2  1  3]\n",
      " [ 6  5  7]\n",
      " [10  9 11]]\n"
     ]
    }
   ],
   "source": [
    "x=np.arange(12).reshape(3,4)\n",
    "print(\"x:\\n\",x)\n",
    "\n",
    "#Creating a new array by X with below index\n",
    "row=np.array([0, 1, 2])\n",
    "col=np.array([2, 1, 3])\n",
    "print(\"row: \", row)\n",
    "print(\"col: \", col)\n",
    "print(\"x[row, col]: \", x[row, col]) #座標: ((0,2),(1,1),(2,3))\n",
    "\n",
    "#Creating a new array that is a submatrix of x\n",
    "print(\"row[:, np.newaxis]:\\n\", row[:, np.newaxis])\n",
    "print(\"x[row[:, np.newaxis], col]: \\n\", x[row[:, np.newaxis], col])\n",
    "#x[row[:, np.newaxis], col]:座標\n",
    "# ((0,2),(0,1),(0,3))\n",
    "# ((1,2),(1,1),(1,3))\n",
    "# ((2,2),(2,1),(2,3))"
   ]
  },
  {
   "cell_type": "markdown",
   "metadata": {},
   "source": [
    "## Combined Indexing"
   ]
  },
  {
   "cell_type": "code",
   "execution_count": 87,
   "metadata": {},
   "outputs": [
    {
     "name": "stdout",
     "output_type": "stream",
     "text": [
      "x:\n",
      " [[ 0  1  2  3]\n",
      " [ 4  5  6  7]\n",
      " [ 8  9 10 11]] \n",
      "\n",
      "x[2, [2, 0, 2]]: \n",
      " [10  8 10] \n",
      "\n",
      "x[1:, [2, 0, 1]]: \n",
      " [[ 6  4  5]\n",
      " [10  8  9]]\n"
     ]
    }
   ],
   "source": [
    "# Combine fancy indices and simple indices\n",
    "x=np.arange(12).reshape(3,4)\n",
    "print(\"x:\\n\", x, '\\n')\n",
    "print(\"x[2, [2, 0, 2]]: \\n\", x[2, [2, 0, 2]], '\\n')\n",
    "#x[2, [2, 0, 2]]:座標\n",
    "# ((2,2),(2,0),(2,2))\n",
    "\n",
    "\n",
    "#Combine fancy indices with slicing\n",
    "print(\"x[1:, [2, 0, 1]]: \\n\", x[1:, [2, 0, 1]])\n",
    "#x[1:, [2, 0, 1]]:座標\n",
    "# ((1,2),(1,0),(1,1))\n",
    "# ((2,2),(2,0),(2,1))\n"
   ]
  },
  {
   "cell_type": "code",
   "execution_count": 18,
   "metadata": {},
   "outputs": [
    {
     "name": "stdout",
     "output_type": "stream",
     "text": [
      "mask: [ True False  True False]\n",
      "x:\n",
      " [[ 0  1  2  3]\n",
      " [ 4  5  6  7]\n",
      " [ 8  9 10 11]] \n",
      "\n",
      "x[row[:np.newaxis], mask]:\n",
      " [[ 0  2]\n",
      " [ 4  6]\n",
      " [ 8 10]]\n"
     ]
    }
   ],
   "source": [
    "#Combine fancy indices with mask\n",
    "mask=np.array([1, 0, 1, 0], dtype=bool)\n",
    "print(\"mask:\", mask)\n",
    "row=np.array([0, 1, 2])\n",
    "\n",
    "x=np.arange(12).reshape(3,4)\n",
    "print(\"x:\\n\", x, '\\n')\n",
    "print(\"x[row[:np.newaxis], mask]:\\n\",x[row[:, np.newaxis], mask])\n",
    "#x[row[:np.newaxis], mask]:座標\n",
    "# ((0,0),(1,3))\n",
    "# ((1,0),(2,3))\n",
    "# ((2,0),(2,3))"
   ]
  },
  {
   "cell_type": "markdown",
   "metadata": {},
   "source": [
    "## Modify values with Fancy indexing"
   ]
  },
  {
   "cell_type": "code",
   "execution_count": 19,
   "metadata": {},
   "outputs": [
    {
     "name": "stdout",
     "output_type": "stream",
     "text": [
      "origine x:  [0 1 2 3 4 5 6 7 8 9]\n",
      "origine i:  [2 1 8 4]\n",
      "x[i]:  [2 1 8 4]\n",
      "x[i]=99:  [ 0 99 99  3 99  5  6  7 99  9]\n",
      "x[i]+=10:  [  0 109 109   3 109   5   6   7 109   9]\n",
      "x[i]-=10:  [ 0 99 99  3 99  5  6  7 99  9]\n",
      "x[[0, 0]]=[4, 6]:  [ 6 99 99  3 99  5  6  7 99  9]\n"
     ]
    }
   ],
   "source": [
    "x=np.arange(10)\n",
    "i=np.array([2, 1, 8, 4])\n",
    "print(\"origine x: \", x)\n",
    "print(\"origine i: \", i)\n",
    "print(\"x[i]: \", x[i])\n",
    "x[i]=99\n",
    "print(\"x[i]=99: \", x)\n",
    "\n",
    "#adding values\n",
    "x[i]+=10\n",
    "print(\"x[i]+=10: \", x)\n",
    "\n",
    "#Substracting values\n",
    "x[i]-=10\n",
    "print(\"x[i]-=10: \", x)\n",
    "\n",
    "x[[0, 0]]=[4, 6]\n",
    "print(\"x[[0, 0]]=[4, 6]: \", x)\n"
   ]
  },
  {
   "cell_type": "code",
   "execution_count": 20,
   "metadata": {},
   "outputs": [
    {
     "name": "stdout",
     "output_type": "stream",
     "text": [
      "x=np.zeros(10):  [0. 0. 0. 0. 0. 0. 0. 0. 0. 0.]\n",
      "x[i]+=1 後的x:  [0. 1. 1. 1. 1. 0. 0. 0. 0. 0.]\n",
      "np.add.at(x, i, 1) 後的x:  [0. 2. 3. 4. 5. 0. 0. 0. 0. 0.]\n"
     ]
    }
   ],
   "source": [
    "x=np.zeros(10)\n",
    "print(\"x=np.zeros(10): \", x)\n",
    "i=[1, 2, 2, 3, 3, 3, 4, 4, 4, 4]\n",
    "x[i]+=1\n",
    "print(\"x[i]+=1 後的x: \", x) #不管重複位置+1多少次，最終只會+1\n",
    "\n",
    "#Repeating the adding function\n",
    "np.add.at(x, i, 1) #重複位置+1多少次，就會在那個位置+1多少次\n",
    "print(\"np.add.at(x, i, 1) 後的x: \", x)"
   ]
  },
  {
   "cell_type": "markdown",
   "metadata": {},
   "source": [
    "## Sorting Arrays"
   ]
  },
  {
   "cell_type": "code",
   "execution_count": 23,
   "metadata": {},
   "outputs": [
    {
     "name": "stdout",
     "output_type": "stream",
     "text": [
      "After sort x:  [ 1  4  5 32]\n",
      "Sorted indices:  [0 1 2 3]\n",
      "Sorted elements:  [ 1  4  5 32]\n",
      "random x:\n",
      " [[6 3 7 4 6 9]\n",
      " [2 6 7 4 3 7]\n",
      " [7 2 5 4 1 7]\n",
      " [5 1 4 0 9 5]]\n",
      "Sorted x of column:\n",
      " [[2 1 4 0 1 5]\n",
      " [5 2 5 4 3 7]\n",
      " [6 3 7 4 6 7]\n",
      " [7 6 7 4 9 9]]\n",
      "Sorted x of row:\n",
      " [[0 1 1 2 4 5]\n",
      " [2 3 4 5 5 7]\n",
      " [3 4 6 6 7 7]\n",
      " [4 6 7 7 9 9]]\n"
     ]
    }
   ],
   "source": [
    "x=np.array([5, 4, 32, 1])\n",
    "np.sort(x) #Numpy built-in function np.sort\n",
    "x.sort() #Python built-in function\n",
    "print(\"After sort x: \", x)\n",
    "\n",
    "#To get the indices of sorted elements\n",
    "#np.argsort:\n",
    "#https://numpy.org/doc/stable/reference/generated/numpy.argsort.html\n",
    "#https://blog.csdn.net/maoersong/article/details/21875705\n",
    "i=np.argsort(x) #将x中的元素从小到大排列，提取其对应的index(索引)，然后输出到i\n",
    "print(\"Sorted indices: \", i)\n",
    "print(\"Sorted elements: \", x)\n",
    "\n",
    "#Sorting of arrays along with rows and columns\n",
    "rand=np.random.RandomState(42)\n",
    "x=rand.randint(0, 10, (4, 6)) #範圍0~10，取4*6個\n",
    "print(\"random x:\\n\", x)\n",
    "\n",
    "#Sort each element of column x\n",
    "x=np.sort(x, axis=0)\n",
    "print(\"Sorted x of column:\\n\", x)\n",
    "\n",
    "#Sort each row of x\n",
    "x=np.sort(x, axis=1)\n",
    "print(\"Sorted x of row:\\n\", x)"
   ]
  },
  {
   "cell_type": "markdown",
   "metadata": {},
   "source": [
    "## Partial Sorting: Partioning "
   ]
  },
  {
   "cell_type": "code",
   "execution_count": 23,
   "metadata": {},
   "outputs": [
    {
     "name": "stdout",
     "output_type": "stream",
     "text": [
      "original x:\n",
      " [99 88 77 66 55 44 33 22 11]\n",
      "after moving the (x, 3):\n",
      " [22 11 33 44 55 88 66 77 99]\n",
      "after moving the (x, (1,3)):\n",
      " [11 22 33 44 55 66 77 88 99]\n"
     ]
    }
   ],
   "source": [
    "x=np.array([99, 88, 77, 66, 55, 44, 33, 22, 11])\n",
    "print(\"original x:\\n\", x)\n",
    "\n",
    "#Give smallest values to the left of the partition, and\n",
    "#remaining values to right in arbitrary order\n",
    "print(\"after moving the (x, 3):\\n\", np.partition(x, 3)) #部分數字小的往左邊挪\n",
    "#numpy.partition(a, kth, axis=-1, kind='introselect', order=None) \n",
    "#第k个位置上的元素的值在已排序的数组中所处的位置。所有小于第k个元素的元素都被移到这个元素前面\n",
    "# ，所有等于或大于这个元素的元素都被移到它后面。这两个分区中元素的顺序是未定义的。\n",
    "#https://numpy.org/devdocs/reference/generated/numpy.partition.html\n",
    "print(\"after moving the (x, (1,3)):\\n\", np.partition(x, (1,3))) #有疑問查看上一行網址內的網頁內容\n"
   ]
  },
  {
   "cell_type": "markdown",
   "metadata": {},
   "source": [
    "## Two dimention array sorting"
   ]
  },
  {
   "cell_type": "code",
   "execution_count": 26,
   "metadata": {},
   "outputs": [
    {
     "name": "stdout",
     "output_type": "stream",
     "text": [
      "original x:\n",
      " [[6 3 7 4 6 9]\n",
      " [2 6 7 4 3 7]\n",
      " [7 2 5 4 1 7]\n",
      " [5 1 4 0 9 5]]\n",
      "row wise sorting:\n",
      " [[3 4 6 7 6 9]\n",
      " [2 3 4 7 6 7]\n",
      " [1 2 4 5 7 7]\n",
      " [0 1 4 5 9 5]]\n",
      "column wise sorting:\n",
      " [[2 1 4 0 1 5]\n",
      " [5 2 5 4 3 7]\n",
      " [6 3 7 4 6 7]\n",
      " [7 6 7 4 9 9]]\n"
     ]
    }
   ],
   "source": [
    "rand = np.random.RandomState(42)\n",
    "x=rand.randint(0, 10, (4, 6))\n",
    "print(\"original x:\\n\", x)\n",
    "\n",
    "#row wise partial sorting\n",
    "print(\"row wise partial sorting:\\n\", np.partition(x, 2, axis=1))\n",
    "\n",
    "#column wise partial sorting\n",
    "print(\"column wise partial sorting:\\n\", np.partition(x, 2, axis=0))\n",
    "\n"
   ]
  },
  {
   "cell_type": "markdown",
   "metadata": {},
   "source": [
    "## Structured Data"
   ]
  },
  {
   "cell_type": "code",
   "execution_count": 24,
   "metadata": {},
   "outputs": [
    {
     "name": "stdout",
     "output_type": "stream",
     "text": [
      "datatype [('name', 'U10'), ('age', 'i4'), ('weight', 'f4')]\n",
      "values: [('Rex', 9, 81.0), ('Fido', 3, 27.0), ('Bob', 45, 85.5)]\n",
      "F: [('Rex',  9, 81. ) ('Fido',  3, 27. ) ('Bob', 45, 85.5)]\n",
      "F['name']: ['Rex' 'Fido' 'Bob']\n",
      "F['age']: [ 9  3 45]\n",
      "F['weight']: [81.  27.  85.5]\n",
      "F[0]: ('Rex', 9, 81.)\n",
      "F[-1]: ('Bob', 45, 85.5)\n",
      "F[-1]['name']: Bob\n",
      "F[F['age']>30]['name']: ['Bob']\n"
     ]
    }
   ],
   "source": [
    "#Create a compound dtype by specifying them as a list(square brackets) of tuples(parenthesis)\n",
    "datatype = [('name', 'U10'), ('age', 'i4'),('weight', 'f4')]\n",
    "print(\"datatype\", datatype)\n",
    "\n",
    "#Create values by specifying them as a List(square brackets) of tuples(parenthesis)\n",
    "values=[('Rex', 9, 81.0), ('Fido', 3, 27.0), ('Bob', 45, 85.5)]\n",
    "print(\"values:\", values)\n",
    "F=np.array(values, dtype=datatype)\n",
    "print(\"F:\", F)\n",
    "print(\"F['name']:\", F['name'])\n",
    "print(\"F['age']:\", F['age'])\n",
    "print(\"F['weight']:\", F['weight'])\n",
    "print(\"F[0]:\", F[0])\n",
    "print(\"F[-1]:\", F[-1])\n",
    "print(\"F[-1]['name']:\", F[-1]['name'])\n",
    "print(\"F[F['age']>30]['name']:\", F[F['age']>30]['name'])\n",
    "\n",
    "\n",
    "\n"
   ]
  },
  {
   "cell_type": "code",
   "execution_count": 9,
   "metadata": {},
   "outputs": [
    {
     "data": {
      "text/plain": [
       "array(['Rex', 'Fido', 'Bob'], dtype='<U10')"
      ]
     },
     "execution_count": 9,
     "metadata": {},
     "output_type": "execute_result"
    }
   ],
   "source": [
    "F['name']"
   ]
  },
  {
   "cell_type": "markdown",
   "metadata": {},
   "source": [
    "# Rocord Array"
   ]
  },
  {
   "cell_type": "code",
   "execution_count": 13,
   "metadata": {},
   "outputs": [
    {
     "name": "stdout",
     "output_type": "stream",
     "text": [
      "data_rec['age']:  [ 9  3 45]\n",
      "data_rec.age:  [ 9  3 45]\n",
      "108 ns ± 0.92 ns per loop (mean ± std. dev. of 7 runs, 10,000,000 loops each)\n",
      "1.66 µs ± 35.4 ns per loop (mean ± std. dev. of 7 runs, 1,000,000 loops each)\n",
      "2.67 µs ± 82.7 ns per loop (mean ± std. dev. of 7 runs, 100,000 loops each)\n"
     ]
    }
   ],
   "source": [
    "#np.recarray: https://numpy.org/doc/stable/reference/generated/numpy.recarray.html\n",
    "#np.ndarray.view: https://numpy.org/doc/stable/reference/generated/numpy.ndarray.view.html\n",
    "data_rec=F.view(np.recarray)\n",
    "\n",
    "#access the data as dictionary-key\n",
    "print(\"data_rec['age']: \",data_rec['age'])\n",
    "\n",
    "#access the data as attrubute\n",
    "print(\"data_rec.age: \",data_rec.age)\n",
    "\n",
    "%timeit F['age']\n",
    "%timeit data_rec['age']\n",
    "%timeit data_rec.age"
   ]
  }
 ],
 "metadata": {
  "interpreter": {
   "hash": "eb6335f86049935ab3a1e6168a640c161cd4c2d3c8bde3a37ebd86b9bd3e1c1e"
  },
  "kernelspec": {
   "display_name": "Python 3.10.2 64-bit",
   "language": "python",
   "name": "python3"
  },
  "language_info": {
   "codemirror_mode": {
    "name": "ipython",
    "version": 3
   },
   "file_extension": ".py",
   "mimetype": "text/x-python",
   "name": "python",
   "nbconvert_exporter": "python",
   "pygments_lexer": "ipython3",
   "version": "3.10.2"
  },
  "orig_nbformat": 4
 },
 "nbformat": 4,
 "nbformat_minor": 2
}
