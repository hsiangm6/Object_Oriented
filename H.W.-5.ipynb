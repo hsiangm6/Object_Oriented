{
 "cells": [
  {
   "cell_type": "code",
   "execution_count": 1,
   "id": "7be82851",
   "metadata": {},
   "outputs": [],
   "source": [
    "# Import related packages\n",
    "\n",
    "import numpy as np\n",
    "import pandas as pd"
   ]
  },
  {
   "cell_type": "code",
   "execution_count": null,
   "id": "ef40dc2a",
   "metadata": {},
   "outputs": [],
   "source": [
    "# Related data\n",
    "\n",
    "A1 = pd.DataFrame([[12, np.nan, 23, 25 ],\n",
    "                   [18, None, 52, 34 ],\n",
    "                   [np.nan, 14, 39, None],\n",
    "                   [37, 76, 19, 10 ],\n",
    "                   [47, 66, 29, 1 ]])\n",
    "\n",
    "C1_index = [('California', 2000), ('California', 2010),\n",
    "            ('New York', 2000), ('New York', 2010),\n",
    "            ('Texas', 2000), ('Texas', 2010)]\n",
    "\n",
    "populations = [33871648, 37253956, 18976457, 19378102, 20851820, 25145561]\n",
    "\n",
    "C1 = pd.Series(populations, index=C1_index)\n",
    "\n",
    "Data = np.round(np.random.randn(4, 6), 1)\n",
    "Data[:, ::2] *= 10\n",
    "Data += 37\n",
    "\n",
    "H1=pd.DataFrame([['A1','B1','C1'],['A2','B2','C2']], index=['1','2'], columns=['A','B','C'])\n",
    "H2=pd.DataFrame([['B3','C3','D3'],['B4','C4','D4']], index=['1','2'], columns=['B','C','D'])"
   ]
  },
  {
   "cell_type": "markdown",
   "id": "862890c0",
   "metadata": {},
   "source": [
    "# Q1: Detecting and droping null values"
   ]
  },
  {
   "cell_type": "markdown",
   "id": "93cbbfba",
   "metadata": {},
   "source": [
    "- a. print A1\n",
    "- b. detecting null values in A1\n",
    "- c. drop the rows which contain null in A1\n",
    "- d. drop the columns which contain null in A1\n",
    "- e. Keep minimum 4 non-NA entries column-wise"
   ]
  },
  {
   "cell_type": "code",
   "execution_count": 13,
   "id": "8a10ce21",
   "metadata": {},
   "outputs": [],
   "source": [
    "A1 = pd.DataFrame([[12, np.nan, 23, 25 ],\n",
    "                   [18, None, 52, 34 ],\n",
    "                   [np.nan, 14, 39, None],\n",
    "                   [37, 76, 19, 10 ],\n",
    "                   [47, 66, 29, 1 ]],\n",
    "                 columns=list('ABCD'))"
   ]
  },
  {
   "cell_type": "code",
   "execution_count": 5,
   "id": "6b5d0081",
   "metadata": {},
   "outputs": [
    {
     "name": "stdout",
     "output_type": "stream",
     "text": [
      "      A     B   C     D\n",
      "0  12.0   NaN  23  25.0\n",
      "1  18.0   NaN  52  34.0\n",
      "2   NaN  14.0  39   NaN\n",
      "3  37.0  76.0  19  10.0\n",
      "4  47.0  66.0  29   1.0\n"
     ]
    }
   ],
   "source": [
    "# a. \n",
    "print(A1)"
   ]
  },
  {
   "cell_type": "code",
   "execution_count": 7,
   "id": "17acea1b",
   "metadata": {},
   "outputs": [
    {
     "data": {
      "text/html": [
       "<div>\n",
       "<style scoped>\n",
       "    .dataframe tbody tr th:only-of-type {\n",
       "        vertical-align: middle;\n",
       "    }\n",
       "\n",
       "    .dataframe tbody tr th {\n",
       "        vertical-align: top;\n",
       "    }\n",
       "\n",
       "    .dataframe thead th {\n",
       "        text-align: right;\n",
       "    }\n",
       "</style>\n",
       "<table border=\"1\" class=\"dataframe\">\n",
       "  <thead>\n",
       "    <tr style=\"text-align: right;\">\n",
       "      <th></th>\n",
       "      <th>A</th>\n",
       "      <th>B</th>\n",
       "      <th>C</th>\n",
       "      <th>D</th>\n",
       "    </tr>\n",
       "  </thead>\n",
       "  <tbody>\n",
       "    <tr>\n",
       "      <th>0</th>\n",
       "      <td>False</td>\n",
       "      <td>True</td>\n",
       "      <td>False</td>\n",
       "      <td>False</td>\n",
       "    </tr>\n",
       "    <tr>\n",
       "      <th>1</th>\n",
       "      <td>False</td>\n",
       "      <td>True</td>\n",
       "      <td>False</td>\n",
       "      <td>False</td>\n",
       "    </tr>\n",
       "    <tr>\n",
       "      <th>2</th>\n",
       "      <td>True</td>\n",
       "      <td>False</td>\n",
       "      <td>False</td>\n",
       "      <td>True</td>\n",
       "    </tr>\n",
       "    <tr>\n",
       "      <th>3</th>\n",
       "      <td>False</td>\n",
       "      <td>False</td>\n",
       "      <td>False</td>\n",
       "      <td>False</td>\n",
       "    </tr>\n",
       "    <tr>\n",
       "      <th>4</th>\n",
       "      <td>False</td>\n",
       "      <td>False</td>\n",
       "      <td>False</td>\n",
       "      <td>False</td>\n",
       "    </tr>\n",
       "  </tbody>\n",
       "</table>\n",
       "</div>"
      ],
      "text/plain": [
       "       A      B      C      D\n",
       "0  False   True  False  False\n",
       "1  False   True  False  False\n",
       "2   True  False  False   True\n",
       "3  False  False  False  False\n",
       "4  False  False  False  False"
      ]
     },
     "execution_count": 7,
     "metadata": {},
     "output_type": "execute_result"
    }
   ],
   "source": [
    "# b.detecting null values in A1\n",
    "A1.isnull()\n"
   ]
  },
  {
   "cell_type": "code",
   "execution_count": 14,
   "id": "debedd5c",
   "metadata": {},
   "outputs": [
    {
     "data": {
      "text/html": [
       "<div>\n",
       "<style scoped>\n",
       "    .dataframe tbody tr th:only-of-type {\n",
       "        vertical-align: middle;\n",
       "    }\n",
       "\n",
       "    .dataframe tbody tr th {\n",
       "        vertical-align: top;\n",
       "    }\n",
       "\n",
       "    .dataframe thead th {\n",
       "        text-align: right;\n",
       "    }\n",
       "</style>\n",
       "<table border=\"1\" class=\"dataframe\">\n",
       "  <thead>\n",
       "    <tr style=\"text-align: right;\">\n",
       "      <th></th>\n",
       "      <th>A</th>\n",
       "      <th>B</th>\n",
       "      <th>C</th>\n",
       "      <th>D</th>\n",
       "    </tr>\n",
       "  </thead>\n",
       "  <tbody>\n",
       "    <tr>\n",
       "      <th>3</th>\n",
       "      <td>37.0</td>\n",
       "      <td>76.0</td>\n",
       "      <td>19</td>\n",
       "      <td>10.0</td>\n",
       "    </tr>\n",
       "    <tr>\n",
       "      <th>4</th>\n",
       "      <td>47.0</td>\n",
       "      <td>66.0</td>\n",
       "      <td>29</td>\n",
       "      <td>1.0</td>\n",
       "    </tr>\n",
       "  </tbody>\n",
       "</table>\n",
       "</div>"
      ],
      "text/plain": [
       "      A     B   C     D\n",
       "3  37.0  76.0  19  10.0\n",
       "4  47.0  66.0  29   1.0"
      ]
     },
     "execution_count": 14,
     "metadata": {},
     "output_type": "execute_result"
    }
   ],
   "source": [
    "# c. drop the rows which contain null in A1\n",
    "\n",
    "A1_rows_null=A1.dropna(axis='rows')\n",
    "A1_rows_null"
   ]
  },
  {
   "cell_type": "code",
   "execution_count": 15,
   "id": "61e1b630",
   "metadata": {},
   "outputs": [
    {
     "data": {
      "text/html": [
       "<div>\n",
       "<style scoped>\n",
       "    .dataframe tbody tr th:only-of-type {\n",
       "        vertical-align: middle;\n",
       "    }\n",
       "\n",
       "    .dataframe tbody tr th {\n",
       "        vertical-align: top;\n",
       "    }\n",
       "\n",
       "    .dataframe thead th {\n",
       "        text-align: right;\n",
       "    }\n",
       "</style>\n",
       "<table border=\"1\" class=\"dataframe\">\n",
       "  <thead>\n",
       "    <tr style=\"text-align: right;\">\n",
       "      <th></th>\n",
       "      <th>C</th>\n",
       "    </tr>\n",
       "  </thead>\n",
       "  <tbody>\n",
       "    <tr>\n",
       "      <th>0</th>\n",
       "      <td>23</td>\n",
       "    </tr>\n",
       "    <tr>\n",
       "      <th>1</th>\n",
       "      <td>52</td>\n",
       "    </tr>\n",
       "    <tr>\n",
       "      <th>2</th>\n",
       "      <td>39</td>\n",
       "    </tr>\n",
       "    <tr>\n",
       "      <th>3</th>\n",
       "      <td>19</td>\n",
       "    </tr>\n",
       "    <tr>\n",
       "      <th>4</th>\n",
       "      <td>29</td>\n",
       "    </tr>\n",
       "  </tbody>\n",
       "</table>\n",
       "</div>"
      ],
      "text/plain": [
       "    C\n",
       "0  23\n",
       "1  52\n",
       "2  39\n",
       "3  19\n",
       "4  29"
      ]
     },
     "execution_count": 15,
     "metadata": {},
     "output_type": "execute_result"
    }
   ],
   "source": [
    "# d. drop the columns which contain null in A1\n",
    "A1_columns_null=A1.dropna(axis='columns')\n",
    "A1_columns_null\n"
   ]
  },
  {
   "cell_type": "code",
   "execution_count": 18,
   "id": "704be6da",
   "metadata": {},
   "outputs": [
    {
     "data": {
      "text/html": [
       "<div>\n",
       "<style scoped>\n",
       "    .dataframe tbody tr th:only-of-type {\n",
       "        vertical-align: middle;\n",
       "    }\n",
       "\n",
       "    .dataframe tbody tr th {\n",
       "        vertical-align: top;\n",
       "    }\n",
       "\n",
       "    .dataframe thead th {\n",
       "        text-align: right;\n",
       "    }\n",
       "</style>\n",
       "<table border=\"1\" class=\"dataframe\">\n",
       "  <thead>\n",
       "    <tr style=\"text-align: right;\">\n",
       "      <th></th>\n",
       "      <th>A</th>\n",
       "      <th>C</th>\n",
       "      <th>D</th>\n",
       "    </tr>\n",
       "  </thead>\n",
       "  <tbody>\n",
       "    <tr>\n",
       "      <th>0</th>\n",
       "      <td>12.0</td>\n",
       "      <td>23</td>\n",
       "      <td>25.0</td>\n",
       "    </tr>\n",
       "    <tr>\n",
       "      <th>1</th>\n",
       "      <td>18.0</td>\n",
       "      <td>52</td>\n",
       "      <td>34.0</td>\n",
       "    </tr>\n",
       "    <tr>\n",
       "      <th>2</th>\n",
       "      <td>NaN</td>\n",
       "      <td>39</td>\n",
       "      <td>NaN</td>\n",
       "    </tr>\n",
       "    <tr>\n",
       "      <th>3</th>\n",
       "      <td>37.0</td>\n",
       "      <td>19</td>\n",
       "      <td>10.0</td>\n",
       "    </tr>\n",
       "    <tr>\n",
       "      <th>4</th>\n",
       "      <td>47.0</td>\n",
       "      <td>29</td>\n",
       "      <td>1.0</td>\n",
       "    </tr>\n",
       "  </tbody>\n",
       "</table>\n",
       "</div>"
      ],
      "text/plain": [
       "      A   C     D\n",
       "0  12.0  23  25.0\n",
       "1  18.0  52  34.0\n",
       "2   NaN  39   NaN\n",
       "3  37.0  19  10.0\n",
       "4  47.0  29   1.0"
      ]
     },
     "execution_count": 18,
     "metadata": {},
     "output_type": "execute_result"
    }
   ],
   "source": [
    "# e. Keep minimum 4 non-NA entries column-wise\n",
    "min_4_non_NA=A1.dropna(axis='columns', thresh=4)\n",
    "min_4_non_NA\n"
   ]
  },
  {
   "cell_type": "markdown",
   "id": "0a2255aa",
   "metadata": {},
   "source": [
    "# Q2: Filling null values"
   ]
  },
  {
   "cell_type": "markdown",
   "id": "cd4fd9a5",
   "metadata": {},
   "source": [
    "- a. print A1\n",
    "- b. Replace all NaN elements in column 'A', 'B', 'C', and 'D', with 0, 1, 2, and 3 respectively. hint (use value parameter)\n",
    "- c. Only replace the first NaN element. by default it is column-wise. (hint: use value and limit parameters)\n",
    "- d. forward-fill the previous value by axis 1"
   ]
  },
  {
   "cell_type": "code",
   "execution_count": 21,
   "id": "71bec95c",
   "metadata": {},
   "outputs": [
    {
     "name": "stdout",
     "output_type": "stream",
     "text": [
      "      A     B   C     D\n",
      "0  12.0   NaN  23  25.0\n",
      "1  18.0   NaN  52  34.0\n",
      "2   NaN  14.0  39   NaN\n",
      "3  37.0  76.0  19  10.0\n",
      "4  47.0  66.0  29   1.0\n"
     ]
    }
   ],
   "source": [
    "# a. print A1\n",
    "print(A1)\n"
   ]
  },
  {
   "cell_type": "code",
   "execution_count": 23,
   "id": "96c2ba1f",
   "metadata": {},
   "outputs": [
    {
     "data": {
      "text/html": [
       "<div>\n",
       "<style scoped>\n",
       "    .dataframe tbody tr th:only-of-type {\n",
       "        vertical-align: middle;\n",
       "    }\n",
       "\n",
       "    .dataframe tbody tr th {\n",
       "        vertical-align: top;\n",
       "    }\n",
       "\n",
       "    .dataframe thead th {\n",
       "        text-align: right;\n",
       "    }\n",
       "</style>\n",
       "<table border=\"1\" class=\"dataframe\">\n",
       "  <thead>\n",
       "    <tr style=\"text-align: right;\">\n",
       "      <th></th>\n",
       "      <th>A</th>\n",
       "      <th>B</th>\n",
       "      <th>C</th>\n",
       "      <th>D</th>\n",
       "    </tr>\n",
       "  </thead>\n",
       "  <tbody>\n",
       "    <tr>\n",
       "      <th>0</th>\n",
       "      <td>12.0</td>\n",
       "      <td>1.0</td>\n",
       "      <td>23</td>\n",
       "      <td>25.0</td>\n",
       "    </tr>\n",
       "    <tr>\n",
       "      <th>1</th>\n",
       "      <td>18.0</td>\n",
       "      <td>1.0</td>\n",
       "      <td>52</td>\n",
       "      <td>34.0</td>\n",
       "    </tr>\n",
       "    <tr>\n",
       "      <th>2</th>\n",
       "      <td>0.0</td>\n",
       "      <td>14.0</td>\n",
       "      <td>39</td>\n",
       "      <td>3.0</td>\n",
       "    </tr>\n",
       "    <tr>\n",
       "      <th>3</th>\n",
       "      <td>37.0</td>\n",
       "      <td>76.0</td>\n",
       "      <td>19</td>\n",
       "      <td>10.0</td>\n",
       "    </tr>\n",
       "    <tr>\n",
       "      <th>4</th>\n",
       "      <td>47.0</td>\n",
       "      <td>66.0</td>\n",
       "      <td>29</td>\n",
       "      <td>1.0</td>\n",
       "    </tr>\n",
       "  </tbody>\n",
       "</table>\n",
       "</div>"
      ],
      "text/plain": [
       "      A     B   C     D\n",
       "0  12.0   1.0  23  25.0\n",
       "1  18.0   1.0  52  34.0\n",
       "2   0.0  14.0  39   3.0\n",
       "3  37.0  76.0  19  10.0\n",
       "4  47.0  66.0  29   1.0"
      ]
     },
     "execution_count": 23,
     "metadata": {},
     "output_type": "execute_result"
    }
   ],
   "source": [
    "# b. Replace all NaN elements in column 'A', 'B', 'C', and 'D', with 0, 1, 2, and 3 respectively.\n",
    "# hint (use value parameter)\n",
    "values={'A':0, 'B':1, 'C':2, 'D':3}\n",
    "A1.fillna(value=values)\n"
   ]
  },
  {
   "cell_type": "code",
   "execution_count": 33,
   "id": "d1922347",
   "metadata": {},
   "outputs": [
    {
     "data": {
      "text/html": [
       "<div>\n",
       "<style scoped>\n",
       "    .dataframe tbody tr th:only-of-type {\n",
       "        vertical-align: middle;\n",
       "    }\n",
       "\n",
       "    .dataframe tbody tr th {\n",
       "        vertical-align: top;\n",
       "    }\n",
       "\n",
       "    .dataframe thead th {\n",
       "        text-align: right;\n",
       "    }\n",
       "</style>\n",
       "<table border=\"1\" class=\"dataframe\">\n",
       "  <thead>\n",
       "    <tr style=\"text-align: right;\">\n",
       "      <th></th>\n",
       "      <th>A</th>\n",
       "      <th>B</th>\n",
       "      <th>C</th>\n",
       "      <th>D</th>\n",
       "    </tr>\n",
       "  </thead>\n",
       "  <tbody>\n",
       "    <tr>\n",
       "      <th>0</th>\n",
       "      <td>12.0</td>\n",
       "      <td>1.0</td>\n",
       "      <td>23</td>\n",
       "      <td>25.0</td>\n",
       "    </tr>\n",
       "    <tr>\n",
       "      <th>1</th>\n",
       "      <td>18.0</td>\n",
       "      <td>NaN</td>\n",
       "      <td>52</td>\n",
       "      <td>34.0</td>\n",
       "    </tr>\n",
       "    <tr>\n",
       "      <th>2</th>\n",
       "      <td>0.0</td>\n",
       "      <td>14.0</td>\n",
       "      <td>39</td>\n",
       "      <td>3.0</td>\n",
       "    </tr>\n",
       "    <tr>\n",
       "      <th>3</th>\n",
       "      <td>37.0</td>\n",
       "      <td>76.0</td>\n",
       "      <td>19</td>\n",
       "      <td>10.0</td>\n",
       "    </tr>\n",
       "    <tr>\n",
       "      <th>4</th>\n",
       "      <td>47.0</td>\n",
       "      <td>66.0</td>\n",
       "      <td>29</td>\n",
       "      <td>1.0</td>\n",
       "    </tr>\n",
       "  </tbody>\n",
       "</table>\n",
       "</div>"
      ],
      "text/plain": [
       "      A     B   C     D\n",
       "0  12.0   1.0  23  25.0\n",
       "1  18.0   NaN  52  34.0\n",
       "2   0.0  14.0  39   3.0\n",
       "3  37.0  76.0  19  10.0\n",
       "4  47.0  66.0  29   1.0"
      ]
     },
     "execution_count": 33,
     "metadata": {},
     "output_type": "execute_result"
    }
   ],
   "source": [
    "# c. Only replace the first NaN element. by default it is column-wise. (hint: use value and limit parameters)\n",
    "A1.fillna(value=values, limit=1)\n"
   ]
  },
  {
   "cell_type": "code",
   "execution_count": 35,
   "id": "00d70583",
   "metadata": {},
   "outputs": [
    {
     "data": {
      "text/html": [
       "<div>\n",
       "<style scoped>\n",
       "    .dataframe tbody tr th:only-of-type {\n",
       "        vertical-align: middle;\n",
       "    }\n",
       "\n",
       "    .dataframe tbody tr th {\n",
       "        vertical-align: top;\n",
       "    }\n",
       "\n",
       "    .dataframe thead th {\n",
       "        text-align: right;\n",
       "    }\n",
       "</style>\n",
       "<table border=\"1\" class=\"dataframe\">\n",
       "  <thead>\n",
       "    <tr style=\"text-align: right;\">\n",
       "      <th></th>\n",
       "      <th>A</th>\n",
       "      <th>B</th>\n",
       "      <th>C</th>\n",
       "      <th>D</th>\n",
       "    </tr>\n",
       "  </thead>\n",
       "  <tbody>\n",
       "    <tr>\n",
       "      <th>0</th>\n",
       "      <td>12.0</td>\n",
       "      <td>12.0</td>\n",
       "      <td>23.0</td>\n",
       "      <td>25.0</td>\n",
       "    </tr>\n",
       "    <tr>\n",
       "      <th>1</th>\n",
       "      <td>18.0</td>\n",
       "      <td>18.0</td>\n",
       "      <td>52.0</td>\n",
       "      <td>34.0</td>\n",
       "    </tr>\n",
       "    <tr>\n",
       "      <th>2</th>\n",
       "      <td>NaN</td>\n",
       "      <td>14.0</td>\n",
       "      <td>39.0</td>\n",
       "      <td>39.0</td>\n",
       "    </tr>\n",
       "    <tr>\n",
       "      <th>3</th>\n",
       "      <td>37.0</td>\n",
       "      <td>76.0</td>\n",
       "      <td>19.0</td>\n",
       "      <td>10.0</td>\n",
       "    </tr>\n",
       "    <tr>\n",
       "      <th>4</th>\n",
       "      <td>47.0</td>\n",
       "      <td>66.0</td>\n",
       "      <td>29.0</td>\n",
       "      <td>1.0</td>\n",
       "    </tr>\n",
       "  </tbody>\n",
       "</table>\n",
       "</div>"
      ],
      "text/plain": [
       "      A     B     C     D\n",
       "0  12.0  12.0  23.0  25.0\n",
       "1  18.0  18.0  52.0  34.0\n",
       "2   NaN  14.0  39.0  39.0\n",
       "3  37.0  76.0  19.0  10.0\n",
       "4  47.0  66.0  29.0   1.0"
      ]
     },
     "execution_count": 35,
     "metadata": {},
     "output_type": "execute_result"
    }
   ],
   "source": [
    "# d. forward-fill the previous value by axis 1\n",
    "A1.fillna(method='ffill', axis=1)\n"
   ]
  },
  {
   "cell_type": "markdown",
   "id": "fa556181",
   "metadata": {},
   "source": [
    "# Q3: MultiIndex as extra dimension"
   ]
  },
  {
   "cell_type": "markdown",
   "id": "b13ad00b",
   "metadata": {},
   "source": [
    "- a. print C1\n",
    "- b. print C1_index\n",
    "- c. convert C1_index as Pandas MultiIndex type\n",
    "- d. re-index the C1 with C1_index, then name as C1d\n",
    "- e. use unstack way to convert C1d, then name as C1e\n",
    "- f. use stack way to convert C1e, then name as C1f"
   ]
  },
  {
   "cell_type": "code",
   "execution_count": 36,
   "id": "29d059d3",
   "metadata": {},
   "outputs": [],
   "source": [
    "# Run before the start of answering question 3\n",
    "\n",
    "C1_index = [('California', 2000), ('California', 2010),\n",
    "            ('New York', 2000), ('New York', 2010),\n",
    "            ('Texas', 2000), ('Texas', 2010)]\n",
    "\n",
    "\n",
    "populations = [33871648, 37253956, 18976457, 19378102, 20851820, 25145561]"
   ]
  },
  {
   "cell_type": "code",
   "execution_count": 37,
   "id": "0c2cea03",
   "metadata": {},
   "outputs": [
    {
     "name": "stdout",
     "output_type": "stream",
     "text": [
      "(California, 2000)    33871648\n",
      "(California, 2010)    37253956\n",
      "(New York, 2000)      18976457\n",
      "(New York, 2010)      19378102\n",
      "(Texas, 2000)         20851820\n",
      "(Texas, 2010)         25145561\n",
      "dtype: int64\n"
     ]
    }
   ],
   "source": [
    "# a. print C1\n",
    "# That is a Series multi-indexing\n",
    "\n",
    "C1 = pd.Series(populations, index=C1_index)\n",
    "print(C1)"
   ]
  },
  {
   "cell_type": "code",
   "execution_count": 44,
   "id": "d7e7cf7f",
   "metadata": {},
   "outputs": [
    {
     "name": "stdout",
     "output_type": "stream",
     "text": [
      "[('California', 2000), ('California', 2010), ('New York', 2000), ('New York', 2010), ('Texas', 2000), ('Texas', 2010)]\n"
     ]
    }
   ],
   "source": [
    "# b. print C1_index\n",
    "print(C1_index)\n"
   ]
  },
  {
   "cell_type": "code",
   "execution_count": 47,
   "id": "ba7f81bb",
   "metadata": {},
   "outputs": [
    {
     "data": {
      "text/plain": [
       "(California, 2000)    33871648\n",
       "(California, 2010)    37253956\n",
       "(New York, 2000)      18976457\n",
       "(New York, 2010)      19378102\n",
       "(Texas, 2000)         20851820\n",
       "(Texas, 2010)         25145561\n",
       "dtype: int64"
      ]
     },
     "execution_count": 47,
     "metadata": {},
     "output_type": "execute_result"
    }
   ],
   "source": [
    "# c. convert C1_index as Pandas MultiIndex type\n",
    "C1_index=pd.MultiIndex.from_tuples(C1_index)\n",
    "C1"
   ]
  },
  {
   "cell_type": "code",
   "execution_count": 49,
   "id": "9b915180",
   "metadata": {},
   "outputs": [
    {
     "data": {
      "text/plain": [
       "California  2000    33871648\n",
       "            2010    37253956\n",
       "New York    2000    18976457\n",
       "            2010    19378102\n",
       "Texas       2000    20851820\n",
       "            2010    25145561\n",
       "dtype: int64"
      ]
     },
     "execution_count": 49,
     "metadata": {},
     "output_type": "execute_result"
    }
   ],
   "source": [
    "# d. re-index the C1 with C1_index, then name as C1d\n",
    "C1d=C1.reindex(C1_index)\n",
    "C1d\n"
   ]
  },
  {
   "cell_type": "code",
   "execution_count": 53,
   "id": "c041ed5b",
   "metadata": {},
   "outputs": [
    {
     "name": "stdout",
     "output_type": "stream",
     "text": [
      "                2000      2010\n",
      "California  33871648  37253956\n",
      "New York    18976457  19378102\n",
      "Texas       20851820  25145561\n"
     ]
    }
   ],
   "source": [
    "# e. use unstack way to convert C1d, then name as C1e\n",
    "C1e=C1d.unstack()\n",
    "print(C1e)"
   ]
  },
  {
   "cell_type": "code",
   "execution_count": 55,
   "id": "069de4cd",
   "metadata": {},
   "outputs": [
    {
     "name": "stdout",
     "output_type": "stream",
     "text": [
      "California  2000    33871648\n",
      "            2010    37253956\n",
      "New York    2000    18976457\n",
      "            2010    19378102\n",
      "Texas       2000    20851820\n",
      "            2010    25145561\n",
      "dtype: int64\n"
     ]
    }
   ],
   "source": [
    "# f. use stack way to convert C1e, then name as C1f\n",
    "C1f=C1e.stack()\n",
    "print(C1f)"
   ]
  },
  {
   "cell_type": "markdown",
   "id": "3c39cba9",
   "metadata": {},
   "source": [
    "# Q4: MultiIndex for columns"
   ]
  },
  {
   "cell_type": "markdown",
   "id": "c5355f07",
   "metadata": {},
   "source": [
    "- a. create \"row_index\" by MultiIndex.from_product which contain\n",
    "        levels=[[2013, 2014], [1, 2]],\n",
    "        names=['year', 'visit']\n",
    "\n",
    "- b. create \"column_index\" by MultiIndex.from_product which contain\n",
    "        levels=[['Bob', 'Guido', 'Sue'], ['HR', 'Temp']],\n",
    "        names=['patient', 'measurement']\n",
    "\n",
    "- c. combine \"row_index\", \"column_index\" and Data by pd.DataFrame as D2"
   ]
  },
  {
   "cell_type": "code",
   "execution_count": 58,
   "id": "3ac77362",
   "metadata": {},
   "outputs": [
    {
     "name": "stdout",
     "output_type": "stream",
     "text": [
      "MultiIndex([(2013, 1),\n",
      "            (2013, 2),\n",
      "            (2014, 1),\n",
      "            (2014, 2)],\n",
      "           names=['year', 'visit'])\n"
     ]
    }
   ],
   "source": [
    "# a. \n",
    "row_index=pd.MultiIndex.from_product([[2013, 2014], [1, 2]],\n",
    "                                    names=['year', 'visit'])\n",
    "print(row_index)\n"
   ]
  },
  {
   "cell_type": "code",
   "execution_count": 78,
   "id": "bfbf41fc",
   "metadata": {},
   "outputs": [
    {
     "name": "stdout",
     "output_type": "stream",
     "text": [
      "MultiIndex([(  'Bob',   'HR'),\n",
      "            (  'Bob', 'Temp'),\n",
      "            ('Guido',   'HR'),\n",
      "            ('Guido', 'Temp'),\n",
      "            (  'Sue',   'HR'),\n",
      "            (  'Sue', 'Temp')],\n",
      "           names=['patient', 'measurement'])\n"
     ]
    }
   ],
   "source": [
    "# b.\n",
    "column_index=pd.MultiIndex.from_product([['Bob', 'Guido', 'Sue'], ['HR', 'Temp']],\n",
    "                                        names=['patient', 'measurement'])\n",
    "print(column_index)\n"
   ]
  },
  {
   "cell_type": "code",
   "execution_count": 79,
   "id": "83ba32fe",
   "metadata": {},
   "outputs": [
    {
     "data": {
      "text/plain": [
       "array([[33. , 37.9, 38. , 36.1, 26. , 37.2],\n",
       "       [41. , 36. , 34. , 36.6, 33. , 36.6],\n",
       "       [27. , 36.6, 44. , 37.4, 38. , 37.7],\n",
       "       [47. , 36.9, 29. , 36. , 36. , 35.8]])"
      ]
     },
     "execution_count": 79,
     "metadata": {},
     "output_type": "execute_result"
    }
   ],
   "source": [
    "# Run before answering Question 4c.\n",
    "D1=np.round(np.random.randn(4, 6), 1)\n",
    "D1[:, ::2]*=10\n",
    "D1+=37\n",
    "abs(D1)"
   ]
  },
  {
   "cell_type": "code",
   "execution_count": 80,
   "id": "bcd56f6a",
   "metadata": {},
   "outputs": [
    {
     "name": "stdout",
     "output_type": "stream",
     "text": [
      "patient       Bob       Guido         Sue      \n",
      "measurement    HR  Temp    HR  Temp    HR  Temp\n",
      "year visit                                     \n",
      "2013 1       33.0  37.9  38.0  36.1  26.0  37.2\n",
      "     2       41.0  36.0  34.0  36.6  33.0  36.6\n",
      "2014 1       27.0  36.6  44.0  37.4  38.0  37.7\n",
      "     2       47.0  36.9  29.0  36.0  36.0  35.8\n"
     ]
    }
   ],
   "source": [
    "# c. combine \"row_index\", \"column_index\" and D1 by pd.DataFrame as D2\n",
    "D2=pd.DataFrame(D1, index=row_index, columns=column_index)\n",
    "print(D2)\n"
   ]
  },
  {
   "cell_type": "markdown",
   "id": "317dead1",
   "metadata": {},
   "source": [
    "# Q5: Multiple index DataFrames"
   ]
  },
  {
   "cell_type": "markdown",
   "id": "9ffb631a",
   "metadata": {},
   "source": [
    "- a. print D2\n",
    "- b. select 'Sue' column from D2\n",
    "- c. select 'HR' column in 'Sue' column from D2\n",
    "- d. select '2014' row and 'Guido' column from D2. (using iloc)\n",
    "- e. select '2013' row and 'HR' column in 'Guido' column from D2. (using loc)\n",
    "- f. select 'visit'=2 row and 'Temp' column from D2. (recall loc and idx)"
   ]
  },
  {
   "cell_type": "code",
   "execution_count": 81,
   "id": "3a28ccb5",
   "metadata": {},
   "outputs": [
    {
     "name": "stdout",
     "output_type": "stream",
     "text": [
      "patient       Bob       Guido         Sue      \n",
      "measurement    HR  Temp    HR  Temp    HR  Temp\n",
      "year visit                                     \n",
      "2013 1       33.0  37.9  38.0  36.1  26.0  37.2\n",
      "     2       41.0  36.0  34.0  36.6  33.0  36.6\n",
      "2014 1       27.0  36.6  44.0  37.4  38.0  37.7\n",
      "     2       47.0  36.9  29.0  36.0  36.0  35.8\n"
     ]
    }
   ],
   "source": [
    "# a.\n",
    "print(D2)\n"
   ]
  },
  {
   "cell_type": "code",
   "execution_count": 82,
   "id": "5bf5fba7",
   "metadata": {},
   "outputs": [
    {
     "data": {
      "text/html": [
       "<div>\n",
       "<style scoped>\n",
       "    .dataframe tbody tr th:only-of-type {\n",
       "        vertical-align: middle;\n",
       "    }\n",
       "\n",
       "    .dataframe tbody tr th {\n",
       "        vertical-align: top;\n",
       "    }\n",
       "\n",
       "    .dataframe thead th {\n",
       "        text-align: right;\n",
       "    }\n",
       "</style>\n",
       "<table border=\"1\" class=\"dataframe\">\n",
       "  <thead>\n",
       "    <tr style=\"text-align: right;\">\n",
       "      <th></th>\n",
       "      <th>measurement</th>\n",
       "      <th>HR</th>\n",
       "      <th>Temp</th>\n",
       "    </tr>\n",
       "    <tr>\n",
       "      <th>year</th>\n",
       "      <th>visit</th>\n",
       "      <th></th>\n",
       "      <th></th>\n",
       "    </tr>\n",
       "  </thead>\n",
       "  <tbody>\n",
       "    <tr>\n",
       "      <th rowspan=\"2\" valign=\"top\">2013</th>\n",
       "      <th>1</th>\n",
       "      <td>26.0</td>\n",
       "      <td>37.2</td>\n",
       "    </tr>\n",
       "    <tr>\n",
       "      <th>2</th>\n",
       "      <td>33.0</td>\n",
       "      <td>36.6</td>\n",
       "    </tr>\n",
       "    <tr>\n",
       "      <th rowspan=\"2\" valign=\"top\">2014</th>\n",
       "      <th>1</th>\n",
       "      <td>38.0</td>\n",
       "      <td>37.7</td>\n",
       "    </tr>\n",
       "    <tr>\n",
       "      <th>2</th>\n",
       "      <td>36.0</td>\n",
       "      <td>35.8</td>\n",
       "    </tr>\n",
       "  </tbody>\n",
       "</table>\n",
       "</div>"
      ],
      "text/plain": [
       "measurement    HR  Temp\n",
       "year visit             \n",
       "2013 1       26.0  37.2\n",
       "     2       33.0  36.6\n",
       "2014 1       38.0  37.7\n",
       "     2       36.0  35.8"
      ]
     },
     "execution_count": 82,
     "metadata": {},
     "output_type": "execute_result"
    }
   ],
   "source": [
    "# b. select 'Sue' column from D2\n",
    "D2['Sue']\n"
   ]
  },
  {
   "cell_type": "code",
   "execution_count": 83,
   "id": "0d283dd5",
   "metadata": {},
   "outputs": [
    {
     "data": {
      "text/plain": [
       "year  visit\n",
       "2013  1        26.0\n",
       "      2        33.0\n",
       "2014  1        38.0\n",
       "      2        36.0\n",
       "Name: (Sue, HR), dtype: float64"
      ]
     },
     "execution_count": 83,
     "metadata": {},
     "output_type": "execute_result"
    }
   ],
   "source": [
    "# c. select 'HR' column in 'Sue' column from D2\n",
    "D2['Sue', 'HR']"
   ]
  },
  {
   "cell_type": "code",
   "execution_count": 84,
   "id": "88e985a0",
   "metadata": {},
   "outputs": [
    {
     "data": {
      "text/html": [
       "<div>\n",
       "<style scoped>\n",
       "    .dataframe tbody tr th:only-of-type {\n",
       "        vertical-align: middle;\n",
       "    }\n",
       "\n",
       "    .dataframe tbody tr th {\n",
       "        vertical-align: top;\n",
       "    }\n",
       "\n",
       "    .dataframe thead tr th {\n",
       "        text-align: left;\n",
       "    }\n",
       "\n",
       "    .dataframe thead tr:last-of-type th {\n",
       "        text-align: right;\n",
       "    }\n",
       "</style>\n",
       "<table border=\"1\" class=\"dataframe\">\n",
       "  <thead>\n",
       "    <tr>\n",
       "      <th></th>\n",
       "      <th>patient</th>\n",
       "      <th colspan=\"2\" halign=\"left\">Guido</th>\n",
       "    </tr>\n",
       "    <tr>\n",
       "      <th></th>\n",
       "      <th>measurement</th>\n",
       "      <th>HR</th>\n",
       "      <th>Temp</th>\n",
       "    </tr>\n",
       "    <tr>\n",
       "      <th>year</th>\n",
       "      <th>visit</th>\n",
       "      <th></th>\n",
       "      <th></th>\n",
       "    </tr>\n",
       "  </thead>\n",
       "  <tbody>\n",
       "    <tr>\n",
       "      <th rowspan=\"2\" valign=\"top\">2014</th>\n",
       "      <th>1</th>\n",
       "      <td>44.0</td>\n",
       "      <td>37.4</td>\n",
       "    </tr>\n",
       "    <tr>\n",
       "      <th>2</th>\n",
       "      <td>29.0</td>\n",
       "      <td>36.0</td>\n",
       "    </tr>\n",
       "  </tbody>\n",
       "</table>\n",
       "</div>"
      ],
      "text/plain": [
       "patient     Guido      \n",
       "measurement    HR  Temp\n",
       "year visit             \n",
       "2014 1       44.0  37.4\n",
       "     2       29.0  36.0"
      ]
     },
     "execution_count": 84,
     "metadata": {},
     "output_type": "execute_result"
    }
   ],
   "source": [
    "# d. select '2014' row and 'Guido' column from D2. (using iloc)\n",
    "D2.iloc[2:, 2:4]"
   ]
  },
  {
   "cell_type": "code",
   "execution_count": 85,
   "id": "cbf4f1fb",
   "metadata": {},
   "outputs": [
    {
     "data": {
      "text/plain": [
       "visit\n",
       "1    38.0\n",
       "2    34.0\n",
       "Name: (Guido, HR), dtype: float64"
      ]
     },
     "execution_count": 85,
     "metadata": {},
     "output_type": "execute_result"
    }
   ],
   "source": [
    "# e. select '2013' row and 'HR' column in 'Guido' column from D2. (using loc)\n",
    "D2.loc[2013, ('Guido', 'HR')]"
   ]
  },
  {
   "cell_type": "code",
   "execution_count": 87,
   "id": "65c4e12d",
   "metadata": {
    "scrolled": false
   },
   "outputs": [
    {
     "data": {
      "text/html": [
       "<div>\n",
       "<style scoped>\n",
       "    .dataframe tbody tr th:only-of-type {\n",
       "        vertical-align: middle;\n",
       "    }\n",
       "\n",
       "    .dataframe tbody tr th {\n",
       "        vertical-align: top;\n",
       "    }\n",
       "\n",
       "    .dataframe thead tr th {\n",
       "        text-align: left;\n",
       "    }\n",
       "\n",
       "    .dataframe thead tr:last-of-type th {\n",
       "        text-align: right;\n",
       "    }\n",
       "</style>\n",
       "<table border=\"1\" class=\"dataframe\">\n",
       "  <thead>\n",
       "    <tr>\n",
       "      <th></th>\n",
       "      <th>patient</th>\n",
       "      <th>Bob</th>\n",
       "      <th>Guido</th>\n",
       "      <th>Sue</th>\n",
       "    </tr>\n",
       "    <tr>\n",
       "      <th></th>\n",
       "      <th>measurement</th>\n",
       "      <th>Temp</th>\n",
       "      <th>Temp</th>\n",
       "      <th>Temp</th>\n",
       "    </tr>\n",
       "    <tr>\n",
       "      <th>year</th>\n",
       "      <th>visit</th>\n",
       "      <th></th>\n",
       "      <th></th>\n",
       "      <th></th>\n",
       "    </tr>\n",
       "  </thead>\n",
       "  <tbody>\n",
       "    <tr>\n",
       "      <th>2013</th>\n",
       "      <th>2</th>\n",
       "      <td>36.0</td>\n",
       "      <td>36.6</td>\n",
       "      <td>36.6</td>\n",
       "    </tr>\n",
       "    <tr>\n",
       "      <th>2014</th>\n",
       "      <th>2</th>\n",
       "      <td>36.9</td>\n",
       "      <td>36.0</td>\n",
       "      <td>35.8</td>\n",
       "    </tr>\n",
       "  </tbody>\n",
       "</table>\n",
       "</div>"
      ],
      "text/plain": [
       "patient       Bob Guido   Sue\n",
       "measurement  Temp  Temp  Temp\n",
       "year visit                   \n",
       "2013 2       36.0  36.6  36.6\n",
       "2014 2       36.9  36.0  35.8"
      ]
     },
     "execution_count": 87,
     "metadata": {},
     "output_type": "execute_result"
    }
   ],
   "source": [
    "# f. select 'visit'=2 row and 'Temp' column from D2. (recall loc and idx)\n",
    "idx=pd.IndexSlice\n",
    "D2.loc[idx[:, 2], idx[:, 'Temp']]"
   ]
  },
  {
   "cell_type": "markdown",
   "id": "9d770159",
   "metadata": {},
   "source": [
    "# Q6: Data Aggregations on Multi-Indices"
   ]
  },
  {
   "cell_type": "markdown",
   "id": "4456e215",
   "metadata": {},
   "source": [
    "- a. print D2\n",
    "- b. take the sum among levels on the visit row\n",
    "- c. take the sum among levels on the patient column"
   ]
  },
  {
   "cell_type": "code",
   "execution_count": 88,
   "id": "5dce810f",
   "metadata": {},
   "outputs": [
    {
     "name": "stdout",
     "output_type": "stream",
     "text": [
      "patient       Bob       Guido         Sue      \n",
      "measurement    HR  Temp    HR  Temp    HR  Temp\n",
      "year visit                                     \n",
      "2013 1       33.0  37.9  38.0  36.1  26.0  37.2\n",
      "     2       41.0  36.0  34.0  36.6  33.0  36.6\n",
      "2014 1       27.0  36.6  44.0  37.4  38.0  37.7\n",
      "     2       47.0  36.9  29.0  36.0  36.0  35.8\n"
     ]
    }
   ],
   "source": [
    "# a.\n",
    "print(D2)\n"
   ]
  },
  {
   "cell_type": "code",
   "execution_count": 91,
   "id": "74478e4c",
   "metadata": {},
   "outputs": [
    {
     "name": "stderr",
     "output_type": "stream",
     "text": [
      "C:\\Users\\hsian\\AppData\\Local\\Temp\\ipykernel_21884\\3066888446.py:2: FutureWarning: Using the level keyword in DataFrame and Series aggregations is deprecated and will be removed in a future version. Use groupby instead. df.sum(level=1) should use df.groupby(level=1).sum().\n",
      "  visit_sum=D2.sum(level='visit')\n"
     ]
    },
    {
     "data": {
      "text/html": [
       "<div>\n",
       "<style scoped>\n",
       "    .dataframe tbody tr th:only-of-type {\n",
       "        vertical-align: middle;\n",
       "    }\n",
       "\n",
       "    .dataframe tbody tr th {\n",
       "        vertical-align: top;\n",
       "    }\n",
       "\n",
       "    .dataframe thead tr th {\n",
       "        text-align: left;\n",
       "    }\n",
       "\n",
       "    .dataframe thead tr:last-of-type th {\n",
       "        text-align: right;\n",
       "    }\n",
       "</style>\n",
       "<table border=\"1\" class=\"dataframe\">\n",
       "  <thead>\n",
       "    <tr>\n",
       "      <th>patient</th>\n",
       "      <th colspan=\"2\" halign=\"left\">Bob</th>\n",
       "      <th colspan=\"2\" halign=\"left\">Guido</th>\n",
       "      <th colspan=\"2\" halign=\"left\">Sue</th>\n",
       "    </tr>\n",
       "    <tr>\n",
       "      <th>measurement</th>\n",
       "      <th>HR</th>\n",
       "      <th>Temp</th>\n",
       "      <th>HR</th>\n",
       "      <th>Temp</th>\n",
       "      <th>HR</th>\n",
       "      <th>Temp</th>\n",
       "    </tr>\n",
       "    <tr>\n",
       "      <th>visit</th>\n",
       "      <th></th>\n",
       "      <th></th>\n",
       "      <th></th>\n",
       "      <th></th>\n",
       "      <th></th>\n",
       "      <th></th>\n",
       "    </tr>\n",
       "  </thead>\n",
       "  <tbody>\n",
       "    <tr>\n",
       "      <th>1</th>\n",
       "      <td>60.0</td>\n",
       "      <td>74.5</td>\n",
       "      <td>82.0</td>\n",
       "      <td>73.5</td>\n",
       "      <td>64.0</td>\n",
       "      <td>74.9</td>\n",
       "    </tr>\n",
       "    <tr>\n",
       "      <th>2</th>\n",
       "      <td>88.0</td>\n",
       "      <td>72.9</td>\n",
       "      <td>63.0</td>\n",
       "      <td>72.6</td>\n",
       "      <td>69.0</td>\n",
       "      <td>72.4</td>\n",
       "    </tr>\n",
       "  </tbody>\n",
       "</table>\n",
       "</div>"
      ],
      "text/plain": [
       "patient       Bob       Guido         Sue      \n",
       "measurement    HR  Temp    HR  Temp    HR  Temp\n",
       "visit                                          \n",
       "1            60.0  74.5  82.0  73.5  64.0  74.9\n",
       "2            88.0  72.9  63.0  72.6  69.0  72.4"
      ]
     },
     "execution_count": 91,
     "metadata": {},
     "output_type": "execute_result"
    }
   ],
   "source": [
    "# b. take the sum among levels on the visit row\n",
    "visit_sum=D2.sum(level='visit')\n",
    "visit_sum"
   ]
  },
  {
   "cell_type": "code",
   "execution_count": 102,
   "id": "492fe753",
   "metadata": {},
   "outputs": [
    {
     "name": "stderr",
     "output_type": "stream",
     "text": [
      "C:\\Users\\hsian\\AppData\\Local\\Temp\\ipykernel_21884\\3741137220.py:2: FutureWarning: Using the level keyword in DataFrame and Series aggregations is deprecated and will be removed in a future version. Use groupby instead. df.sum(level=1) should use df.groupby(level=1).sum().\n",
      "  patient_sum=D2.sum(axis=1, level='patient')\n"
     ]
    },
    {
     "data": {
      "text/html": [
       "<div>\n",
       "<style scoped>\n",
       "    .dataframe tbody tr th:only-of-type {\n",
       "        vertical-align: middle;\n",
       "    }\n",
       "\n",
       "    .dataframe tbody tr th {\n",
       "        vertical-align: top;\n",
       "    }\n",
       "\n",
       "    .dataframe thead th {\n",
       "        text-align: right;\n",
       "    }\n",
       "</style>\n",
       "<table border=\"1\" class=\"dataframe\">\n",
       "  <thead>\n",
       "    <tr style=\"text-align: right;\">\n",
       "      <th></th>\n",
       "      <th>patient</th>\n",
       "      <th>Bob</th>\n",
       "      <th>Guido</th>\n",
       "      <th>Sue</th>\n",
       "    </tr>\n",
       "    <tr>\n",
       "      <th>year</th>\n",
       "      <th>visit</th>\n",
       "      <th></th>\n",
       "      <th></th>\n",
       "      <th></th>\n",
       "    </tr>\n",
       "  </thead>\n",
       "  <tbody>\n",
       "    <tr>\n",
       "      <th rowspan=\"2\" valign=\"top\">2013</th>\n",
       "      <th>1</th>\n",
       "      <td>70.9</td>\n",
       "      <td>74.1</td>\n",
       "      <td>63.2</td>\n",
       "    </tr>\n",
       "    <tr>\n",
       "      <th>2</th>\n",
       "      <td>77.0</td>\n",
       "      <td>70.6</td>\n",
       "      <td>69.6</td>\n",
       "    </tr>\n",
       "    <tr>\n",
       "      <th rowspan=\"2\" valign=\"top\">2014</th>\n",
       "      <th>1</th>\n",
       "      <td>63.6</td>\n",
       "      <td>81.4</td>\n",
       "      <td>75.7</td>\n",
       "    </tr>\n",
       "    <tr>\n",
       "      <th>2</th>\n",
       "      <td>83.9</td>\n",
       "      <td>65.0</td>\n",
       "      <td>71.8</td>\n",
       "    </tr>\n",
       "  </tbody>\n",
       "</table>\n",
       "</div>"
      ],
      "text/plain": [
       "patient      Bob  Guido   Sue\n",
       "year visit                   \n",
       "2013 1      70.9   74.1  63.2\n",
       "     2      77.0   70.6  69.6\n",
       "2014 1      63.6   81.4  75.7\n",
       "     2      83.9   65.0  71.8"
      ]
     },
     "execution_count": 102,
     "metadata": {},
     "output_type": "execute_result"
    }
   ],
   "source": [
    "# c. take the sum among levels on the patient column\n",
    "patient_sum=D2.sum(axis=1, level='patient')\n",
    "patient_sum\n"
   ]
  },
  {
   "cell_type": "markdown",
   "id": "2851d86f",
   "metadata": {},
   "source": [
    "# Q7: Simple Concatenation with pd.concat"
   ]
  },
  {
   "cell_type": "markdown",
   "id": "bb28ba51",
   "metadata": {},
   "source": [
    "- a. print E1\n",
    "- b. print E2\n",
    "- c. concat E1 and E2 by row\n",
    "- d. fix the duplicate indices problem on c (hint: use ignore_index)\n",
    "- e. concat E1 and E2 by column"
   ]
  },
  {
   "cell_type": "code",
   "execution_count": 104,
   "id": "75d4de37",
   "metadata": {},
   "outputs": [],
   "source": [
    "E1=pd.DataFrame([['A1','B1','C1'],['A2','B2','C2']], index=['1','2'], columns=['A','B','C'])\n",
    "\n",
    "E2=pd.DataFrame([['B3','C3','D3'],['B4','C4','D4']], index=['1','2'], columns=['B','C','D'])"
   ]
  },
  {
   "cell_type": "code",
   "execution_count": 105,
   "id": "550a9f66",
   "metadata": {},
   "outputs": [
    {
     "name": "stdout",
     "output_type": "stream",
     "text": [
      "    A   B   C\n",
      "1  A1  B1  C1\n",
      "2  A2  B2  C2\n"
     ]
    }
   ],
   "source": [
    "# a. \n",
    "print(E1)"
   ]
  },
  {
   "cell_type": "code",
   "execution_count": 106,
   "id": "c1d037f2",
   "metadata": {},
   "outputs": [
    {
     "name": "stdout",
     "output_type": "stream",
     "text": [
      "    B   C   D\n",
      "1  B3  C3  D3\n",
      "2  B4  C4  D4\n"
     ]
    }
   ],
   "source": [
    "# b.\n",
    "print(E2)\n"
   ]
  },
  {
   "cell_type": "code",
   "execution_count": 109,
   "id": "1f781f4d",
   "metadata": {},
   "outputs": [
    {
     "data": {
      "text/html": [
       "<div>\n",
       "<style scoped>\n",
       "    .dataframe tbody tr th:only-of-type {\n",
       "        vertical-align: middle;\n",
       "    }\n",
       "\n",
       "    .dataframe tbody tr th {\n",
       "        vertical-align: top;\n",
       "    }\n",
       "\n",
       "    .dataframe thead th {\n",
       "        text-align: right;\n",
       "    }\n",
       "</style>\n",
       "<table border=\"1\" class=\"dataframe\">\n",
       "  <thead>\n",
       "    <tr style=\"text-align: right;\">\n",
       "      <th></th>\n",
       "      <th>A</th>\n",
       "      <th>B</th>\n",
       "      <th>C</th>\n",
       "      <th>D</th>\n",
       "    </tr>\n",
       "  </thead>\n",
       "  <tbody>\n",
       "    <tr>\n",
       "      <th>1</th>\n",
       "      <td>A1</td>\n",
       "      <td>B1</td>\n",
       "      <td>C1</td>\n",
       "      <td>NaN</td>\n",
       "    </tr>\n",
       "    <tr>\n",
       "      <th>2</th>\n",
       "      <td>A2</td>\n",
       "      <td>B2</td>\n",
       "      <td>C2</td>\n",
       "      <td>NaN</td>\n",
       "    </tr>\n",
       "    <tr>\n",
       "      <th>1</th>\n",
       "      <td>NaN</td>\n",
       "      <td>B3</td>\n",
       "      <td>C3</td>\n",
       "      <td>D3</td>\n",
       "    </tr>\n",
       "    <tr>\n",
       "      <th>2</th>\n",
       "      <td>NaN</td>\n",
       "      <td>B4</td>\n",
       "      <td>C4</td>\n",
       "      <td>D4</td>\n",
       "    </tr>\n",
       "  </tbody>\n",
       "</table>\n",
       "</div>"
      ],
      "text/plain": [
       "     A   B   C    D\n",
       "1   A1  B1  C1  NaN\n",
       "2   A2  B2  C2  NaN\n",
       "1  NaN  B3  C3   D3\n",
       "2  NaN  B4  C4   D4"
      ]
     },
     "execution_count": 109,
     "metadata": {},
     "output_type": "execute_result"
    }
   ],
   "source": [
    "# c.\n",
    "pd.concat([E1, E2])\n"
   ]
  },
  {
   "cell_type": "code",
   "execution_count": 110,
   "id": "232bd9e5",
   "metadata": {},
   "outputs": [
    {
     "data": {
      "text/html": [
       "<div>\n",
       "<style scoped>\n",
       "    .dataframe tbody tr th:only-of-type {\n",
       "        vertical-align: middle;\n",
       "    }\n",
       "\n",
       "    .dataframe tbody tr th {\n",
       "        vertical-align: top;\n",
       "    }\n",
       "\n",
       "    .dataframe thead th {\n",
       "        text-align: right;\n",
       "    }\n",
       "</style>\n",
       "<table border=\"1\" class=\"dataframe\">\n",
       "  <thead>\n",
       "    <tr style=\"text-align: right;\">\n",
       "      <th></th>\n",
       "      <th>A</th>\n",
       "      <th>B</th>\n",
       "      <th>C</th>\n",
       "      <th>D</th>\n",
       "    </tr>\n",
       "  </thead>\n",
       "  <tbody>\n",
       "    <tr>\n",
       "      <th>0</th>\n",
       "      <td>A1</td>\n",
       "      <td>B1</td>\n",
       "      <td>C1</td>\n",
       "      <td>NaN</td>\n",
       "    </tr>\n",
       "    <tr>\n",
       "      <th>1</th>\n",
       "      <td>A2</td>\n",
       "      <td>B2</td>\n",
       "      <td>C2</td>\n",
       "      <td>NaN</td>\n",
       "    </tr>\n",
       "    <tr>\n",
       "      <th>2</th>\n",
       "      <td>NaN</td>\n",
       "      <td>B3</td>\n",
       "      <td>C3</td>\n",
       "      <td>D3</td>\n",
       "    </tr>\n",
       "    <tr>\n",
       "      <th>3</th>\n",
       "      <td>NaN</td>\n",
       "      <td>B4</td>\n",
       "      <td>C4</td>\n",
       "      <td>D4</td>\n",
       "    </tr>\n",
       "  </tbody>\n",
       "</table>\n",
       "</div>"
      ],
      "text/plain": [
       "     A   B   C    D\n",
       "0   A1  B1  C1  NaN\n",
       "1   A2  B2  C2  NaN\n",
       "2  NaN  B3  C3   D3\n",
       "3  NaN  B4  C4   D4"
      ]
     },
     "execution_count": 110,
     "metadata": {},
     "output_type": "execute_result"
    }
   ],
   "source": [
    "# d.\n",
    "pd.concat([E1, E2], ignore_index=True)"
   ]
  },
  {
   "cell_type": "code",
   "execution_count": 111,
   "id": "1738a148",
   "metadata": {},
   "outputs": [
    {
     "data": {
      "text/html": [
       "<div>\n",
       "<style scoped>\n",
       "    .dataframe tbody tr th:only-of-type {\n",
       "        vertical-align: middle;\n",
       "    }\n",
       "\n",
       "    .dataframe tbody tr th {\n",
       "        vertical-align: top;\n",
       "    }\n",
       "\n",
       "    .dataframe thead th {\n",
       "        text-align: right;\n",
       "    }\n",
       "</style>\n",
       "<table border=\"1\" class=\"dataframe\">\n",
       "  <thead>\n",
       "    <tr style=\"text-align: right;\">\n",
       "      <th></th>\n",
       "      <th>A</th>\n",
       "      <th>B</th>\n",
       "      <th>C</th>\n",
       "      <th>B</th>\n",
       "      <th>C</th>\n",
       "      <th>D</th>\n",
       "    </tr>\n",
       "  </thead>\n",
       "  <tbody>\n",
       "    <tr>\n",
       "      <th>1</th>\n",
       "      <td>A1</td>\n",
       "      <td>B1</td>\n",
       "      <td>C1</td>\n",
       "      <td>B3</td>\n",
       "      <td>C3</td>\n",
       "      <td>D3</td>\n",
       "    </tr>\n",
       "    <tr>\n",
       "      <th>2</th>\n",
       "      <td>A2</td>\n",
       "      <td>B2</td>\n",
       "      <td>C2</td>\n",
       "      <td>B4</td>\n",
       "      <td>C4</td>\n",
       "      <td>D4</td>\n",
       "    </tr>\n",
       "  </tbody>\n",
       "</table>\n",
       "</div>"
      ],
      "text/plain": [
       "    A   B   C   B   C   D\n",
       "1  A1  B1  C1  B3  C3  D3\n",
       "2  A2  B2  C2  B4  C4  D4"
      ]
     },
     "execution_count": 111,
     "metadata": {},
     "output_type": "execute_result"
    }
   ],
   "source": [
    "# concat H1 and H2 by column\n",
    "pd.concat([E1, E2], axis=1)\n",
    "\n"
   ]
  },
  {
   "cell_type": "code",
   "execution_count": null,
   "id": "2ee9afde",
   "metadata": {},
   "outputs": [],
   "source": []
  }
 ],
 "metadata": {
  "kernelspec": {
   "display_name": "Python 3.10.2 64-bit",
   "language": "python",
   "name": "python3"
  },
  "language_info": {
   "codemirror_mode": {
    "name": "ipython",
    "version": 3
   },
   "file_extension": ".py",
   "mimetype": "text/x-python",
   "name": "python",
   "nbconvert_exporter": "python",
   "pygments_lexer": "ipython3",
   "version": "3.10.2"
  },
  "toc": {
   "base_numbering": 1,
   "nav_menu": {},
   "number_sections": true,
   "sideBar": true,
   "skip_h1_title": false,
   "title_cell": "Table of Contents",
   "title_sidebar": "Contents",
   "toc_cell": false,
   "toc_position": {},
   "toc_section_display": true,
   "toc_window_display": true
  },
  "vscode": {
   "interpreter": {
    "hash": "eb6335f86049935ab3a1e6168a640c161cd4c2d3c8bde3a37ebd86b9bd3e1c1e"
   }
  }
 },
 "nbformat": 4,
 "nbformat_minor": 5
}
