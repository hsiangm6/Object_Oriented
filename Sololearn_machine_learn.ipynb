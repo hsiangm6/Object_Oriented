{
 "cells": [
  {
   "cell_type": "markdown",
   "metadata": {},
   "source": [
    "# Machine Learning\n",
    "- 機器學習可用於創建聊天機器人、檢測垃圾郵件或圖像識別。\n",
    "- using pandas, numpy, matplotlib and scikit-learn.\n",
    "- Pandas is used for reading data and data manipulation.\n",
    "- numpy is used for computations of numerical data. \n",
    "- matplotlib is used for graphing data.\n",
    "- scikit-learn is used for machine learning models."
   ]
  },
  {
   "cell_type": "markdown",
   "metadata": {},
   "source": [
    "<p>In Machine Learning, we talk about supervised and unsupervised learning:<br />\n",
    "Supervised learning is when we have a known target based on past data (for example, predicting what price a house will sell for).<br />\n",
    "Unsupervised learning is when there isn't a known past answer (for example, determining the topics discussed in restaurant reviews).<br />\n",
    "在監督學習中，存在分類(classification)和回歸(regression)問題。回歸是預測一個數值（例如，預測房子的售價），而分類是預測某物屬於哪個類別（例如，預測借款人是否會拖欠貸款)。<br />\n",
    "我們的示例將包括：<br />\n",
    "• 預測誰能在泰坦尼克號墜毀中倖存下來<br />\n",
    "• 從圖像中確定手寫數字<br />\n",
    "• 使用活檢數據對腫塊是否癌變進行分類<br />\n",
    "<br />\n",
    "We'll be using a number of popular techniques to tackle these problems. We'll get into each of them in more detail <br />\n",
    "in upcoming modules:<br />\n",
    "• Logistic Regression<br />\n",
    "• Decision Trees<br />\n",
    "• Random Forests<br />\n",
    "• Neural Networks<br />\n",
    "</p>"
   ]
  },
  {
   "cell_type": "code",
   "execution_count": 1,
   "metadata": {},
   "outputs": [],
   "source": [
    "import numpy as np\n",
    "import pandas as pd\n",
    "import matplotlib.pyplot as plt"
   ]
  },
  {
   "cell_type": "code",
   "execution_count": 2,
   "metadata": {},
   "outputs": [
    {
     "name": "stdout",
     "output_type": "stream",
     "text": [
      "mean: 23.0\n",
      "median: 22.0\n",
      "50th percentile (median): 22.0\n",
      "25th percentile: 18.0\n",
      "75th percentile: 29.0\n",
      "standard deviation: 6.342099196813483\n",
      "variance: 40.22222222222222\n"
     ]
    }
   ],
   "source": [
    "#numpy\n",
    "data = [15, 16, 18, 19, 22, 24, 29, 30, 34]\n",
    "\n",
    "print(\"mean:\", np.mean(data))\n",
    "print(\"median:\", np.median(data))\n",
    "print(\"50th percentile (median):\", np.percentile(data, 50))\n",
    "print(\"25th percentile:\", np.percentile(data, 25))\n",
    "print(\"75th percentile:\", np.percentile(data, 75))\n",
    "print(\"standard deviation:\", np.std(data))\n",
    "print(\"variance:\", np.var(data))"
   ]
  },
  {
   "cell_type": "code",
   "execution_count": 3,
   "metadata": {},
   "outputs": [
    {
     "name": "stdout",
     "output_type": "stream",
     "text": [
      "   Survived   Pclass      Sex   Age   Siblings/Spouses   Parents/Children  \\\n",
      "0         0        3     male  22.0                  1                  0   \n",
      "1         1        1   female  38.0                  1                  0   \n",
      "2         1        3   female  26.0                  0                  0   \n",
      "3         1        1   female  35.0                  1                  0   \n",
      "\n",
      "      Fare  \n",
      "0   7.2500  \n",
      "1  71.2833  \n",
      "2   7.9250  \n",
      "3  53.1000  \n"
     ]
    }
   ],
   "source": [
    "# Pandas\n",
    "df=pd.read_csv('titanic.csv')\n",
    "\n",
    "#The head method returns the first 5 rows of the DataFrame.\n",
    "print(df.head())"
   ]
  },
  {
   "cell_type": "code",
   "execution_count": 4,
   "metadata": {},
   "outputs": [
    {
     "name": "stdout",
     "output_type": "stream",
     "text": [
      "         Survived      Pclass         Age  Siblings/Spouses  Parents/Children  \\\n",
      "count  887.000000  887.000000  887.000000        887.000000        887.000000   \n",
      "mean     0.385569    2.305524   29.471443          0.525366          0.383315   \n",
      "std      0.487004    0.836662   14.121908          1.104669          0.807466   \n",
      "min      0.000000    1.000000    0.420000          0.000000          0.000000   \n",
      "25%      0.000000    2.000000   20.250000          0.000000          0.000000   \n",
      "50%      0.000000    3.000000   28.000000          0.000000          0.000000   \n",
      "75%      1.000000    3.000000   38.000000          1.000000          0.000000   \n",
      "max      1.000000    3.000000   80.000000          8.000000          6.000000   \n",
      "\n",
      "            Fare  \n",
      "count  887.00000  \n",
      "mean    32.30542  \n",
      "std     49.78204  \n",
      "min      0.00000  \n",
      "25%      7.92500  \n",
      "50%     14.45420  \n",
      "75%     31.13750  \n",
      "max    512.32920  \n"
     ]
    }
   ],
   "source": [
    "# We add a line in the code below to force python to display all 6 columns. \n",
    "# Without the line, it will abbreviate the results.\n",
    "pd.options.display.max_columns = 6 \n",
    "df = pd.read_csv('https://sololearn.com/uploads/files/titanic.csv')\n",
    "# use the describe method. It returns a table of statistics about the columns.\n",
    "print(df.describe())"
   ]
  },
  {
   "cell_type": "code",
   "execution_count": 5,
   "metadata": {},
   "outputs": [
    {
     "name": "stdout",
     "output_type": "stream",
     "text": [
      "0       7.2500\n",
      "1      71.2833\n",
      "2       7.9250\n",
      "3      53.1000\n",
      "4       8.0500\n",
      "        ...   \n",
      "882    13.0000\n",
      "883    30.0000\n",
      "884    23.4500\n",
      "885    30.0000\n",
      "886     7.7500\n",
      "Name: Fare, Length: 887, dtype: float64\n"
     ]
    }
   ],
   "source": [
    "#Selecting a Single Column\n",
    "col = df['Fare']\n",
    "print(col)\n",
    "#The result is what we call a Pandas Series.\n",
    "# A series is like a DataFrame, but it's just a single column."
   ]
  },
  {
   "cell_type": "code",
   "execution_count": 6,
   "metadata": {},
   "outputs": [
    {
     "name": "stdout",
     "output_type": "stream",
     "text": [
      "    Age     Sex  Survived\n",
      "0  22.0    male         0\n",
      "1  38.0  female         1\n",
      "2  26.0  female         1\n",
      "3  35.0  female         1\n",
      "4  35.0    male         0\n"
     ]
    }
   ],
   "source": [
    "#Selecting Multiple Columns\n",
    "small_df = df[['Age', 'Sex', 'Survived']]\n",
    "print(small_df.head()) #you can use the head method to print just the first 5 rows."
   ]
  },
  {
   "cell_type": "code",
   "execution_count": 7,
   "metadata": {},
   "outputs": [
    {
     "name": "stdout",
     "output_type": "stream",
     "text": [
      "   Survived  Pclass     Sex  ...  Parents/Children     Fare   male\n",
      "0         0       3    male  ...                 0   7.2500   True\n",
      "1         1       1  female  ...                 0  71.2833  False\n",
      "2         1       3  female  ...                 0   7.9250  False\n",
      "3         1       1  female  ...                 0  53.1000  False\n",
      "4         0       3    male  ...                 0   8.0500   True\n",
      "\n",
      "[5 rows x 8 columns]\n"
     ]
    }
   ],
   "source": [
    "#Creating a Column\n",
    "#We create a Pandas Series that will be a series of Trues and Falses \n",
    "#   (True if the passenger is male and False if the passenger is female).\n",
    "#Now we want to create a column with this result. \n",
    "#   To create a new column, we use the same bracket syntax (df['male']) and then assign this new value to it.\n",
    "df['male'] = (df['Sex'] == 'male')\n",
    "print(df.head()) #Note the new column at the end."
   ]
  },
  {
   "cell_type": "code",
   "execution_count": 8,
   "metadata": {},
   "outputs": [
    {
     "data": {
      "text/plain": [
       "array([  7.25  ,  71.2833,   7.925 ,  53.1   ,   8.05  ,   8.4583,\n",
       "        51.8625,  21.075 ,  11.1333,  30.0708,  16.7   ,  26.55  ,\n",
       "         8.05  ,  31.275 ,   7.8542,  16.    ,  29.125 ,  13.    ,\n",
       "        18.    ,   7.225 ,  26.    ,  13.    ,   8.0292,  35.5   ,\n",
       "        21.075 ,  31.3875,   7.225 , 263.    ,   7.8792,   7.8958,\n",
       "        27.7208, 146.5208,   7.75  ,  10.5   ,  82.1708,  52.    ,\n",
       "         7.2292,   8.05  ,  18.    ,  11.2417,   9.475 ,  21.    ,\n",
       "        41.5792,   7.8792,   8.05  ,  15.5   ,   7.75  ,  21.6792,\n",
       "        17.8   ,  39.6875,   7.8   ,  76.7292,  26.    ,  61.9792,\n",
       "        35.5   ,  10.5   ,   7.2292,  27.75  ,  46.9   ,   7.2292,\n",
       "        80.    ,  83.475 ,  27.9   ,  27.7208,  15.2458,  10.5   ,\n",
       "         8.1583,   7.925 ,   8.6625,  10.5   ,  46.9   ,  73.5   ,\n",
       "        14.4542,  56.4958,   7.65  ,   7.8958,   8.05  ,  29.    ,\n",
       "        12.475 ,   9.    ,   9.5   ,   7.7875,  47.1   ,  10.5   ,\n",
       "        15.85  ,  34.375 ,   8.05  , 263.    ,   8.05  ,   8.05  ,\n",
       "         7.8542,  61.175 ,  20.575 ,   7.25  ,   8.05  ,  34.6542,\n",
       "        63.3583,  23.    ,  26.    ,   7.8958,   7.8958,  77.2875,\n",
       "         8.6542,   7.925 ,   7.8958,   7.65  ,   7.775 ,   7.8958,\n",
       "        24.15  ,  52.    ,  14.4542,   8.05  ,   9.825 ,  14.4583,\n",
       "         7.925 ,   7.75  ,  21.    , 247.5208,  31.275 ,  73.5   ,\n",
       "         8.05  ,  30.0708,  13.    ,  77.2875,  11.2417,   7.75  ,\n",
       "         7.1417,  22.3583,   6.975 ,   7.8958,   7.05  ,  14.5   ,\n",
       "        26.    ,  13.    ,  15.0458,  26.2833,  53.1   ,   9.2167,\n",
       "        79.2   ,  15.2458,   7.75  ,  15.85  ,   6.75  ,  11.5   ,\n",
       "        36.75  ,   7.7958,  34.375 ,  26.    ,  13.    ,  12.525 ,\n",
       "        66.6   ,   8.05  ,  14.5   ,   7.3125,  61.3792,   7.7333,\n",
       "         8.05  ,   8.6625,  69.55  ,  16.1   ,  15.75  ,   7.775 ,\n",
       "         8.6625,  39.6875,  20.525 ,  55.    ,  27.9   ,  25.925 ,\n",
       "        56.4958,  33.5   ,  29.125 ,  11.1333,   7.925 ,  30.6958,\n",
       "         7.8542,  25.4667,  28.7125,  13.    ,   0.    ,  69.55  ,\n",
       "        15.05  ,  31.3875,  39.    ,  22.025 ,  50.    ,  15.5   ,\n",
       "        26.55  ,  15.5   ,   7.8958,  13.    ,  13.    ,   7.8542,\n",
       "        26.    ,  27.7208, 146.5208,   7.75  ,   8.4042,   7.75  ,\n",
       "        13.    ,   9.5   ,  69.55  ,   6.4958,   7.225 ,   8.05  ,\n",
       "        10.4625,  15.85  ,  18.7875,   7.75  ,  31.    ,   7.05  ,\n",
       "        21.    ,   7.25  ,  13.    ,   7.75  , 113.275 ,   7.925 ,\n",
       "        27.    ,  76.2917,  10.5   ,   8.05  ,  13.    ,   8.05  ,\n",
       "         7.8958,  90.    ,   9.35  ,  10.5   ,   7.25  ,  13.    ,\n",
       "        25.4667,  83.475 ,   7.775 ,  13.5   ,  31.3875,  10.5   ,\n",
       "         7.55  ,  26.    ,  26.25  ,  10.5   ,  12.275 ,  14.4542,\n",
       "        15.5   ,  10.5   ,   7.125 ,   7.225 ,  90.    ,   7.775 ,\n",
       "        14.5   ,  52.5542,  26.    ,   7.25  ,  10.4625,  26.55  ,\n",
       "        16.1   ,  20.2125,  15.2458,  79.2   ,  86.5   , 512.3292,\n",
       "        26.    ,  31.3875,  79.65  ,   0.    ,   7.75  ,  10.5   ,\n",
       "        39.6875,   7.775 , 153.4625, 135.6333,  31.    ,   0.    ,\n",
       "        19.5   ,  29.7   ,   7.75  ,  77.9583,   7.75  ,   0.    ,\n",
       "        29.125 ,  20.25  ,   7.75  ,   7.8542,   9.5   ,   8.05  ,\n",
       "        26.    ,   8.6625,   9.5   ,   7.8958,  13.    ,   7.75  ,\n",
       "        78.85  ,  91.0792,  12.875 ,   8.85  ,   7.8958,  27.7208,\n",
       "         7.2292, 151.55  ,  30.5   , 247.5208,   7.75  ,  23.25  ,\n",
       "         0.    ,  12.35  ,   8.05  , 151.55  , 110.8833, 108.9   ,\n",
       "        24.    ,  56.9292,  83.1583, 262.375 ,  26.    ,   7.8958,\n",
       "        26.25  ,   7.8542,  26.    ,  14.    , 164.8667, 134.5   ,\n",
       "         7.25  ,   7.8958,  12.35  ,  29.    ,  69.55  , 135.6333,\n",
       "         6.2375,  13.    ,  20.525 ,  57.9792,  23.25  ,  28.5   ,\n",
       "       153.4625,  18.    , 133.65  ,   7.8958,  66.6   , 134.5   ,\n",
       "         8.05  ,  35.5   ,  26.    , 263.    ,  13.    ,  13.    ,\n",
       "        13.    ,  13.    ,  13.    ,  16.1   ,  15.9   ,   8.6625,\n",
       "         9.225 ,  35.    ,   7.2292,  17.8   ,   7.225 ,   9.5   ,\n",
       "        55.    ,  13.    ,   7.8792,   7.8792,  27.9   ,  27.7208,\n",
       "        14.4542,   7.05  ,  15.5   ,   7.25  ,  75.25  ,   7.2292,\n",
       "         7.75  ,  69.3   ,  55.4417,   6.4958,   8.05  , 135.6333,\n",
       "        21.075 ,  82.1708,   7.25  , 211.5   ,   4.0125,   7.775 ,\n",
       "       227.525 ,  15.7417,   7.925 ,  52.    ,   7.8958,  73.5   ,\n",
       "        46.9   ,  13.    ,   7.7292,  12.    , 120.    ,   7.7958,\n",
       "         7.925 , 113.275 ,  16.7   ,   7.7958,   7.8542,  26.    ,\n",
       "        10.5   ,  12.65  ,   7.925 ,   8.05  ,   9.825 ,  15.85  ,\n",
       "         8.6625,  21.    ,   7.75  ,  18.75  ,   7.775 ,  25.4667,\n",
       "         7.8958,   6.8583,  90.    ,   0.    ,   7.925 ,   8.05  ,\n",
       "        32.5   ,  13.    ,  13.    ,  24.15  ,   7.7333,   7.875 ,\n",
       "        14.4   ,  20.2125,   7.25  ,  26.    ,  26.    ,   7.75  ,\n",
       "         8.05  ,  26.55  ,  16.1   ,  26.    ,   7.125 ,  55.9   ,\n",
       "       120.    ,  34.375 ,  18.75  , 263.    ,  10.5   ,  26.25  ,\n",
       "         9.5   ,   7.775 ,  13.    ,   8.1125,  81.8583,  19.5   ,\n",
       "        26.55  ,  19.2583,  30.5   ,  27.75  ,  19.9667,  27.75  ,\n",
       "        89.1042,   8.05  ,   7.8958,  26.55  ,  51.8625,  10.5   ,\n",
       "         7.75  ,  26.55  ,   8.05  ,  38.5   ,  13.    ,   8.05  ,\n",
       "         7.05  ,   0.    ,  26.55  ,   7.725 ,  19.2583,   7.25  ,\n",
       "         8.6625,  27.75  ,  13.7917,   9.8375,  52.    ,  21.    ,\n",
       "         7.0458,   7.5208,  12.2875,  46.9   ,   0.    ,   8.05  ,\n",
       "         9.5875,  91.0792,  25.4667,  90.    ,  29.7   ,   8.05  ,\n",
       "        15.9   ,  19.9667,   7.25  ,  30.5   ,  49.5042,   8.05  ,\n",
       "        14.4583,  78.2667,  15.1   , 151.55  ,   7.7958,   8.6625,\n",
       "         7.75  ,   7.6292,   9.5875,  86.5   , 108.9   ,  26.    ,\n",
       "        26.55  ,  22.525 ,  56.4958,   7.75  ,   8.05  ,  26.2875,\n",
       "        59.4   ,   7.4958,  34.0208,  10.5   ,  24.15  ,  26.    ,\n",
       "         7.8958,  93.5   ,   7.8958,   7.225 ,  57.9792,   7.2292,\n",
       "         7.75  ,  10.5   , 221.7792,   7.925 ,  11.5   ,  26.    ,\n",
       "         7.2292,   7.2292,  22.3583,   8.6625,  26.25  ,  26.55  ,\n",
       "       106.425 ,  14.5   ,  49.5   ,  71.    ,  31.275 ,  31.275 ,\n",
       "        26.    , 106.425 ,  26.    ,  26.    ,  13.8625,  20.525 ,\n",
       "        36.75  , 110.8833,  26.    ,   7.8292,   7.225 ,   7.775 ,\n",
       "        26.55  ,  39.6   , 227.525 ,  79.65  ,  17.4   ,   7.75  ,\n",
       "         7.8958,  13.5   ,   8.05  ,   8.05  ,  24.15  ,   7.8958,\n",
       "        21.075 ,   7.2292,   7.8542,  10.5   ,  51.4792,  26.3875,\n",
       "         7.75  ,   8.05  ,  14.5   ,  13.    ,  55.9   ,  14.4583,\n",
       "         7.925 ,  30.    , 110.8833,  26.    ,  40.125 ,   8.7125,\n",
       "        79.65  ,  15.    ,  79.2   ,   8.05  ,   8.05  ,   7.125 ,\n",
       "        78.2667,   7.25  ,   7.75  ,  26.    ,  24.15  ,  33.    ,\n",
       "         0.    ,   7.225 ,  56.9292,  27.    ,   7.8958,  42.4   ,\n",
       "         8.05  ,  26.55  ,  15.55  ,   7.8958,  30.5   ,  41.5792,\n",
       "       153.4625,  31.275 ,   7.05  ,  15.5   ,   7.75  ,   8.05  ,\n",
       "        65.    ,  14.4   ,  16.1   ,  39.    ,  10.5   ,  14.4542,\n",
       "        52.5542,  15.7417,   7.8542,  16.1   ,  32.3208,  12.35  ,\n",
       "        77.9583,   7.8958,   7.7333,  30.    ,   7.0542,  30.5   ,\n",
       "         0.    ,  27.9   ,  13.    ,   7.925 ,  26.25  ,  39.6875,\n",
       "        16.1   ,   7.8542,  69.3   ,  27.9   ,  56.4958,  19.2583,\n",
       "        76.7292,   7.8958,  35.5   ,   7.55  ,   7.55  ,   7.8958,\n",
       "        23.    ,   8.4333,   7.8292,   6.75  ,  73.5   ,   7.8958,\n",
       "        15.5   ,  13.    , 113.275 , 133.65  ,   7.225 ,  25.5875,\n",
       "         7.4958,   7.925 ,  73.5   ,  13.    ,   7.775 ,   8.05  ,\n",
       "        52.    ,  39.    ,  52.    ,  10.5   ,  13.    ,   0.    ,\n",
       "         7.775 ,   8.05  ,   9.8417,  46.9   , 512.3292,   8.1375,\n",
       "        76.7292,   9.225 ,  46.9   ,  39.    ,  41.5792,  39.6875,\n",
       "        10.1708,   7.7958, 211.3375,  57.    ,  13.4167,  56.4958,\n",
       "         7.225 ,  26.55  ,  13.5   ,   8.05  ,   7.7333, 110.8833,\n",
       "         7.65  , 227.525 ,  26.2875,  14.4542,   7.7417,   7.8542,\n",
       "        26.    ,  13.5   ,  26.2875, 151.55  ,  15.2458,  49.5042,\n",
       "        26.55  ,  52.    ,   9.4833,  13.    ,   7.65  , 227.525 ,\n",
       "        10.5   ,   7.775 ,  33.    ,   7.0542,  13.    ,  13.    ,\n",
       "        53.1   ,   8.6625,  21.    ,   7.7375,  26.    ,   7.925 ,\n",
       "       211.3375,  18.7875,   0.    ,  13.    ,  13.    ,  16.1   ,\n",
       "        34.375 , 512.3292,   7.8958,   7.8958,  30.    ,  78.85  ,\n",
       "       262.375 ,  16.1   ,   7.925 ,  71.    ,  20.25  ,  13.    ,\n",
       "        53.1   ,   7.75  ,  23.    ,  12.475 ,   9.5   ,   7.8958,\n",
       "        65.    ,  14.5   ,   7.7958,  11.5   ,   8.05  ,  86.5   ,\n",
       "        14.5   ,   7.125 ,   7.2292, 120.    ,   7.775 ,  77.9583,\n",
       "        39.6   ,   7.75  ,  24.15  ,   8.3625,   9.5   ,   7.8542,\n",
       "        10.5   ,   7.225 ,  23.    ,   7.75  ,   7.75  ,  12.475 ,\n",
       "         7.7375, 211.3375,   7.2292,  57.    ,  30.    ,  23.45  ,\n",
       "         7.05  ,   7.25  ,   7.4958,  29.125 ,  20.575 ,  79.2   ,\n",
       "         7.75  ,  26.    ,  69.55  ,  30.6958,   7.8958,  13.    ,\n",
       "        25.9292,   8.6833,   7.2292,  24.15  ,  13.    ,  26.25  ,\n",
       "       120.    ,   8.5167,   6.975 ,   7.775 ,   0.    ,   7.775 ,\n",
       "        13.    ,  53.1   ,   7.8875,  24.15  ,  10.5   ,  31.275 ,\n",
       "         8.05  ,   0.    ,   7.925 ,  37.0042,   6.45  ,  27.9   ,\n",
       "        93.5   ,   8.6625,   0.    ,  12.475 ,  39.6875,   6.95  ,\n",
       "        56.4958,  37.0042,   7.75  ,  80.    ,  14.4542,  18.75  ,\n",
       "         7.2292,   7.8542,   8.3   ,  83.1583,   8.6625,   8.05  ,\n",
       "        56.4958,  29.7   ,   7.925 ,  10.5   ,  31.    ,   6.4375,\n",
       "         8.6625,   7.55  ,  69.55  ,   7.8958,  33.    ,  89.1042,\n",
       "        31.275 ,   7.775 ,  15.2458,  39.4   ,  26.    ,   9.35  ,\n",
       "       164.8667,  26.55  ,  19.2583,   7.2292,  14.1083,  11.5   ,\n",
       "        25.9292,  69.55  ,  13.    ,  13.    ,  13.8583,  50.4958,\n",
       "         9.5   ,  11.1333,   7.8958,  52.5542,   5.    ,   9.    ,\n",
       "        24.    ,   7.225 ,   9.8458,   7.8958,   7.8958,  83.1583,\n",
       "        26.    ,   7.8958,  10.5167,  10.5   ,   7.05  ,  29.125 ,\n",
       "        13.    ,  30.    ,  23.45  ,  30.    ,   7.75  ])"
      ]
     },
     "execution_count": 8,
     "metadata": {},
     "output_type": "execute_result"
    }
   ],
   "source": [
    "#Converting from a Pandas Series to a Numpy Array\n",
    "#Let's convert the Fare column to a numpy array.\n",
    "df = pd.read_csv('https://sololearn.com/uploads/files/titanic.csv')\n",
    "\n",
    "df['Fare'].values"
   ]
  },
  {
   "cell_type": "code",
   "execution_count": 9,
   "metadata": {},
   "outputs": [
    {
     "name": "stdout",
     "output_type": "stream",
     "text": [
      "[[ 3.      7.25   22.    ]\n",
      " [ 1.     71.2833 38.    ]\n",
      " [ 3.      7.925  26.    ]\n",
      " ...\n",
      " [ 3.     23.45    7.    ]\n",
      " [ 1.     30.     26.    ]\n",
      " [ 3.      7.75   32.    ]]\n"
     ]
    }
   ],
   "source": [
    "#Converting from a Pandas DataFrame to a Numpy Array\n",
    "df = pd.read_csv('https://sololearn.com/uploads/files/titanic.csv')\n",
    "print(df[['Pclass', 'Fare', 'Age']].values)"
   ]
  },
  {
   "cell_type": "code",
   "execution_count": 10,
   "metadata": {},
   "outputs": [
    {
     "name": "stdout",
     "output_type": "stream",
     "text": [
      "(887, 3)\n",
      "7.25\n"
     ]
    }
   ],
   "source": [
    "#Numpy Shape Attribute\n",
    "# We use the numpy shape attribute to determine the size of our numpy array.\n",
    "arr = df[['Pclass', 'Fare', 'Age']].values\n",
    "print(arr.shape) #(887, 3)  This result means we have 887 rows and 3 columns.\n",
    "\n",
    "#select a single element from a numpy array with the following:\n",
    "print(arr[0,1]) #This will be the 2nd column of the 1st row (remember that we start counting at 0).\n"
   ]
  },
  {
   "cell_type": "code",
   "execution_count": 11,
   "metadata": {},
   "outputs": [
    {
     "name": "stdout",
     "output_type": "stream",
     "text": [
      "[False False False False False False False  True False  True  True False\n",
      " False False  True False  True False False False False False  True False\n",
      "  True False False False False False False False False False False False\n",
      " False False False  True False False  True False False False False  True\n",
      " False  True False False False False False False False  True  True False\n",
      " False False  True False  True False False  True False False  True False\n",
      " False False False False False  True False False False False False  True\n",
      " False  True False False False False False False False False False False\n",
      " False False False False False False False False False False False False\n",
      " False False  True False False  True False False False False  True False\n",
      " False False False False  True False False  True False False False False\n",
      " False False False False False  True False False False False False False\n",
      " False False  True False False False False False False False False  True\n",
      " False False  True False False False  True  True  True False False False\n",
      " False False  True  True False False False  True False False False  True\n",
      " False  True  True  True False False False False False False False False\n",
      "  True False False False False False False False  True False False False\n",
      "  True False False  True False False False False False False False False\n",
      " False False False  True False False False False False False False False\n",
      "  True False False False  True False False False  True False False False\n",
      " False False False False False False False False False False False False\n",
      " False False False False False False False  True False False False False\n",
      "  True False False False False False False False False False False False\n",
      "  True False False False  True False False False False False False False\n",
      " False False False False False False False  True False False False False\n",
      " False False False  True False  True False False False False False False\n",
      " False False False False False False False False False False False False\n",
      " False False False  True False False False  True False False False False\n",
      " False False  True False False False False False False False  True False\n",
      " False False  True False False False False False False False False False\n",
      " False False False False False False False False False False False False\n",
      "  True False False False False False False  True False False False False\n",
      "  True False False  True False False False False False False False False\n",
      " False False False False False False False False False  True False  True\n",
      " False False False False False False False False False  True False False\n",
      " False False False False False False False False False False  True False\n",
      "  True False False False False False False False False False  True  True\n",
      " False  True False False False False False False False False False False\n",
      "  True False False False False False False False False False  True False\n",
      " False False False False False False False False  True  True False False\n",
      " False False  True False False False  True False False False False False\n",
      " False False False False False  True False False False  True False False\n",
      " False False False False False False False False False False False False\n",
      " False False False False False False False False False False False  True\n",
      "  True  True False False  True False False False False False  True  True\n",
      " False False False False False False  True  True False False False False\n",
      " False False False False False False False False False False False False\n",
      " False False False False False False False  True False False False False\n",
      " False False False False False  True False False False False False False\n",
      " False False False False False False False False False False False False\n",
      " False False False False False False False False False False False False\n",
      " False False False  True False False False False False False False False\n",
      " False False False False False False False  True False False False False\n",
      " False False False  True False  True False False False False False False\n",
      " False False  True False False False False False False False False False\n",
      " False False False False False False False False False False False False\n",
      " False False False False False False False False  True False False  True\n",
      " False False  True False  True False False False False False False False\n",
      " False False False False False False False False False False  True False\n",
      " False False False False False False False False  True  True False False\n",
      " False False False False False False False  True False False False False\n",
      " False False False False False False False False False False  True False\n",
      " False False  True  True False False False  True False False False False\n",
      " False False False False  True False False False False False False False\n",
      " False False False False False  True False False  True  True False False\n",
      " False False False  True  True False False  True False False False False\n",
      " False False False False False False  True  True False False False False\n",
      " False False False False False  True False False False False False  True\n",
      " False False False False  True False False  True False False  True  True\n",
      " False False False False False False False False False  True False False\n",
      "  True False False False False False  True False  True  True False False\n",
      " False False False False False False False  True False False False False\n",
      " False  True False False False False False  True False False False False\n",
      " False False False False False False False False  True False False]\n"
     ]
    },
    {
     "data": {
      "text/plain": [
       "array([[  3.    ,  21.075 ,   2.    ],\n",
       "       [  2.    ,  30.0708,  14.    ],\n",
       "       [  3.    ,  16.7   ,   4.    ],\n",
       "       [  3.    ,   7.8542,  14.    ],\n",
       "       [  3.    ,  29.125 ,   2.    ],\n",
       "       [  3.    ,   8.0292,  15.    ],\n",
       "       [  3.    ,  21.075 ,   8.    ],\n",
       "       [  3.    ,  11.2417,  14.    ],\n",
       "       [  2.    ,  41.5792,   3.    ],\n",
       "       [  3.    ,  21.6792,  16.    ],\n",
       "       [  3.    ,  39.6875,   7.    ],\n",
       "       [  2.    ,  27.75  ,   5.    ],\n",
       "       [  3.    ,  46.9   ,  11.    ],\n",
       "       [  3.    ,  27.9   ,   4.    ],\n",
       "       [  3.    ,  15.2458,   7.    ],\n",
       "       [  3.    ,   7.925 ,  17.    ],\n",
       "       [  3.    ,  46.9   ,  16.    ],\n",
       "       [  2.    ,  29.    ,   0.83  ],\n",
       "       [  2.    ,  10.5   ,  17.    ],\n",
       "       [  3.    ,  34.375 ,  16.    ],\n",
       "       [  3.    ,  14.4542,  14.5   ],\n",
       "       [  3.    ,  14.4583,  17.    ],\n",
       "       [  3.    ,  31.275 ,   2.    ],\n",
       "       [  3.    ,  11.2417,  12.    ],\n",
       "       [  3.    ,  22.3583,   2.    ],\n",
       "       [  3.    ,   9.2167,  16.    ],\n",
       "       [  3.    ,  34.375 ,   9.    ],\n",
       "       [  3.    ,   7.7333,  16.    ],\n",
       "       [  3.    ,  69.55  ,   5.    ],\n",
       "       [  3.    ,   8.6625,  17.    ],\n",
       "       [  3.    ,  39.6875,   1.    ],\n",
       "       [  3.    ,  20.525 ,   9.    ],\n",
       "       [  3.    ,  29.125 ,   4.    ],\n",
       "       [  3.    ,  11.1333,   1.    ],\n",
       "       [  3.    ,  25.4667,   5.    ],\n",
       "       [  3.    ,  69.55  ,   8.    ],\n",
       "       [  3.    ,  31.3875,   9.    ],\n",
       "       [  2.    ,  39.    ,   1.    ],\n",
       "       [  3.    ,  22.025 ,   4.    ],\n",
       "       [  2.    ,  26.    ,   3.    ],\n",
       "       [  3.    ,  69.55  ,  17.    ],\n",
       "       [  3.    ,  10.4625,   2.    ],\n",
       "       [  3.    ,   7.75  ,  16.    ],\n",
       "       [  3.    ,   8.05  ,  16.    ],\n",
       "       [  3.    ,  25.4667,  12.    ],\n",
       "       [  3.    ,  31.3875,   5.    ],\n",
       "       [  2.    ,  26.25  ,   8.    ],\n",
       "       [  3.    ,  31.3875,   3.    ],\n",
       "       [  3.    ,  39.6875,  16.    ],\n",
       "       [  3.    ,  29.125 ,   7.    ],\n",
       "       [  3.    ,   9.5   ,  16.    ],\n",
       "       [  1.    , 151.55  ,   2.    ],\n",
       "       [  1.    , 151.55  ,   0.92  ],\n",
       "       [  1.    , 108.9   ,  17.    ],\n",
       "       [  1.    ,  57.9792,  16.    ],\n",
       "       [  3.    ,  18.    ,  16.    ],\n",
       "       [  2.    ,  26.    ,   2.    ],\n",
       "       [  3.    ,  15.9   ,   3.    ],\n",
       "       [  3.    ,   7.2292,  15.    ],\n",
       "       [  3.    ,  21.075 ,   3.    ],\n",
       "       [  3.    ,  15.7417,   1.    ],\n",
       "       [  3.    ,  46.9   ,   1.    ],\n",
       "       [  2.    ,  12.    ,  17.    ],\n",
       "       [  2.    ,  18.75  ,   3.    ],\n",
       "       [  3.    ,  25.4667,   3.    ],\n",
       "       [  3.    ,  24.15  ,  10.    ],\n",
       "       [  3.    ,   7.125 ,  17.    ],\n",
       "       [  1.    , 120.    ,  14.    ],\n",
       "       [  1.    ,  81.8583,   4.    ],\n",
       "       [  2.    ,  19.5   ,  13.    ],\n",
       "       [  3.    ,  19.2583,   5.    ],\n",
       "       [  3.    ,   7.75  ,  17.    ],\n",
       "       [  3.    ,  19.2583,   0.75  ],\n",
       "       [  3.    ,  12.2875,   2.    ],\n",
       "       [  3.    ,  46.9   ,   9.    ],\n",
       "       [  3.    ,  25.4667,   8.    ],\n",
       "       [  3.    ,  15.9   ,   9.    ],\n",
       "       [  3.    ,   8.6625,  17.    ],\n",
       "       [  1.    ,  86.5   ,  16.    ],\n",
       "       [  2.    ,  26.    ,   2.    ],\n",
       "       [  3.    ,   7.2292,  17.    ],\n",
       "       [  3.    ,   7.2292,  17.    ],\n",
       "       [  2.    ,  26.25  ,   7.    ],\n",
       "       [  3.    ,  31.275 ,   9.    ],\n",
       "       [  3.    ,  31.275 ,  11.    ],\n",
       "       [  2.    ,  36.75  ,   8.    ],\n",
       "       [  1.    , 110.8833,  17.    ],\n",
       "       [  3.    ,   8.05  ,  16.    ],\n",
       "       [  3.    ,   8.7125,  16.    ],\n",
       "       [  2.    ,  39.    ,   4.    ],\n",
       "       [  3.    ,  27.9   ,   9.    ],\n",
       "       [  3.    ,  27.9   ,   2.    ],\n",
       "       [  3.    ,  19.2583,   0.75  ],\n",
       "       [  3.    ,   7.8292,  16.    ],\n",
       "       [  3.    ,  46.9   ,  14.    ],\n",
       "       [  3.    ,  39.6875,  14.    ],\n",
       "       [  1.    , 211.3375,  15.    ],\n",
       "       [  3.    ,  13.4167,   4.    ],\n",
       "       [  3.    ,  15.2458,   4.    ],\n",
       "       [  2.    ,  33.    ,   6.    ],\n",
       "       [  3.    ,   7.0542,  17.    ],\n",
       "       [  3.    ,  18.7875,  11.    ],\n",
       "       [  3.    ,  20.25  ,  16.    ],\n",
       "       [  2.    ,  23.    ,   4.    ],\n",
       "       [  3.    ,  12.475 ,   6.    ],\n",
       "       [  2.    ,  14.5   ,   0.67  ],\n",
       "       [  3.    ,   7.775 ,  16.    ],\n",
       "       [  3.    ,  12.475 ,   5.    ],\n",
       "       [  3.    ,   7.2292,  13.    ],\n",
       "       [  1.    ,  57.    ,  17.    ],\n",
       "       [  3.    ,  29.125 ,   8.    ],\n",
       "       [  3.    ,  20.575 ,   1.    ],\n",
       "       [  2.    ,  26.    ,  16.    ],\n",
       "       [  1.    , 120.    ,  11.    ],\n",
       "       [  3.    ,   8.5167,   0.42  ],\n",
       "       [  3.    ,  31.275 ,   6.    ],\n",
       "       [  3.    ,  27.9   ,  10.    ],\n",
       "       [  3.    ,  39.6875,   2.    ],\n",
       "       [  2.    ,  37.0042,   1.    ],\n",
       "       [  3.    ,  14.4542,  15.    ],\n",
       "       [  2.    ,  18.75  ,   0.83  ],\n",
       "       [  2.    ,  10.5   ,  16.    ],\n",
       "       [  3.    ,   8.6625,  17.    ],\n",
       "       [  3.    ,  31.275 ,   4.    ],\n",
       "       [  3.    ,  15.2458,   9.    ],\n",
       "       [  1.    ,  39.4   ,  16.    ],\n",
       "       [  3.    ,  69.55  ,  14.    ],\n",
       "       [  3.    ,  11.1333,   4.    ],\n",
       "       [  3.    ,   7.225 ,  15.    ],\n",
       "       [  3.    ,  23.45  ,   7.    ]])"
      ]
     },
     "execution_count": 11,
     "metadata": {},
     "output_type": "execute_result"
    }
   ],
   "source": [
    "#Masking\n",
    "#We create what we call a mask first. \n",
    "#   This is an array of boolean values (True/False) of whether the passenger is a child or not.\n",
    "mask = arr[:, 2] < 18\n",
    "print(mask)\n",
    "#The False values mean adult and the True values mean child, \n",
    "#   so the first 7 passengers are adults, then 8th is a child, and the 9th is an adult.\n",
    "arr[mask]"
   ]
  },
  {
   "cell_type": "code",
   "execution_count": 12,
   "metadata": {},
   "outputs": [
    {
     "data": {
      "text/plain": [
       "array([[  3.    ,  21.075 ,   2.    ],\n",
       "       [  2.    ,  30.0708,  14.    ],\n",
       "       [  3.    ,  16.7   ,   4.    ],\n",
       "       [  3.    ,   7.8542,  14.    ],\n",
       "       [  3.    ,  29.125 ,   2.    ],\n",
       "       [  3.    ,   8.0292,  15.    ],\n",
       "       [  3.    ,  21.075 ,   8.    ],\n",
       "       [  3.    ,  11.2417,  14.    ],\n",
       "       [  2.    ,  41.5792,   3.    ],\n",
       "       [  3.    ,  21.6792,  16.    ],\n",
       "       [  3.    ,  39.6875,   7.    ],\n",
       "       [  2.    ,  27.75  ,   5.    ],\n",
       "       [  3.    ,  46.9   ,  11.    ],\n",
       "       [  3.    ,  27.9   ,   4.    ],\n",
       "       [  3.    ,  15.2458,   7.    ],\n",
       "       [  3.    ,   7.925 ,  17.    ],\n",
       "       [  3.    ,  46.9   ,  16.    ],\n",
       "       [  2.    ,  29.    ,   0.83  ],\n",
       "       [  2.    ,  10.5   ,  17.    ],\n",
       "       [  3.    ,  34.375 ,  16.    ],\n",
       "       [  3.    ,  14.4542,  14.5   ],\n",
       "       [  3.    ,  14.4583,  17.    ],\n",
       "       [  3.    ,  31.275 ,   2.    ],\n",
       "       [  3.    ,  11.2417,  12.    ],\n",
       "       [  3.    ,  22.3583,   2.    ],\n",
       "       [  3.    ,   9.2167,  16.    ],\n",
       "       [  3.    ,  34.375 ,   9.    ],\n",
       "       [  3.    ,   7.7333,  16.    ],\n",
       "       [  3.    ,  69.55  ,   5.    ],\n",
       "       [  3.    ,   8.6625,  17.    ],\n",
       "       [  3.    ,  39.6875,   1.    ],\n",
       "       [  3.    ,  20.525 ,   9.    ],\n",
       "       [  3.    ,  29.125 ,   4.    ],\n",
       "       [  3.    ,  11.1333,   1.    ],\n",
       "       [  3.    ,  25.4667,   5.    ],\n",
       "       [  3.    ,  69.55  ,   8.    ],\n",
       "       [  3.    ,  31.3875,   9.    ],\n",
       "       [  2.    ,  39.    ,   1.    ],\n",
       "       [  3.    ,  22.025 ,   4.    ],\n",
       "       [  2.    ,  26.    ,   3.    ],\n",
       "       [  3.    ,  69.55  ,  17.    ],\n",
       "       [  3.    ,  10.4625,   2.    ],\n",
       "       [  3.    ,   7.75  ,  16.    ],\n",
       "       [  3.    ,   8.05  ,  16.    ],\n",
       "       [  3.    ,  25.4667,  12.    ],\n",
       "       [  3.    ,  31.3875,   5.    ],\n",
       "       [  2.    ,  26.25  ,   8.    ],\n",
       "       [  3.    ,  31.3875,   3.    ],\n",
       "       [  3.    ,  39.6875,  16.    ],\n",
       "       [  3.    ,  29.125 ,   7.    ],\n",
       "       [  3.    ,   9.5   ,  16.    ],\n",
       "       [  1.    , 151.55  ,   2.    ],\n",
       "       [  1.    , 151.55  ,   0.92  ],\n",
       "       [  1.    , 108.9   ,  17.    ],\n",
       "       [  1.    ,  57.9792,  16.    ],\n",
       "       [  3.    ,  18.    ,  16.    ],\n",
       "       [  2.    ,  26.    ,   2.    ],\n",
       "       [  3.    ,  15.9   ,   3.    ],\n",
       "       [  3.    ,   7.2292,  15.    ],\n",
       "       [  3.    ,  21.075 ,   3.    ],\n",
       "       [  3.    ,  15.7417,   1.    ],\n",
       "       [  3.    ,  46.9   ,   1.    ],\n",
       "       [  2.    ,  12.    ,  17.    ],\n",
       "       [  2.    ,  18.75  ,   3.    ],\n",
       "       [  3.    ,  25.4667,   3.    ],\n",
       "       [  3.    ,  24.15  ,  10.    ],\n",
       "       [  3.    ,   7.125 ,  17.    ],\n",
       "       [  1.    , 120.    ,  14.    ],\n",
       "       [  1.    ,  81.8583,   4.    ],\n",
       "       [  2.    ,  19.5   ,  13.    ],\n",
       "       [  3.    ,  19.2583,   5.    ],\n",
       "       [  3.    ,   7.75  ,  17.    ],\n",
       "       [  3.    ,  19.2583,   0.75  ],\n",
       "       [  3.    ,  12.2875,   2.    ],\n",
       "       [  3.    ,  46.9   ,   9.    ],\n",
       "       [  3.    ,  25.4667,   8.    ],\n",
       "       [  3.    ,  15.9   ,   9.    ],\n",
       "       [  3.    ,   8.6625,  17.    ],\n",
       "       [  1.    ,  86.5   ,  16.    ],\n",
       "       [  2.    ,  26.    ,   2.    ],\n",
       "       [  3.    ,   7.2292,  17.    ],\n",
       "       [  3.    ,   7.2292,  17.    ],\n",
       "       [  2.    ,  26.25  ,   7.    ],\n",
       "       [  3.    ,  31.275 ,   9.    ],\n",
       "       [  3.    ,  31.275 ,  11.    ],\n",
       "       [  2.    ,  36.75  ,   8.    ],\n",
       "       [  1.    , 110.8833,  17.    ],\n",
       "       [  3.    ,   8.05  ,  16.    ],\n",
       "       [  3.    ,   8.7125,  16.    ],\n",
       "       [  2.    ,  39.    ,   4.    ],\n",
       "       [  3.    ,  27.9   ,   9.    ],\n",
       "       [  3.    ,  27.9   ,   2.    ],\n",
       "       [  3.    ,  19.2583,   0.75  ],\n",
       "       [  3.    ,   7.8292,  16.    ],\n",
       "       [  3.    ,  46.9   ,  14.    ],\n",
       "       [  3.    ,  39.6875,  14.    ],\n",
       "       [  1.    , 211.3375,  15.    ],\n",
       "       [  3.    ,  13.4167,   4.    ],\n",
       "       [  3.    ,  15.2458,   4.    ],\n",
       "       [  2.    ,  33.    ,   6.    ],\n",
       "       [  3.    ,   7.0542,  17.    ],\n",
       "       [  3.    ,  18.7875,  11.    ],\n",
       "       [  3.    ,  20.25  ,  16.    ],\n",
       "       [  2.    ,  23.    ,   4.    ],\n",
       "       [  3.    ,  12.475 ,   6.    ],\n",
       "       [  2.    ,  14.5   ,   0.67  ],\n",
       "       [  3.    ,   7.775 ,  16.    ],\n",
       "       [  3.    ,  12.475 ,   5.    ],\n",
       "       [  3.    ,   7.2292,  13.    ],\n",
       "       [  1.    ,  57.    ,  17.    ],\n",
       "       [  3.    ,  29.125 ,   8.    ],\n",
       "       [  3.    ,  20.575 ,   1.    ],\n",
       "       [  2.    ,  26.    ,  16.    ],\n",
       "       [  1.    , 120.    ,  11.    ],\n",
       "       [  3.    ,   8.5167,   0.42  ],\n",
       "       [  3.    ,  31.275 ,   6.    ],\n",
       "       [  3.    ,  27.9   ,  10.    ],\n",
       "       [  3.    ,  39.6875,   2.    ],\n",
       "       [  2.    ,  37.0042,   1.    ],\n",
       "       [  3.    ,  14.4542,  15.    ],\n",
       "       [  2.    ,  18.75  ,   0.83  ],\n",
       "       [  2.    ,  10.5   ,  16.    ],\n",
       "       [  3.    ,   8.6625,  17.    ],\n",
       "       [  3.    ,  31.275 ,   4.    ],\n",
       "       [  3.    ,  15.2458,   9.    ],\n",
       "       [  1.    ,  39.4   ,  16.    ],\n",
       "       [  3.    ,  69.55  ,  14.    ],\n",
       "       [  3.    ,  11.1333,   4.    ],\n",
       "       [  3.    ,   7.225 ,  15.    ],\n",
       "       [  3.    ,  23.45  ,   7.    ]])"
      ]
     },
     "execution_count": 12,
     "metadata": {},
     "output_type": "execute_result"
    }
   ],
   "source": [
    "#Generally, we don't need to define the mask variable and can do the above in just a single line:\n",
    "arr[arr[:, 2] < 18] "
   ]
  },
  {
   "cell_type": "code",
   "execution_count": 13,
   "metadata": {},
   "outputs": [
    {
     "name": "stdout",
     "output_type": "stream",
     "text": [
      "130\n",
      "130\n"
     ]
    }
   ],
   "source": [
    "#Summing and Counting\n",
    "arr = df[['Pclass', 'Fare', 'Age']].values\n",
    "mask = arr[:, 2] < 18\n",
    "print(mask.sum()) \n",
    "print((arr[:, 2] < 18).sum())"
   ]
  },
  {
   "cell_type": "code",
   "execution_count": 14,
   "metadata": {},
   "outputs": [
    {
     "data": {
      "text/plain": [
       "Text(0, 0.5, 'Fare')"
      ]
     },
     "execution_count": 14,
     "metadata": {},
     "output_type": "execute_result"
    },
    {
     "data": {
      "image/png": "[encoded data removed]",
      "text/plain": [
       "<Figure size 432x288 with 1 Axes>"
      ]
     },
     "metadata": {
      "needs_background": "light"
     },
     "output_type": "display_data"
    }
   ],
   "source": [
    "#Scatter Plot\n",
    "#We use the scatter function to plot our data. \n",
    "#   The first argument of the scatter function is the x-axis (horizontal direction) and \n",
    "#   the second argument is the y-axis (vertical direction).\n",
    "# This plots the Age on the x-axis and the Fare on the y-axis.\n",
    "plt.scatter(df['Age'], df['Fare'])\n",
    "# This plots the Age on the x-axis and the Fare on the y-axis.\n",
    "plt.xlabel('Age')\n",
    "plt.ylabel('Fare')\n"
   ]
  },
  {
   "cell_type": "code",
   "execution_count": 15,
   "metadata": {},
   "outputs": [
    {
     "name": "stdout",
     "output_type": "stream",
     "text": [
      "0    3\n",
      "1    1\n",
      "2    3\n",
      "3    1\n",
      "4    3\n",
      "5    3\n",
      "6    1\n",
      "7    3\n",
      "8    3\n",
      "9    2\n",
      "Name: Pclass, dtype: int64\n"
     ]
    },
    {
     "data": {
      "text/plain": [
       "[<matplotlib.lines.Line2D at 0x19d553d5840>]"
      ]
     },
     "execution_count": 15,
     "metadata": {},
     "output_type": "execute_result"
    },
    {
     "data": {
      "image/png": "[encoded data removed]",
      "text/plain": [
       "<Figure size 432x288 with 1 Axes>"
      ]
     },
     "metadata": {},
     "output_type": "display_data"
    }
   ],
   "source": [
    "\n",
    "# We can also use our data to color code our scatter plot. This will give each of the 3 classes a different color. \n",
    "print(df['Pclass'].head(10))\n",
    "plt.figure(facecolor='white') #outer background color=white\n",
    "plt.scatter(df['Age'], df['Fare'], c=df['Pclass'])\n",
    "\n",
    "# In this case, our Pandas series has \n",
    "#   3 possible values (1st, 2nd, and 3rd class), so we'll see our datapoints each get one of three colors.\n",
    "# The purple dots are first class, the green dots are second class, and the yellow dots are third class.\n",
    "# A scatter plot is used to show all the values from your data on a graph. \n",
    "#   In order to get a visual representation of our data, we have to limit our data to two features.\n",
    "plt.xlabel('Age')\n",
    "plt.ylabel('Fare')\n",
    "\n",
    "# Line\n",
    "# The following draws a line to approximately separate the 1st class from the 2nd and 3rd class. \n",
    "#   From eyeballing, we’ll put the line from (0, 85) to (80, 5). \n",
    "#   Our syntax below has a list of the x values and a list of the y values.\n",
    "plt.plot([0, 80], [85, 5]) #the plot function for a line.\n",
    "# You can see that the yellow (3rd class) and green (2nd class) points are mostly \n",
    "#   below the line and the purple (1st class) are mostly above. "
   ]
  },
  {
   "cell_type": "markdown",
   "metadata": {},
   "source": [
    "# Classification"
   ]
  },
  {
   "cell_type": "markdown",
   "metadata": {},
   "source": [
    "### Where does Classification Fit in the World of Machine Learning?\n",
    "<p>Machine Learning on a high level is made up of supervised and unsupervised learning.<br /><br />\n",
    "Supervised Learning means that we will have labeled historical data that we will use to inform our model. We call the label or thing we’re trying to predict, the <strong>target</strong>. So in supervised learning, there is a known target for the historical data, and for unsupervised learning there is no known target.\n",
    "<br /><br />\n",
    "Within supervised learning, there is <strong>Classification</strong> and <strong>Regression</strong>. Classification problems are where the target is a categorical value (often True or False, but can be multiple categories). Regression problems are where the target is a numerical value.\n",
    "<br /><br />\n",
    "For example, predicting housing prices is a regression problem. It’s supervised, since we have historical data of the sales of houses in the past. It’s <strong>regression</strong>, because the housing price is a numerical value. Predicting if someone will default on their loan is a classification problem. Again, it’s supervised, since we have the historical data of whether past loanees defaulted, and it’s a <strong>classification</strong> problem because we are trying to predict if the loan is in one of two categories (default or not).\n",
    "<br /><br />\n",
    "邏輯回歸，雖然它的名字中有回歸，但它是一種解決分類問題的算法，而不是回歸問題。"
   ]
  },
  {
   "cell_type": "markdown",
   "metadata": {},
   "source": [
    "### Classification Terminology\n",
    "<p>\n",
    "The <strong>Survived</strong> column is what we’re trying to predict. We call this the <strong>target</strong>. You can see that it’s a list of 1’s and 0’s. A 1 means that the passenger survived, and a 0 means the passenger didn’t survive.\n",
    "<br /><br />\n",
    "The remaining columns are the information about the passenger that we can use to predict the target. We call each of these columns a feature. <strong>Features</strong> are the data we use to make our prediction. Sometimes you’ll hear features called predictors.</strong>\n",
    "<br /><br />\n",
    "While we know whether each passenger in the dataset survived, we’d like to be able to make predictions about additional passengers that we weren’t able to collect that data for. We’ll build a machine learning <strong>model</strong> to help us do this.\n",
    "</p>"
   ]
  },
  {
   "cell_type": "markdown",
   "metadata": {},
   "source": [
    "### Classification Graphically\n",
    "We will eventually want to use all the features, but for simplicity let’s start with only two of the features (Fare and Age). Using two features enables us to visualize the data in a graph.\n",
    "<br /><br />\n",
    "On the x-axis we have the passenger’s fare and on the y-axis their age. The yellow dots are passengers that survived and the purple dots are passengers that didn’t survive.\n",
    "<br /><br />\n",
    "You can see that there are more yellow dots at the bottom of the graph than the top. This is because children were more likely to survive than adults, which fits our intuition. Similarly there are more yellow dots on the right of the graph, meaning people that paid more were more likely to survive.\n",
    "<br /><br />\n",
    "The task of a linear model is to find the line that best separates the two classes, so that the yellow points are on one side and the purple points are on the other.\n",
    "<br /><br />\n",
    "Here is an example of a good line. The line is used to make predictions about new passengers. If a passenger’s datapoint lies on the right side of the line, we’d predict that they survive. If on the left side, we’d predict that they didn’t survive.\n",
    "<br /><br />\n",
    "The challenge of building the model will be determining what the best possible line is."
   ]
  },
  {
   "cell_type": "markdown",
   "metadata": {},
   "source": [
    "### Equation for the Line\n",
    "A line is defined by an equation in the following form:\n",
    "<br /><br />\n",
    "0 = ax + by + c\n",
    "<br /><br />\n",
    "The values a, b, and c are the coefficients. Any three values will define a unique line.\n",
    "<br /><br />\n",
    "Let’s look at a specific example of a line where the coefficients are a=1, b=-1 and c=-30.\n",
    "<br /><br />\n",
    "0 = (1)x + (-1)y + (-30)\n",
    "<br /><br />\n",
    "The coefficients of the line are what control where the line is."
   ]
  },
  {
   "cell_type": "code",
   "execution_count": 23,
   "metadata": {},
   "outputs": [
    {
     "data": {
      "image/png": "[encoded data removed]",
      "text/plain": [
       "<Figure size 432x288 with 1 Axes>"
      ]
     },
     "metadata": {
      "needs_background": "light"
     },
     "output_type": "display_data"
    }
   ],
   "source": [
    "import matplotlib.pyplot as plt \n",
    "import seaborn as sns\n",
    "titanic=sns.load_dataset('titanic') #titanic: 泰坦尼克號\n",
    "titanic\n",
    "plt.scatter(20,50) #blue dot\n",
    "plt.scatter(100,20) #orange dot\n",
    "plt.xlabel(\"survived\") \n",
    "plt.ylabel(\"Age\") \n",
    "plt.plot([30,110],[0,80]) \n",
    "plt.xlim((0,500)) #x軸顯示的範圍\n",
    "plt.ylim((0,80)) #y軸顯示的範圍\n",
    "plt.show()"
   ]
  },
  {
   "cell_type": "markdown",
   "metadata": {},
   "source": [
    "Logistic Regression is a way of mathematically finding the best line."
   ]
  },
  {
   "cell_type": "markdown",
   "metadata": {},
   "source": [
    "### Probability of Surviving\n",
    "\n",
    "為了確定拆分數據的最佳線，我們需要有一種對線進行評分的方法。首先，讓我們看一下單個數據點。\n",
    "\n",
    "理想情況下，如果數據點是一名倖存的乘客，那麼它應該位於線路的右側並且遠離線路。如果它是一個沒有倖存的乘客的數據點，它會遠離左邊的線。它離直線越遠，我們就越有信心它位於直線的正確一側。\n",
    "對於每個數據點，我們都會有一個介於 0 和 1 之間的值的分數。我們可以將其視為乘客倖存的概率。如果該值接近 0，則該點將遠離線的左側，這意味著我們確信乘客沒有倖存。如果該值接近 1，則該點將遠離直線的右側，這意味著我們確信乘客確實倖免於難。值為 0.5 表示該點直接落在線上，我們不確定乘客是否倖存。\n",
    "\n",
    "計算這個分數的方程式如下，儘管直覺比實際方程式重要得多。\n",
    "\n",
    "回想一下，直線方程的形式為 0 = ax+by+c（x 是票價，y 是年齡，a、b 和 c 是我們控制的係數）。數字 e 是數學常數，大約為 2.71828。"
   ]
  },
  {
   "cell_type": "markdown",
   "metadata": {},
   "source": [
    "### Likelihood\n",
    "Here p is the predicted probability of surviving from the previous part.\n",
    "p:if passenger survived, 1-p: if passenger didn't survived \n",
    "The likelihood will be a value between 0 and 1. The higher the value, the better our line is.\n",
    "\n",
    "Let’s look at a couple possibilities:\n",
    "• If the predicted probability p is 0.25 and the passenger didn’t survive, we get a score of 0.75 (good).\n",
    "• If the predicted probability p is 0.25 and the passenger survived, we get a score of 0.25 (bad).\n",
    "\n",
    "We multiply all the individual scores for each datapoint together to get a score for our line. Thus we can compare different lines to determine the best one.\n",
    "\n",
    "<img src=\"class_pictures\\likelihood.png\" />\n",
    "\n",
    "We get the total score by multiplying the four scores together:\n",
    "\n",
    "0.25 * 0.75 * 0.6 * 0.8 = 0.09\n",
    "\n",
    "The value is always going to be really small since it is the likelihood that our model predicts everything perfectly. A perfect model would have a predicted probability of 1 for all positive cases and 0 for all negative cases.\n",
    "\n",
    "The likelihood is how we score and compare possible choices of a best fit line."
   ]
  }
 ],
 "metadata": {
  "kernelspec": {
   "display_name": "Python 3.10.2 64-bit",
   "language": "python",
   "name": "python3"
  },
  "language_info": {
   "codemirror_mode": {
    "name": "ipython",
    "version": 3
   },
   "file_extension": ".py",
   "mimetype": "text/x-python",
   "name": "python",
   "nbconvert_exporter": "python",
   "pygments_lexer": "ipython3",
   "version": "3.10.2"
  },
  "orig_nbformat": 4,
  "vscode": {
   "interpreter": {
    "hash": "eb6335f86049935ab3a1e6168a640c161cd4c2d3c8bde3a37ebd86b9bd3e1c1e"
   }
  }
 },
 "nbformat": 4,
 "nbformat_minor": 2
}
