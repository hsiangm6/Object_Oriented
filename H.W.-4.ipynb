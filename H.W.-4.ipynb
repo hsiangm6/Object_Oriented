{
 "cells": [
  {
   "cell_type": "code",
   "execution_count": 1,
   "id": "886e79eb",
   "metadata": {},
   "outputs": [],
   "source": [
    "# import packages\n",
    "import numpy as np\n",
    "import pandas as pd\n",
    "from numpy.random import rand"
   ]
  },
  {
   "cell_type": "code",
   "execution_count": 2,
   "id": "cb62166b",
   "metadata": {},
   "outputs": [],
   "source": [
    "# Related data objects\n",
    "\n",
    "# List \n",
    "L = [2, 3, 5, 7, 9, 11] \n",
    "\n",
    "# Dictionary\n",
    "D = {'Ohio': 35000, 'Texas': 71000, 'Oregon': 16000, 'Utah': 5000} \n",
    "\n",
    "# Structured array\n",
    "SA = np.array([('Rex', 9, 81.0), ('Fido', 3, 27.0), ('Alice', 25, 55.0), ('Bob', 45, 85.5),\n",
    "              ('Cathy', 37, 68.0), ('Doug', 19, 61.5)],\n",
    "             dtype=[('name', 'U10'), ('age', 'i4'), ('weight', 'f4')]) \n",
    "\n",
    "# Two-dsimensional NumPy array\n",
    "rand = np.random.RandomState(42)\n",
    "TDA = rand.randint(20,100,(4,2)) \n",
    "\n",
    "# NumPy array\n",
    "ND = np.array([[21],\n",
    "[23],\n",
    "[24],\n",
    "[21]])\n",
    "\n",
    "\n",
    "# Series\n",
    "PS = pd.Series([59, 35, 69, 23], index=[\"a\", \"b\", \"c\", \"d\"])"
   ]
  },
  {
   "cell_type": "markdown",
   "id": "0988db44",
   "metadata": {},
   "source": [
    "# Q1: Contrcuting pandas dataframe objects from a list\n",
    "  ##  a. print list L \n",
    "  ##  b. transfer list L to pandas series SL "
   ]
  },
  {
   "cell_type": "code",
   "execution_count": 3,
   "id": "25db8003",
   "metadata": {},
   "outputs": [
    {
     "name": "stdout",
     "output_type": "stream",
     "text": [
      "[2, 3, 5, 7, 9, 11]\n",
      "<class 'list'>\n"
     ]
    }
   ],
   "source": [
    "# a.\n",
    "L = [2, 3, 5, 7, 9, 11] # List \n",
    "print(L)\n",
    "print(type(L))"
   ]
  },
  {
   "cell_type": "code",
   "execution_count": 5,
   "id": "0af1b37d",
   "metadata": {},
   "outputs": [
    {
     "name": "stdout",
     "output_type": "stream",
     "text": [
      "0     2\n",
      "1     3\n",
      "2     5\n",
      "3     7\n",
      "4     9\n",
      "5    11\n",
      "dtype: int64\n",
      "<class 'pandas.core.series.Series'>\n"
     ]
    }
   ],
   "source": [
    "# b.\n",
    "\n",
    "SL = pd.Series(L)\n",
    "print(SL)\n",
    "print(type(SL))"
   ]
  },
  {
   "cell_type": "markdown",
   "id": "ae22000c",
   "metadata": {},
   "source": [
    "# Q2: Constructing pandas dataframe objects from a dictionary\n",
    "## a. print dictionary D\n",
    "## b. transfer dictionary D to pandas series SD\n",
    "## c. add new data {\"California\": \"45000\"} to SD\n",
    "## d. print a pandas series by selecting entries from \"Ohio\" to \"Oregon\""
   ]
  },
  {
   "cell_type": "code",
   "execution_count": 6,
   "id": "31d0ca66",
   "metadata": {},
   "outputs": [
    {
     "name": "stdout",
     "output_type": "stream",
     "text": [
      "{'Ohio': 35000, 'Texas': 71000, 'Oregon': 16000, 'Utah': 5000}\n"
     ]
    }
   ],
   "source": [
    "# a.\n",
    "D = {'Ohio': 35000, 'Texas': 71000, 'Oregon': 16000, 'Utah': 5000} # Dictionary\n",
    "print(D)"
   ]
  },
  {
   "cell_type": "code",
   "execution_count": 9,
   "id": "e2da38e8",
   "metadata": {},
   "outputs": [
    {
     "name": "stdout",
     "output_type": "stream",
     "text": [
      "Ohio      35000\n",
      "Texas     71000\n",
      "Oregon    16000\n",
      "Utah       5000\n",
      "dtype: int64\n",
      "<class 'pandas.core.series.Series'>\n"
     ]
    }
   ],
   "source": [
    "# b.\n",
    "\n",
    "SD = pd.Series(D)\n",
    "print(SD)\n",
    "print(type(SD))"
   ]
  },
  {
   "cell_type": "code",
   "execution_count": 12,
   "id": "fd812edb",
   "metadata": {},
   "outputs": [
    {
     "name": "stdout",
     "output_type": "stream",
     "text": [
      "Ohio          35000\n",
      "Texas         71000\n",
      "Oregon        16000\n",
      "Utah           5000\n",
      "California    45000\n",
      "dtype: int64\n"
     ]
    }
   ],
   "source": [
    "# c.\n",
    "\n",
    "SD['California']=45000\n",
    "print(SD)"
   ]
  },
  {
   "cell_type": "code",
   "execution_count": 13,
   "id": "63c7146e",
   "metadata": {},
   "outputs": [
    {
     "name": "stdout",
     "output_type": "stream",
     "text": [
      "Ohio      35000\n",
      "Texas     71000\n",
      "Oregon    16000\n",
      "dtype: int64\n"
     ]
    }
   ],
   "source": [
    "# d.\n",
    "\n",
    "print(SD['Ohio':'Oregon'])"
   ]
  },
  {
   "cell_type": "markdown",
   "id": "8f8dcdb1",
   "metadata": {},
   "source": [
    "# Q3: Constructing pandas dataframe objects from a numpy structured array\n",
    "## a. print SA\n",
    "## b. transfer numpy structured array SA to pandas dataframe DF"
   ]
  },
  {
   "cell_type": "code",
   "execution_count": 16,
   "id": "7b313cba",
   "metadata": {},
   "outputs": [
    {
     "name": "stdout",
     "output_type": "stream",
     "text": [
      "[('Rex',  9, 81. ) ('Fido',  3, 27. ) ('Alice', 25, 55. )\n",
      " ('Bob', 45, 85.5) ('Cathy', 37, 68. ) ('Doug', 19, 61.5)]\n"
     ]
    }
   ],
   "source": [
    "# a\n",
    "SA = np.array([('Rex', 9, 81.0), ('Fido', 3, 27.0), ('Alice', 25, 55.0), ('Bob', 45, 85.5),\n",
    "              ('Cathy', 37, 68.0), ('Doug', 19, 61.5)],\n",
    "             dtype=[('name', 'U10'), ('age', 'i4'), ('weight', 'f4')])\n",
    "\n",
    "print(SA)"
   ]
  },
  {
   "cell_type": "code",
   "execution_count": 17,
   "id": "6d1db084",
   "metadata": {},
   "outputs": [
    {
     "name": "stdout",
     "output_type": "stream",
     "text": [
      "    name  age  weight\n",
      "0    Rex    9    81.0\n",
      "1   Fido    3    27.0\n",
      "2  Alice   25    55.0\n",
      "3    Bob   45    85.5\n",
      "4  Cathy   37    68.0\n",
      "5   Doug   19    61.5\n"
     ]
    }
   ],
   "source": [
    "# b\n",
    "DF = pd.DataFrame(SA)\n",
    "print(DF)"
   ]
  },
  {
   "cell_type": "markdown",
   "id": "33061475",
   "metadata": {},
   "source": [
    "# Q4: Constructing pandas dataframe objects from a two-dimensional numpy array\n",
    "## a. print TDA\n",
    "## b. transfer numpy array TDA to pandas dataframe df2, and\n",
    "## i. set column name as \"foo\" and \"bar\"\n",
    "## ii. set index as [\"a\", \"b\", \"c\", \"d\"]\n",
    "## c. append new column ND to df2, and set column name as \"age\""
   ]
  },
  {
   "cell_type": "code",
   "execution_count": 18,
   "id": "dbc06f5e",
   "metadata": {},
   "outputs": [
    {
     "name": "stdout",
     "output_type": "stream",
     "text": [
      "[[71 34]\n",
      " [91 80]\n",
      " [40 94]\n",
      " [94 43]]\n",
      "<class 'numpy.ndarray'>\n"
     ]
    }
   ],
   "source": [
    "# a.\n",
    "\n",
    "rand = np.random.RandomState(42)\n",
    "TDA = rand.randint(20,100,(4,2))\n",
    "print(TDA)\n",
    "print(type(TDA))"
   ]
  },
  {
   "cell_type": "code",
   "execution_count": 40,
   "id": "3e2e0f89",
   "metadata": {},
   "outputs": [
    {
     "name": "stdout",
     "output_type": "stream",
     "text": [
      "    0   1\n",
      "0  71  34\n",
      "1  91  80\n",
      "2  40  94\n",
      "3  94  43\n"
     ]
    }
   ],
   "source": [
    "# b.\n",
    "\n",
    "df2 = pd.DataFrame(TDA)\n",
    "print(df2)"
   ]
  },
  {
   "cell_type": "code",
   "execution_count": 20,
   "id": "28d9c57e",
   "metadata": {},
   "outputs": [
    {
     "name": "stdout",
     "output_type": "stream",
     "text": [
      "   foo  bar\n",
      "a   71   34\n",
      "b   91   80\n",
      "c   40   94\n",
      "d   94   43\n"
     ]
    }
   ],
   "source": [
    "# b. i. ii.\n",
    "\n",
    "df2 = pd.DataFrame(TDA, \n",
    "                   columns=['foo', 'bar'],\n",
    "                  index=['a', 'b', 'c', 'd'])\n",
    "print(df2)"
   ]
  },
  {
   "cell_type": "code",
   "execution_count": 23,
   "id": "1041c0fe",
   "metadata": {},
   "outputs": [
    {
     "name": "stdout",
     "output_type": "stream",
     "text": [
      "[[21]\n",
      " [23]\n",
      " [24]\n",
      " [21]]\n"
     ]
    }
   ],
   "source": [
    "ND = np.array([[21],\n",
    "[23],\n",
    "[24],\n",
    "[21]])\n",
    "\n",
    "print(ND)"
   ]
  },
  {
   "cell_type": "code",
   "execution_count": 22,
   "id": "6242b5fd",
   "metadata": {},
   "outputs": [
    {
     "name": "stdout",
     "output_type": "stream",
     "text": [
      "   foo  bar  age\n",
      "a   71   34   21\n",
      "b   91   80   23\n",
      "c   40   94   24\n",
      "d   94   43   21\n"
     ]
    }
   ],
   "source": [
    "# c. \n",
    "\n",
    "df2['age']=ND\n",
    "print(df2)"
   ]
  },
  {
   "cell_type": "markdown",
   "id": "3b4cc4d7",
   "metadata": {},
   "source": [
    "# Q5: Select data by index in pandas series\n",
    "## a. print PS\n",
    "## b. select the data in PS by index \"a\" to \"b\"\n",
    "## c. select the data in PS by 2 to 3 rows\n",
    "## d. select the data in PS by fancy index \"a\" and \"c\"\n",
    "## e. select the data in PS by the mask (E1 > 30) & (E1 < 60)"
   ]
  },
  {
   "cell_type": "code",
   "execution_count": 24,
   "id": "ba3c79c3",
   "metadata": {},
   "outputs": [
    {
     "name": "stdout",
     "output_type": "stream",
     "text": [
      "a    59\n",
      "b    35\n",
      "c    69\n",
      "d    23\n",
      "dtype: int64\n"
     ]
    }
   ],
   "source": [
    "# a.\n",
    "\n",
    "PS = pd.Series([59, 35, 69, 23], index=[\"a\", \"b\", \"c\", \"d\"])\n",
    "print(PS)"
   ]
  },
  {
   "cell_type": "code",
   "execution_count": 26,
   "id": "f4352ebf",
   "metadata": {},
   "outputs": [
    {
     "name": "stdout",
     "output_type": "stream",
     "text": [
      "a    59\n",
      "b    35\n",
      "dtype: int64\n"
     ]
    }
   ],
   "source": [
    "# b.\n",
    "\n",
    "print(PS['a':'b'])"
   ]
  },
  {
   "cell_type": "code",
   "execution_count": 30,
   "id": "38212662",
   "metadata": {},
   "outputs": [
    {
     "name": "stdout",
     "output_type": "stream",
     "text": [
      "c    69\n",
      "d    23\n",
      "dtype: int64\n"
     ]
    }
   ],
   "source": [
    "# c.\n",
    "print(PS[2:4])\n"
   ]
  },
  {
   "cell_type": "code",
   "execution_count": 64,
   "id": "00a06ea2",
   "metadata": {},
   "outputs": [
    {
     "data": {
      "text/plain": [
       "a    59\n",
       "c    69\n",
       "dtype: int64"
      ]
     },
     "execution_count": 64,
     "metadata": {},
     "output_type": "execute_result"
    }
   ],
   "source": [
    "# d. \n",
    "\n",
    "print(PS[['a', 'c']])"
   ]
  },
  {
   "cell_type": "code",
   "execution_count": 33,
   "id": "96852371",
   "metadata": {},
   "outputs": [
    {
     "data": {
      "text/plain": [
       "a    59\n",
       "b    35\n",
       "dtype: int64"
      ]
     },
     "execution_count": 33,
     "metadata": {},
     "output_type": "execute_result"
    }
   ],
   "source": [
    "# e. \n",
    "\n",
    "PS[(PS>30)&(PS<60)]"
   ]
  },
  {
   "cell_type": "markdown",
   "id": "8fdbba25",
   "metadata": {},
   "source": [
    "# Q6: Index as ordered set\n",
    "## a. create pandas index object IO1, [\"a\", \"b\", \"c\", \"d\"]\n",
    "## b. create pandas index object IO2, [\"a\", \"c\", \"e\", \"g\"]\n",
    "## c. find the intersection of IO1 and IO2\n",
    "## d. find the union of IO1 and IO2\n",
    "## e. find the symmetric difference of IO1 and IO2"
   ]
  },
  {
   "cell_type": "code",
   "execution_count": 37,
   "id": "bd7524f2",
   "metadata": {},
   "outputs": [
    {
     "name": "stdout",
     "output_type": "stream",
     "text": [
      "Index(['a', 'b', 'c', 'd'], dtype='object')\n"
     ]
    }
   ],
   "source": [
    "# a.\n",
    "\n",
    "IO1 =  pd.Index(['a', 'b', 'c', 'd'])\n",
    "print(IO1)"
   ]
  },
  {
   "cell_type": "code",
   "execution_count": 38,
   "id": "a6cb65f5",
   "metadata": {},
   "outputs": [
    {
     "name": "stdout",
     "output_type": "stream",
     "text": [
      "Index(['a', 'c', 'e', 'g'], dtype='object')\n"
     ]
    }
   ],
   "source": [
    "# b.\n",
    "\n",
    "IO2 = pd.Index(['a', 'c', 'e', 'g'])\n",
    "print(IO2)"
   ]
  },
  {
   "cell_type": "code",
   "execution_count": 40,
   "id": "ab634e83",
   "metadata": {},
   "outputs": [
    {
     "name": "stdout",
     "output_type": "stream",
     "text": [
      "Index(['a', 'c'], dtype='object')\n"
     ]
    }
   ],
   "source": [
    "# c.\n",
    "\n",
    "print(IO1.intersection(IO2))"
   ]
  },
  {
   "cell_type": "code",
   "execution_count": 41,
   "id": "31ffa9e9",
   "metadata": {},
   "outputs": [
    {
     "name": "stdout",
     "output_type": "stream",
     "text": [
      "Index(['a', 'b', 'c', 'd', 'e', 'g'], dtype='object')\n"
     ]
    }
   ],
   "source": [
    "# d.\n",
    "\n",
    "print(IO1.union(IO2))"
   ]
  },
  {
   "cell_type": "code",
   "execution_count": 43,
   "id": "9aaf6d32",
   "metadata": {},
   "outputs": [
    {
     "name": "stdout",
     "output_type": "stream",
     "text": [
      "Index(['b', 'd', 'e', 'g'], dtype='object')\n"
     ]
    }
   ],
   "source": [
    "# e.\n",
    "\n",
    "print(IO1.symmetric_difference(IO2))"
   ]
  },
  {
   "cell_type": "markdown",
   "id": "b5e72a41",
   "metadata": {},
   "source": [
    "# Q7: Indexers: loc and iloc\n",
    "## a. print df2\n",
    "## b. select the data in \"a\" row and \"foo\" column from df2 by loc\n",
    "## c. select the data in \"a\" to \"b\" rows and \"foo\" to \"bar\" columns from df2 by loc\n",
    "## d. select the data in 0 row and 0 column from df2 by iloc\n",
    "## e. select the data in 0 to 1 rows and 0 to 1 columns from df2 by iloc\n",
    "## f. select the data in \"a\" and \"c\" rows and \"foo\" and \"age\" columns from df2 by iloc or loc"
   ]
  },
  {
   "cell_type": "code",
   "execution_count": 45,
   "id": "05d7704f",
   "metadata": {},
   "outputs": [
    {
     "name": "stdout",
     "output_type": "stream",
     "text": [
      "   foo  bar  age\n",
      "a   71   34   21\n",
      "b   91   80   23\n",
      "c   40   94   24\n",
      "d   94   43   21\n"
     ]
    }
   ],
   "source": [
    "# a.\n",
    "\n",
    "print(df2)"
   ]
  },
  {
   "cell_type": "code",
   "execution_count": 50,
   "id": "4be91437",
   "metadata": {},
   "outputs": [
    {
     "name": "stdout",
     "output_type": "stream",
     "text": [
      "71\n"
     ]
    }
   ],
   "source": [
    "# b.\n",
    "\n",
    "print(df2['foo']['a'])"
   ]
  },
  {
   "cell_type": "code",
   "execution_count": 54,
   "id": "cf4d0c58",
   "metadata": {},
   "outputs": [
    {
     "data": {
      "text/html": [
       "<div>\n",
       "<style scoped>\n",
       "    .dataframe tbody tr th:only-of-type {\n",
       "        vertical-align: middle;\n",
       "    }\n",
       "\n",
       "    .dataframe tbody tr th {\n",
       "        vertical-align: top;\n",
       "    }\n",
       "\n",
       "    .dataframe thead th {\n",
       "        text-align: right;\n",
       "    }\n",
       "</style>\n",
       "<table border=\"1\" class=\"dataframe\">\n",
       "  <thead>\n",
       "    <tr style=\"text-align: right;\">\n",
       "      <th></th>\n",
       "      <th>foo</th>\n",
       "      <th>bar</th>\n",
       "    </tr>\n",
       "  </thead>\n",
       "  <tbody>\n",
       "    <tr>\n",
       "      <th>a</th>\n",
       "      <td>71</td>\n",
       "      <td>34</td>\n",
       "    </tr>\n",
       "    <tr>\n",
       "      <th>b</th>\n",
       "      <td>91</td>\n",
       "      <td>80</td>\n",
       "    </tr>\n",
       "  </tbody>\n",
       "</table>\n",
       "</div>"
      ],
      "text/plain": [
       "   foo  bar\n",
       "a   71   34\n",
       "b   91   80"
      ]
     },
     "execution_count": 54,
     "metadata": {},
     "output_type": "execute_result"
    }
   ],
   "source": [
    "# c.\n",
    "\n",
    "df2.loc[:'bar', :'b']"
   ]
  },
  {
   "cell_type": "code",
   "execution_count": 57,
   "id": "747d228c",
   "metadata": {},
   "outputs": [
    {
     "name": "stdout",
     "output_type": "stream",
     "text": [
      "71\n"
     ]
    }
   ],
   "source": [
    "# d.\n",
    "\n",
    "print(df2.iloc[0,0])"
   ]
  },
  {
   "cell_type": "code",
   "execution_count": 59,
   "id": "a4134040",
   "metadata": {},
   "outputs": [
    {
     "data": {
      "text/html": [
       "<div>\n",
       "<style scoped>\n",
       "    .dataframe tbody tr th:only-of-type {\n",
       "        vertical-align: middle;\n",
       "    }\n",
       "\n",
       "    .dataframe tbody tr th {\n",
       "        vertical-align: top;\n",
       "    }\n",
       "\n",
       "    .dataframe thead th {\n",
       "        text-align: right;\n",
       "    }\n",
       "</style>\n",
       "<table border=\"1\" class=\"dataframe\">\n",
       "  <thead>\n",
       "    <tr style=\"text-align: right;\">\n",
       "      <th></th>\n",
       "      <th>foo</th>\n",
       "      <th>bar</th>\n",
       "    </tr>\n",
       "  </thead>\n",
       "  <tbody>\n",
       "    <tr>\n",
       "      <th>a</th>\n",
       "      <td>71</td>\n",
       "      <td>34</td>\n",
       "    </tr>\n",
       "    <tr>\n",
       "      <th>b</th>\n",
       "      <td>91</td>\n",
       "      <td>80</td>\n",
       "    </tr>\n",
       "  </tbody>\n",
       "</table>\n",
       "</div>"
      ],
      "text/plain": [
       "   foo  bar\n",
       "a   71   34\n",
       "b   91   80"
      ]
     },
     "execution_count": 59,
     "metadata": {},
     "output_type": "execute_result"
    }
   ],
   "source": [
    "# e.\n",
    "\n",
    "df2.iloc[:2, :2]"
   ]
  },
  {
   "cell_type": "code",
   "execution_count": 61,
   "id": "eaf4cdea",
   "metadata": {},
   "outputs": [
    {
     "data": {
      "text/html": [
       "<div>\n",
       "<style scoped>\n",
       "    .dataframe tbody tr th:only-of-type {\n",
       "        vertical-align: middle;\n",
       "    }\n",
       "\n",
       "    .dataframe tbody tr th {\n",
       "        vertical-align: top;\n",
       "    }\n",
       "\n",
       "    .dataframe thead th {\n",
       "        text-align: right;\n",
       "    }\n",
       "</style>\n",
       "<table border=\"1\" class=\"dataframe\">\n",
       "  <thead>\n",
       "    <tr style=\"text-align: right;\">\n",
       "      <th></th>\n",
       "      <th>foo</th>\n",
       "      <th>age</th>\n",
       "    </tr>\n",
       "  </thead>\n",
       "  <tbody>\n",
       "    <tr>\n",
       "      <th>a</th>\n",
       "      <td>71</td>\n",
       "      <td>21</td>\n",
       "    </tr>\n",
       "    <tr>\n",
       "      <th>c</th>\n",
       "      <td>40</td>\n",
       "      <td>24</td>\n",
       "    </tr>\n",
       "  </tbody>\n",
       "</table>\n",
       "</div>"
      ],
      "text/plain": [
       "   foo  age\n",
       "a   71   21\n",
       "c   40   24"
      ]
     },
     "execution_count": 61,
     "metadata": {},
     "output_type": "execute_result"
    }
   ],
   "source": [
    "# f.\n",
    "\n",
    "df2.loc[['a', 'c'],['foo', 'age']]"
   ]
  },
  {
   "cell_type": "markdown",
   "id": "a1c5b5ef",
   "metadata": {},
   "source": [
    "# Q8: DataFrame as two-dimensional array\n",
    "## a. combine below two pandas series, \"area\" and \"population\" into pandas DataFrame df3\n",
    "## b. create new column \"density\" by \"population/area\"\n",
    "## c. swap rows and columns\n",
    "## d. select columns \"population\" and \"density\", where \"density\"<100"
   ]
  },
  {
   "cell_type": "code",
   "execution_count": 62,
   "id": "8a9ac33b",
   "metadata": {},
   "outputs": [],
   "source": [
    "area = pd.Series({'California': 423967, \n",
    "             'Texas': 695662, \n",
    "             'New York': 141297,\n",
    "             'Florida': 170312, \n",
    "             'Illinois': 149995})"
   ]
  },
  {
   "cell_type": "code",
   "execution_count": 63,
   "id": "940aa157",
   "metadata": {},
   "outputs": [],
   "source": [
    "population = pd.Series({'California': 38332521,\n",
    "                    'Texas': 26448193,\n",
    "                    'New York': 19651127,\n",
    "                    'Florida': 19552860,\n",
    "                    'Illinois': 12882135})"
   ]
  },
  {
   "cell_type": "code",
   "execution_count": 66,
   "id": "dafd685f",
   "metadata": {},
   "outputs": [
    {
     "name": "stdout",
     "output_type": "stream",
     "text": [
      "              area  population\n",
      "California  423967    38332521\n",
      "Texas       695662    26448193\n",
      "New York    141297    19651127\n",
      "Florida     170312    19552860\n",
      "Illinois    149995    12882135\n"
     ]
    }
   ],
   "source": [
    "# a. \n",
    "\n",
    "df3 = pd.DataFrame({'area':area,\n",
    "                   'population':population})\n",
    "\n",
    "print(df3)"
   ]
  },
  {
   "cell_type": "code",
   "execution_count": 68,
   "id": "8e519402",
   "metadata": {},
   "outputs": [
    {
     "name": "stdout",
     "output_type": "stream",
     "text": [
      "              area  population     density\n",
      "California  423967    38332521   90.413926\n",
      "Texas       695662    26448193   38.018740\n",
      "New York    141297    19651127  139.076746\n",
      "Florida     170312    19552860  114.806121\n",
      "Illinois    149995    12882135   85.883763\n"
     ]
    }
   ],
   "source": [
    "# b.\n",
    "\n",
    "df3['density']=df3['population']/df3['area']\n",
    "\n",
    "print(df3)"
   ]
  },
  {
   "cell_type": "code",
   "execution_count": 71,
   "id": "356d33e0",
   "metadata": {},
   "outputs": [
    {
     "data": {
      "text/html": [
       "<div>\n",
       "<style scoped>\n",
       "    .dataframe tbody tr th:only-of-type {\n",
       "        vertical-align: middle;\n",
       "    }\n",
       "\n",
       "    .dataframe tbody tr th {\n",
       "        vertical-align: top;\n",
       "    }\n",
       "\n",
       "    .dataframe thead th {\n",
       "        text-align: right;\n",
       "    }\n",
       "</style>\n",
       "<table border=\"1\" class=\"dataframe\">\n",
       "  <thead>\n",
       "    <tr style=\"text-align: right;\">\n",
       "      <th></th>\n",
       "      <th>California</th>\n",
       "      <th>Texas</th>\n",
       "      <th>New York</th>\n",
       "      <th>Florida</th>\n",
       "      <th>Illinois</th>\n",
       "    </tr>\n",
       "  </thead>\n",
       "  <tbody>\n",
       "    <tr>\n",
       "      <th>area</th>\n",
       "      <td>4.239670e+05</td>\n",
       "      <td>6.956620e+05</td>\n",
       "      <td>1.412970e+05</td>\n",
       "      <td>1.703120e+05</td>\n",
       "      <td>1.499950e+05</td>\n",
       "    </tr>\n",
       "    <tr>\n",
       "      <th>population</th>\n",
       "      <td>3.833252e+07</td>\n",
       "      <td>2.644819e+07</td>\n",
       "      <td>1.965113e+07</td>\n",
       "      <td>1.955286e+07</td>\n",
       "      <td>1.288214e+07</td>\n",
       "    </tr>\n",
       "    <tr>\n",
       "      <th>density</th>\n",
       "      <td>9.041393e+01</td>\n",
       "      <td>3.801874e+01</td>\n",
       "      <td>1.390767e+02</td>\n",
       "      <td>1.148061e+02</td>\n",
       "      <td>8.588376e+01</td>\n",
       "    </tr>\n",
       "  </tbody>\n",
       "</table>\n",
       "</div>"
      ],
      "text/plain": [
       "              California         Texas      New York       Florida  \\\n",
       "area        4.239670e+05  6.956620e+05  1.412970e+05  1.703120e+05   \n",
       "population  3.833252e+07  2.644819e+07  1.965113e+07  1.955286e+07   \n",
       "density     9.041393e+01  3.801874e+01  1.390767e+02  1.148061e+02   \n",
       "\n",
       "                Illinois  \n",
       "area        1.499950e+05  \n",
       "population  1.288214e+07  \n",
       "density     8.588376e+01  "
      ]
     },
     "execution_count": 71,
     "metadata": {},
     "output_type": "execute_result"
    }
   ],
   "source": [
    "# c.\n",
    "# use transpose to swap rows and columns\n",
    "\n",
    "df3.transpose()"
   ]
  },
  {
   "cell_type": "code",
   "execution_count": 72,
   "id": "1fbea94e",
   "metadata": {},
   "outputs": [
    {
     "data": {
      "text/html": [
       "<div>\n",
       "<style scoped>\n",
       "    .dataframe tbody tr th:only-of-type {\n",
       "        vertical-align: middle;\n",
       "    }\n",
       "\n",
       "    .dataframe tbody tr th {\n",
       "        vertical-align: top;\n",
       "    }\n",
       "\n",
       "    .dataframe thead th {\n",
       "        text-align: right;\n",
       "    }\n",
       "</style>\n",
       "<table border=\"1\" class=\"dataframe\">\n",
       "  <thead>\n",
       "    <tr style=\"text-align: right;\">\n",
       "      <th></th>\n",
       "      <th>area</th>\n",
       "      <th>population</th>\n",
       "      <th>density</th>\n",
       "    </tr>\n",
       "  </thead>\n",
       "  <tbody>\n",
       "    <tr>\n",
       "      <th>California</th>\n",
       "      <td>423967</td>\n",
       "      <td>38332521</td>\n",
       "      <td>90.413926</td>\n",
       "    </tr>\n",
       "    <tr>\n",
       "      <th>Texas</th>\n",
       "      <td>695662</td>\n",
       "      <td>26448193</td>\n",
       "      <td>38.018740</td>\n",
       "    </tr>\n",
       "    <tr>\n",
       "      <th>New York</th>\n",
       "      <td>141297</td>\n",
       "      <td>19651127</td>\n",
       "      <td>139.076746</td>\n",
       "    </tr>\n",
       "    <tr>\n",
       "      <th>Florida</th>\n",
       "      <td>170312</td>\n",
       "      <td>19552860</td>\n",
       "      <td>114.806121</td>\n",
       "    </tr>\n",
       "    <tr>\n",
       "      <th>Illinois</th>\n",
       "      <td>149995</td>\n",
       "      <td>12882135</td>\n",
       "      <td>85.883763</td>\n",
       "    </tr>\n",
       "  </tbody>\n",
       "</table>\n",
       "</div>"
      ],
      "text/plain": [
       "              area  population     density\n",
       "California  423967    38332521   90.413926\n",
       "Texas       695662    26448193   38.018740\n",
       "New York    141297    19651127  139.076746\n",
       "Florida     170312    19552860  114.806121\n",
       "Illinois    149995    12882135   85.883763"
      ]
     },
     "execution_count": 72,
     "metadata": {},
     "output_type": "execute_result"
    }
   ],
   "source": [
    "df3"
   ]
  },
  {
   "cell_type": "code",
   "execution_count": 74,
   "id": "9cee2aca",
   "metadata": {},
   "outputs": [
    {
     "data": {
      "text/html": [
       "<div>\n",
       "<style scoped>\n",
       "    .dataframe tbody tr th:only-of-type {\n",
       "        vertical-align: middle;\n",
       "    }\n",
       "\n",
       "    .dataframe tbody tr th {\n",
       "        vertical-align: top;\n",
       "    }\n",
       "\n",
       "    .dataframe thead th {\n",
       "        text-align: right;\n",
       "    }\n",
       "</style>\n",
       "<table border=\"1\" class=\"dataframe\">\n",
       "  <thead>\n",
       "    <tr style=\"text-align: right;\">\n",
       "      <th></th>\n",
       "      <th>population</th>\n",
       "      <th>density</th>\n",
       "    </tr>\n",
       "  </thead>\n",
       "  <tbody>\n",
       "    <tr>\n",
       "      <th>California</th>\n",
       "      <td>38332521</td>\n",
       "      <td>90.413926</td>\n",
       "    </tr>\n",
       "    <tr>\n",
       "      <th>Texas</th>\n",
       "      <td>26448193</td>\n",
       "      <td>38.018740</td>\n",
       "    </tr>\n",
       "    <tr>\n",
       "      <th>Illinois</th>\n",
       "      <td>12882135</td>\n",
       "      <td>85.883763</td>\n",
       "    </tr>\n",
       "  </tbody>\n",
       "</table>\n",
       "</div>"
      ],
      "text/plain": [
       "            population    density\n",
       "California    38332521  90.413926\n",
       "Texas         26448193  38.018740\n",
       "Illinois      12882135  85.883763"
      ]
     },
     "execution_count": 74,
     "metadata": {},
     "output_type": "execute_result"
    }
   ],
   "source": [
    "# d.\n",
    "\n",
    "df3.loc[df3.density<100, ['population', 'density']]"
   ]
  },
  {
   "cell_type": "markdown",
   "id": "58970681",
   "metadata": {},
   "source": [
    "# Q9: Index Alignment in Series\n",
    "## a. add IS1 and IS2\n",
    "## b. add IS1 and IS2, fill 0 if any elements in A or B are missing"
   ]
  },
  {
   "cell_type": "code",
   "execution_count": 75,
   "id": "59045d27",
   "metadata": {},
   "outputs": [],
   "source": [
    "# run before you answer\n",
    "\n",
    "IS1 = pd.Series([2, 4, 6, 8,10], index=[0, 1, 2, 3, 4])\n",
    "IS2 = pd.Series([1, 3, 5, 7,9], index=[1, 2, 3, 4, 5])"
   ]
  },
  {
   "cell_type": "code",
   "execution_count": 77,
   "id": "df20b06f",
   "metadata": {},
   "outputs": [
    {
     "name": "stdout",
     "output_type": "stream",
     "text": [
      "0     NaN\n",
      "1     5.0\n",
      "2     9.0\n",
      "3    13.0\n",
      "4    17.0\n",
      "5     NaN\n",
      "dtype: float64\n"
     ]
    }
   ],
   "source": [
    "# a.\n",
    "\n",
    "print(IS1+IS2)"
   ]
  },
  {
   "cell_type": "code",
   "execution_count": 81,
   "id": "02b788f2",
   "metadata": {},
   "outputs": [
    {
     "name": "stdout",
     "output_type": "stream",
     "text": [
      "0     2.0\n",
      "1     5.0\n",
      "2     9.0\n",
      "3    13.0\n",
      "4    17.0\n",
      "5     9.0\n",
      "dtype: float64\n"
     ]
    }
   ],
   "source": [
    "# b.\n",
    "print(IS1.add(IS2, fill_value=0))"
   ]
  },
  {
   "cell_type": "markdown",
   "id": "d77c1c16",
   "metadata": {},
   "source": [
    "# Q10: Index Alignment in DataFrame\n",
    "## a. add IS3 and IS4\n",
    "## b. add IS3 and IS4, fill mean value of IS3 or IS4 DataFrame if any elements in A or B are missing respectively."
   ]
  },
  {
   "cell_type": "code",
   "execution_count": 82,
   "id": "be0c0965",
   "metadata": {},
   "outputs": [],
   "source": [
    "IS3 = pd.DataFrame([[1, 2],[3, 4]], columns=list('AB'))\n",
    "IS4 = pd.DataFrame([[1, 2, 3], [4, 5, 6], [7, 8, 9]], columns=list('BAC'))"
   ]
  },
  {
   "cell_type": "code",
   "execution_count": 83,
   "id": "7aed9caa",
   "metadata": {},
   "outputs": [
    {
     "name": "stdout",
     "output_type": "stream",
     "text": [
      "   A  B\n",
      "0  1  2\n",
      "1  3  4\n",
      "   B  A  C\n",
      "0  1  2  3\n",
      "1  4  5  6\n",
      "2  7  8  9\n"
     ]
    }
   ],
   "source": [
    "print(IS3)\n",
    "print(IS4)"
   ]
  },
  {
   "cell_type": "code",
   "execution_count": 85,
   "id": "3cf1d767",
   "metadata": {},
   "outputs": [
    {
     "data": {
      "text/html": [
       "<div>\n",
       "<style scoped>\n",
       "    .dataframe tbody tr th:only-of-type {\n",
       "        vertical-align: middle;\n",
       "    }\n",
       "\n",
       "    .dataframe tbody tr th {\n",
       "        vertical-align: top;\n",
       "    }\n",
       "\n",
       "    .dataframe thead th {\n",
       "        text-align: right;\n",
       "    }\n",
       "</style>\n",
       "<table border=\"1\" class=\"dataframe\">\n",
       "  <thead>\n",
       "    <tr style=\"text-align: right;\">\n",
       "      <th></th>\n",
       "      <th>A</th>\n",
       "      <th>B</th>\n",
       "      <th>C</th>\n",
       "    </tr>\n",
       "  </thead>\n",
       "  <tbody>\n",
       "    <tr>\n",
       "      <th>0</th>\n",
       "      <td>3.0</td>\n",
       "      <td>3.0</td>\n",
       "      <td>NaN</td>\n",
       "    </tr>\n",
       "    <tr>\n",
       "      <th>1</th>\n",
       "      <td>8.0</td>\n",
       "      <td>8.0</td>\n",
       "      <td>NaN</td>\n",
       "    </tr>\n",
       "    <tr>\n",
       "      <th>2</th>\n",
       "      <td>NaN</td>\n",
       "      <td>NaN</td>\n",
       "      <td>NaN</td>\n",
       "    </tr>\n",
       "  </tbody>\n",
       "</table>\n",
       "</div>"
      ],
      "text/plain": [
       "     A    B   C\n",
       "0  3.0  3.0 NaN\n",
       "1  8.0  8.0 NaN\n",
       "2  NaN  NaN NaN"
      ]
     },
     "execution_count": 85,
     "metadata": {},
     "output_type": "execute_result"
    }
   ],
   "source": [
    "# a. \n",
    "\n",
    "IS3+IS4"
   ]
  },
  {
   "cell_type": "code",
   "execution_count": 89,
   "id": "b9832940",
   "metadata": {},
   "outputs": [
    {
     "data": {
      "text/plain": [
       "2.5"
      ]
     },
     "execution_count": 89,
     "metadata": {},
     "output_type": "execute_result"
    }
   ],
   "source": [
    "IS3.stack().mean() "
   ]
  },
  {
   "cell_type": "code",
   "execution_count": 88,
   "id": "da0051a1",
   "metadata": {},
   "outputs": [
    {
     "data": {
      "text/html": [
       "<div>\n",
       "<style scoped>\n",
       "    .dataframe tbody tr th:only-of-type {\n",
       "        vertical-align: middle;\n",
       "    }\n",
       "\n",
       "    .dataframe tbody tr th {\n",
       "        vertical-align: top;\n",
       "    }\n",
       "\n",
       "    .dataframe thead th {\n",
       "        text-align: right;\n",
       "    }\n",
       "</style>\n",
       "<table border=\"1\" class=\"dataframe\">\n",
       "  <thead>\n",
       "    <tr style=\"text-align: right;\">\n",
       "      <th></th>\n",
       "      <th>A</th>\n",
       "      <th>B</th>\n",
       "      <th>C</th>\n",
       "    </tr>\n",
       "  </thead>\n",
       "  <tbody>\n",
       "    <tr>\n",
       "      <th>0</th>\n",
       "      <td>3.0</td>\n",
       "      <td>3.0</td>\n",
       "      <td>5.5</td>\n",
       "    </tr>\n",
       "    <tr>\n",
       "      <th>1</th>\n",
       "      <td>8.0</td>\n",
       "      <td>8.0</td>\n",
       "      <td>8.5</td>\n",
       "    </tr>\n",
       "    <tr>\n",
       "      <th>2</th>\n",
       "      <td>10.5</td>\n",
       "      <td>9.5</td>\n",
       "      <td>11.5</td>\n",
       "    </tr>\n",
       "  </tbody>\n",
       "</table>\n",
       "</div>"
      ],
      "text/plain": [
       "      A    B     C\n",
       "0   3.0  3.0   5.5\n",
       "1   8.0  8.0   8.5\n",
       "2  10.5  9.5  11.5"
      ]
     },
     "execution_count": 88,
     "metadata": {},
     "output_type": "execute_result"
    }
   ],
   "source": [
    "# b.\n",
    "\n",
    "fill=IS3.stack().mean()\n",
    "IS3.add(IS4, fill_value=fill)"
   ]
  }
 ],
 "metadata": {
  "kernelspec": {
   "display_name": "Python 3.10.2 64-bit",
   "language": "python",
   "name": "python3"
  },
  "language_info": {
   "codemirror_mode": {
    "name": "ipython",
    "version": 3
   },
   "file_extension": ".py",
   "mimetype": "text/x-python",
   "name": "python",
   "nbconvert_exporter": "python",
   "pygments_lexer": "ipython3",
   "version": "3.10.2"
  },
  "toc": {
   "base_numbering": 1,
   "nav_menu": {},
   "number_sections": true,
   "sideBar": true,
   "skip_h1_title": false,
   "title_cell": "Table of Contents",
   "title_sidebar": "Contents",
   "toc_cell": false,
   "toc_position": {},
   "toc_section_display": true,
   "toc_window_display": true
  },
  "vscode": {
   "interpreter": {
    "hash": "eb6335f86049935ab3a1e6168a640c161cd4c2d3c8bde3a37ebd86b9bd3e1c1e"
   }
  }
 },
 "nbformat": 4,
 "nbformat_minor": 5
}
