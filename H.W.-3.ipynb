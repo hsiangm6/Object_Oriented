{
 "cells": [
  {
   "cell_type": "code",
   "execution_count": 1,
   "id": "355fa6b8",
   "metadata": {},
   "outputs": [],
   "source": [
    "# import relate packages\n",
    "import numpy as np"
   ]
  },
  {
   "cell_type": "code",
   "execution_count": 77,
   "id": "4efc34d1",
   "metadata": {},
   "outputs": [],
   "source": [
    "np.random.seed(0)\n",
    "X1 = np.random.randint(100, size = (10))\n",
    "X2 = np.random.randint(100, size = (4, 4))"
   ]
  },
  {
   "cell_type": "markdown",
   "id": "7c29285b",
   "metadata": {},
   "source": [
    "**Question 1: Fancy Indexing**"
   ]
  },
  {
   "cell_type": "markdown",
   "id": "ecb391df",
   "metadata": {},
   "source": [
    "- a. Print X1\n",
    "- b. Print the 2nd, 6th, 3rd, 8th (0-indexing) elements in X1\n",
    "- c. Create a new array by X1 with index [ 2, 6, 3, 8 ]\n",
    "- d. Create a new array by X1 with index [ [2, 6], [3, 8] ]"
   ]
  },
  {
   "cell_type": "code",
   "execution_count": 78,
   "id": "3a439c1a",
   "metadata": {},
   "outputs": [
    {
     "name": "stdout",
     "output_type": "stream",
     "text": [
      "[44 47 64 67 67  9 83 21 36 87]\n"
     ]
    }
   ],
   "source": [
    "# a.\n",
    "print(X1)\n"
   ]
  },
  {
   "cell_type": "code",
   "execution_count": 79,
   "id": "c05b82d8",
   "metadata": {},
   "outputs": [
    {
     "name": "stdout",
     "output_type": "stream",
     "text": [
      "64\n",
      "83\n",
      "67\n",
      "36\n"
     ]
    }
   ],
   "source": [
    "# b.\n",
    "print(X1[2])\n",
    "print(X1[6])\n",
    "print(X1[3])\n",
    "print(X1[8])"
   ]
  },
  {
   "cell_type": "code",
   "execution_count": 80,
   "id": "5b404a09",
   "metadata": {},
   "outputs": [
    {
     "name": "stdout",
     "output_type": "stream",
     "text": [
      "[64 83 67 36]\n"
     ]
    }
   ],
   "source": [
    "# c.\n",
    "ind=[2, 6, 3, 8]\n",
    "print(X1[ind])"
   ]
  },
  {
   "cell_type": "code",
   "execution_count": 81,
   "id": "615e7a75",
   "metadata": {},
   "outputs": [
    {
     "name": "stdout",
     "output_type": "stream",
     "text": [
      "[[64 83]\n",
      " [67 36]]\n"
     ]
    }
   ],
   "source": [
    "# d. \n",
    "ind=np.array([[2, 6], [3, 8]])\n",
    "print(X1[ind])"
   ]
  },
  {
   "cell_type": "markdown",
   "id": "ae25fd8e",
   "metadata": {},
   "source": [
    "**Question 2: Fancy Indexing**"
   ]
  },
  {
   "cell_type": "markdown",
   "id": "eb5e46c4",
   "metadata": {},
   "source": [
    "- a. print X2\n",
    "- b. print the [1,3], [2,2], [3,1] elements in X2\n",
    "- c. create a new array by X2 with index [[1, 2, 3], [3, 2, 1]]\n",
    "- d. create a new array that is a submatrix of X2\n",
    "    - whose rows are indexed by [1, 2, 3] and\n",
    "    - whose columns are indexed by [3, 2, 1]\n",
    "    - Try use: [row[:, np.newaxis], col]"
   ]
  },
  {
   "cell_type": "code",
   "execution_count": 82,
   "id": "aef0cf53",
   "metadata": {},
   "outputs": [
    {
     "name": "stdout",
     "output_type": "stream",
     "text": [
      "[[70 88 88 12]\n",
      " [58 65 39 87]\n",
      " [46 88 81 37]\n",
      " [25 77 72  9]]\n"
     ]
    }
   ],
   "source": [
    "# a.\n",
    "print(X2)"
   ]
  },
  {
   "cell_type": "code",
   "execution_count": 83,
   "id": "a6bf3675",
   "metadata": {},
   "outputs": [
    {
     "name": "stdout",
     "output_type": "stream",
     "text": [
      "87\n",
      "81\n",
      "77\n"
     ]
    }
   ],
   "source": [
    "# b.\n",
    "print(X2[1, 3])\n",
    "print(X2[2, 2])\n",
    "print(X2[3, 1])"
   ]
  },
  {
   "cell_type": "code",
   "execution_count": 84,
   "id": "9a0fc5ab",
   "metadata": {},
   "outputs": [
    {
     "name": "stdout",
     "output_type": "stream",
     "text": [
      "[87 81 77]\n"
     ]
    }
   ],
   "source": [
    "# c.\n",
    "row=np.array([1, 2, 3])\n",
    "col=np.array([3, 2, 1])\n",
    "print(X2[row, col])\n"
   ]
  },
  {
   "cell_type": "code",
   "execution_count": 85,
   "id": "a863f2f1",
   "metadata": {},
   "outputs": [
    {
     "name": "stdout",
     "output_type": "stream",
     "text": [
      "[[87 39 65]\n",
      " [37 81 88]\n",
      " [ 9 72 77]]\n"
     ]
    }
   ],
   "source": [
    "# d.\n",
    "row=np.array([1, 2, 3])\n",
    "col=np.array([3, 2, 1])\n",
    "print(X2[row[:, np.newaxis], col])"
   ]
  },
  {
   "cell_type": "markdown",
   "id": "22985547",
   "metadata": {},
   "source": [
    "**Q3: Combining fancy indexing with other indexing schemes**"
   ]
  },
  {
   "cell_type": "markdown",
   "id": "f083a3da",
   "metadata": {},
   "source": [
    "- a. print X2\n",
    "- b. print the 3rd (0-indexing) row of X2 as a 1-dimensional array\n",
    "- c. print a 1-dimensional array\n",
    "     - whose entries are the 3rd, 1st, 2nd entries of the 3rd row of X2\n",
    "- d. create a new array that is a submatrix of X2\n",
    "     - whose rows are indexed by [2,1] and\n",
    "     - whose columns are indexed by [3,1,2]"
   ]
  },
  {
   "cell_type": "code",
   "execution_count": 22,
   "id": "c907c922",
   "metadata": {},
   "outputs": [
    {
     "name": "stdout",
     "output_type": "stream",
     "text": [
      "[[70 88 88 12]\n",
      " [58 65 39 87]\n",
      " [46 88 81 37]\n",
      " [25 77 72  9]]\n"
     ]
    }
   ],
   "source": [
    "# a.\n",
    "print(X2)"
   ]
  },
  {
   "cell_type": "code",
   "execution_count": 24,
   "id": "699261ca",
   "metadata": {},
   "outputs": [
    {
     "name": "stdout",
     "output_type": "stream",
     "text": [
      "[25 77 72  9]\n"
     ]
    }
   ],
   "source": [
    "# b.\n",
    "print(X2[3,:])"
   ]
  },
  {
   "cell_type": "code",
   "execution_count": 27,
   "id": "7dc02574",
   "metadata": {},
   "outputs": [
    {
     "name": "stdout",
     "output_type": "stream",
     "text": [
      "[[ 9 77 72]]\n"
     ]
    }
   ],
   "source": [
    "# c.\n",
    "print(X2[3:,[3, 1, 2]])"
   ]
  },
  {
   "cell_type": "code",
   "execution_count": 30,
   "id": "fa355ba9",
   "metadata": {},
   "outputs": [
    {
     "name": "stdout",
     "output_type": "stream",
     "text": [
      "[[37 88 81]\n",
      " [87 65 39]]\n"
     ]
    }
   ],
   "source": [
    "# d.\n",
    "row=np.array([2, 1])\n",
    "col=np.array([3, 1, 2])\n",
    "print(X2[row[:, np.newaxis],col])"
   ]
  },
  {
   "cell_type": "markdown",
   "id": "297f8e26",
   "metadata": {},
   "source": [
    "**Q4: Modifying values with fancy indexing**"
   ]
  },
  {
   "cell_type": "code",
   "execution_count": 86,
   "id": "283a1067",
   "metadata": {},
   "outputs": [],
   "source": [
    "X3 = np.arange(10)"
   ]
  },
  {
   "cell_type": "markdown",
   "id": "98a941d8",
   "metadata": {},
   "source": [
    "- a. print X3\n",
    "- b. change the 3rd, 6th, 8th values in X3 into 15\n",
    "- c. substract 10 from the 2nd, 6th and 8th elements in X3"
   ]
  },
  {
   "cell_type": "code",
   "execution_count": 87,
   "id": "dfbc0638",
   "metadata": {},
   "outputs": [
    {
     "name": "stdout",
     "output_type": "stream",
     "text": [
      "[0 1 2 3 4 5 6 7 8 9]\n"
     ]
    }
   ],
   "source": [
    "# a.\n",
    "print(X3)"
   ]
  },
  {
   "cell_type": "code",
   "execution_count": 88,
   "id": "bfde5ed3",
   "metadata": {},
   "outputs": [
    {
     "name": "stdout",
     "output_type": "stream",
     "text": [
      "[ 0  1  2 15  4  5 15  7 15  9]\n"
     ]
    }
   ],
   "source": [
    "# b.\n",
    "X3[3]=15\n",
    "X3[6]=15\n",
    "X3[8]=15\n",
    "print(X3)"
   ]
  },
  {
   "cell_type": "code",
   "execution_count": 89,
   "id": "b2358cbb",
   "metadata": {},
   "outputs": [
    {
     "name": "stdout",
     "output_type": "stream",
     "text": [
      "[ 0  1 -8 15  4  5  5  7  5  9]\n"
     ]
    }
   ],
   "source": [
    "# c.\n",
    "X3[2]-=10\n",
    "X3[6]-=10\n",
    "X3[8]-=10\n",
    "print(X3)"
   ]
  },
  {
   "cell_type": "markdown",
   "id": "c163b868",
   "metadata": {},
   "source": [
    "**Q5: Sorting and argsorting of rows or columns**"
   ]
  },
  {
   "cell_type": "markdown",
   "id": "c653019f",
   "metadata": {},
   "source": [
    "- a. sort each column of X2\n",
    "- b. sort each row of X2\n",
    "- c. gives the order index along the columns of X2\n",
    "- d. gives the order index along the rows of X2"
   ]
  },
  {
   "cell_type": "code",
   "execution_count": 90,
   "id": "78c4fea2",
   "metadata": {},
   "outputs": [
    {
     "data": {
      "text/plain": [
       "array([[70, 88, 88, 12],\n",
       "       [58, 65, 39, 87],\n",
       "       [46, 88, 81, 37],\n",
       "       [25, 77, 72,  9]])"
      ]
     },
     "execution_count": 90,
     "metadata": {},
     "output_type": "execute_result"
    }
   ],
   "source": [
    "X2"
   ]
  },
  {
   "cell_type": "code",
   "execution_count": 91,
   "id": "9ee4fb9e",
   "metadata": {},
   "outputs": [
    {
     "data": {
      "text/plain": [
       "array([[25, 65, 39,  9],\n",
       "       [46, 77, 72, 12],\n",
       "       [58, 88, 81, 37],\n",
       "       [70, 88, 88, 87]])"
      ]
     },
     "execution_count": 91,
     "metadata": {},
     "output_type": "execute_result"
    }
   ],
   "source": [
    "# a.\n",
    "X5=np.sort(X2, axis=0)\n",
    "X5"
   ]
  },
  {
   "cell_type": "code",
   "execution_count": 92,
   "id": "be4a75d9",
   "metadata": {},
   "outputs": [
    {
     "data": {
      "text/plain": [
       "array([[12, 70, 88, 88],\n",
       "       [39, 58, 65, 87],\n",
       "       [37, 46, 81, 88],\n",
       "       [ 9, 25, 72, 77]])"
      ]
     },
     "execution_count": 92,
     "metadata": {},
     "output_type": "execute_result"
    }
   ],
   "source": [
    "# b.\n",
    "X6=np.sort(X2, axis=1)\n",
    "X6"
   ]
  },
  {
   "cell_type": "code",
   "execution_count": 93,
   "id": "fc221396",
   "metadata": {},
   "outputs": [
    {
     "data": {
      "text/plain": [
       "array([[3, 1, 1, 3],\n",
       "       [2, 3, 3, 0],\n",
       "       [1, 0, 2, 2],\n",
       "       [0, 2, 0, 1]], dtype=int64)"
      ]
     },
     "execution_count": 93,
     "metadata": {},
     "output_type": "execute_result"
    }
   ],
   "source": [
    "# c.\n",
    "i5=np.argsort(X2, axis=0)\n",
    "i5"
   ]
  },
  {
   "cell_type": "code",
   "execution_count": 94,
   "id": "ca8b00db",
   "metadata": {},
   "outputs": [
    {
     "data": {
      "text/plain": [
       "array([[3, 0, 1, 2],\n",
       "       [2, 0, 1, 3],\n",
       "       [3, 0, 2, 1],\n",
       "       [3, 0, 2, 1]], dtype=int64)"
      ]
     },
     "execution_count": 94,
     "metadata": {},
     "output_type": "execute_result"
    }
   ],
   "source": [
    "# d.\n",
    "i6=np.argsort(X2)\n",
    "i6"
   ]
  }
 ],
 "metadata": {
  "kernelspec": {
   "display_name": "Python 3.10.2 64-bit",
   "language": "python",
   "name": "python3"
  },
  "language_info": {
   "codemirror_mode": {
    "name": "ipython",
    "version": 3
   },
   "file_extension": ".py",
   "mimetype": "text/x-python",
   "name": "python",
   "nbconvert_exporter": "python",
   "pygments_lexer": "ipython3",
   "version": "3.10.2"
  },
  "toc": {
   "base_numbering": 1,
   "nav_menu": {},
   "number_sections": true,
   "sideBar": true,
   "skip_h1_title": false,
   "title_cell": "Table of Contents",
   "title_sidebar": "Contents",
   "toc_cell": false,
   "toc_position": {},
   "toc_section_display": true,
   "toc_window_display": false
  },
  "vscode": {
   "interpreter": {
    "hash": "eb6335f86049935ab3a1e6168a640c161cd4c2d3c8bde3a37ebd86b9bd3e1c1e"
   }
  }
 },
 "nbformat": 4,
 "nbformat_minor": 5
}
